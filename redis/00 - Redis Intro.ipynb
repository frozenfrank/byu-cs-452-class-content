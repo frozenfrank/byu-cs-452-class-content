{
 "cells": [
  {
   "cell_type": "code",
   "execution_count": null,
   "metadata": {},
   "outputs": [],
   "source": [
    "# Setup redis\n",
    "%pip install redis"
   ]
  },
  {
   "cell_type": "code",
   "execution_count": null,
   "metadata": {},
   "outputs": [],
   "source": [
    "fullName = \"Full Name\" # <--- PUT YOUR FULL NAME HERE (e.g. Jimmy Jones)\n",
    "\n",
    "assert fullName != \"Full Name\"\n",
    "\n",
    "password = input(\"Enter the password displayed on the projector in class! \\nPassword: \")\n",
    "print(f\"You entered: {password}\")"
   ]
  },
  {
   "cell_type": "code",
   "execution_count": null,
   "metadata": {},
   "outputs": [],
   "source": [
    "# Connect\n",
    "\n",
    "import redis\n",
    "import time\n",
    "\n",
    "host = 'redis-14624.c256.us-east-1-2.ec2.redns.redis-cloud.com'\n",
    "port = 14624   \n",
    "username = 'CS452'\n",
    "\n",
    "r = redis.Redis(host=host, port=port, password=password, db=0, username=username)"
   ]
  },
  {
   "cell_type": "code",
   "execution_count": null,
   "metadata": {},
   "outputs": [],
   "source": [
    "# set \n",
    "\n",
    "r.set(fullName, 'hello world') # True"
   ]
  },
  {
   "cell_type": "code",
   "execution_count": null,
   "metadata": {},
   "outputs": [],
   "source": [
    "# get\n",
    "result = r.get(fullName)\n",
    "\n",
    "print(result.decode())"
   ]
  },
  {
   "cell_type": "code",
   "execution_count": null,
   "metadata": {},
   "outputs": [],
   "source": [
    "# set with expiry!\n",
    "\n",
    "myKey = 'expiringKey_' + fullName\n",
    "r.set(myKey, \"I only get to be here for a short time\", ex=3)\n",
    "\n",
    "start = time.time()\n",
    "while result := r.get(myKey):\n",
    "    print(result, time.time() - start, myKey)\n",
    "\n",
    "print(\"result gone!\")"
   ]
  },
  {
   "cell_type": "code",
   "execution_count": null,
   "metadata": {},
   "outputs": [],
   "source": [
    "# delete\n",
    "\n",
    "r.delete(fullName)\n",
    "ans = r.get(fullName)\n",
    "\n",
    "if ans == None:\n",
    "    print(f'key \"{fullName}\" is not there anymore.')\n",
    "else:\n",
    "    print(f'key \"{fullName}\" is {ans.decode()}') "
   ]
  },
  {
   "cell_type": "code",
   "execution_count": null,
   "metadata": {},
   "outputs": [],
   "source": [
    "# sets! and sismember\n",
    "\n",
    "setKey = \"iwashere\"\n",
    "print(\"Did you sign the guest book?\")\n",
    "print(\"yes\" if r.sismember(setKey, fullName) else \"no\")"
   ]
  },
  {
   "cell_type": "code",
   "execution_count": null,
   "metadata": {},
   "outputs": [],
   "source": [
    "# sadd\n",
    "\n",
    "r.sadd(setKey, fullName)"
   ]
  },
  {
   "cell_type": "code",
   "execution_count": null,
   "metadata": {},
   "outputs": [],
   "source": [
    "# sismember\n",
    "\n",
    "print(\"Did you sign the guest book?\")\n",
    "print(\"yes\" if r.sismember(setKey, fullName) else \"no\")"
   ]
  },
  {
   "cell_type": "code",
   "execution_count": null,
   "metadata": {},
   "outputs": [],
   "source": [
    "# scard and smembers\n",
    "\n",
    "print(f\"We have {r.scard(setKey)} {'entry' if r.scard(setKey) == 1 else 'entries'}!\")\n",
    "print(r.smembers(\"iwashere\"))"
   ]
  },
  {
   "cell_type": "code",
   "execution_count": null,
   "metadata": {},
   "outputs": [],
   "source": [
    "# incr\n",
    "\n",
    "print(\"ring the bell!\")\n",
    "result = r.incr(\"bell\")\n",
    "\n",
    "print(f\"This was the ring number {result}!\")\n",
    "\n",
    "# When would this be useful? Inventory?"
   ]
  },
  {
   "cell_type": "code",
   "execution_count": null,
   "metadata": {},
   "outputs": [],
   "source": [
    "# Unsafe Transfers..\n",
    "\n",
    "for _ in range(4):\n",
    "    print(\"--- LOOP ---\")\n",
    "\n",
    "    # Starting amounts\n",
    "    print(f'Staring: fred$ = {r.get(\"fredsMoney\")}, george$ = {r.get(\"georgesMoney\")}')\n",
    "\n",
    "\n",
    "    # Unsafe transfer $100\n",
    "    fredsMoney = r.get(\"fredsMoney\")\n",
    "    fredsMoney = r.set(\"fredsMoney\", int(fredsMoney.decode()) - 100)\n",
    "\n",
    "    georgesMoney = r.get(\"georgesMoney\")\n",
    "    georgesMoney = r.set(\"georgesMoney\", int(georgesMoney.decode()) + 100)\n",
    "\n",
    "    print(f'Transfered: fred$ = {r.get(\"fredsMoney\")}, george$ = {r.get(\"georgesMoney\")}')\n",
    "\n",
    "    # Unsafe transfer the money back!\n",
    "    fredsMoney = r.get(\"fredsMoney\")\n",
    "    fredsMoney = r.set(\"fredsMoney\", int(fredsMoney.decode()) + 100)\n",
    "\n",
    "    georgesMoney = r.get(\"georgesMoney\")\n",
    "    georgesMoney = r.set(\"georgesMoney\", int(georgesMoney.decode()) - 100)\n",
    "\n",
    "    # Ending amounts\n",
    "    print(f'Transfered back: fred$ = {r.get(\"fredsMoney\")}, george$ = {r.get(\"georgesMoney\")}')"
   ]
  },
  {
   "cell_type": "code",
   "execution_count": null,
   "metadata": {},
   "outputs": [],
   "source": [
    "# Fix Fred and George's accounts\n",
    "r.set(\"fredsMoney\", 10000)\n",
    "r.set(\"georgesMoney\", 10000)"
   ]
  },
  {
   "cell_type": "code",
   "execution_count": null,
   "metadata": {},
   "outputs": [],
   "source": [
    "# Transfer with locking!  set(ex and nx = True)\n",
    "\n",
    "# Safe Transfers..\n",
    "safeTransferLockName = \"cs452PatienceLock\"\n",
    "def getLock():\n",
    "    print(\"Waiting for lock...\", end=\"\")\n",
    "    while True:\n",
    "        if r.set(safeTransferLockName, \"MINE!\", ex=2, nx=True):\n",
    "            print()\n",
    "            print(\"SET LOCK\")\n",
    "            return\n",
    "        print(\".\", end=\"\")\n",
    "        time.sleep(.01)\n",
    "\n",
    "def releaseLock():\n",
    "    print(\"RELEASED LOCK\")\n",
    "    r.delete(safeTransferLockName)\n",
    "\n",
    "\n",
    "for _ in range(4):\n",
    "    print(\"--- LOOP ---\")\n",
    "    getLock()  # <--------- GET THE LOCK ----------------<<\n",
    "\n",
    "    # Starting amounts\n",
    "    print(f'Staring: fred$ = {r.get(\"fredsMoney\")}, george$ = {r.get(\"georgesMoney\")}')\n",
    "\n",
    "\n",
    "    # Safe transfer $100\n",
    "    fredsMoney = r.get(\"fredsMoney\")\n",
    "    fredsMoney = r.set(\"fredsMoney\", int(fredsMoney.decode()) - 100)\n",
    "\n",
    "    georgesMoney = r.get(\"georgesMoney\")\n",
    "    georgesMoney = r.set(\"georgesMoney\", int(georgesMoney.decode()) + 100)\n",
    "\n",
    "    print(f'Transfered: fred$ = {r.get(\"fredsMoney\")}, george$ = {r.get(\"georgesMoney\")}')\n",
    "\n",
    "    # Safe transfer the money back!\n",
    "    fredsMoney = r.get(\"fredsMoney\")\n",
    "    fredsMoney = r.set(\"fredsMoney\", int(fredsMoney.decode()) + 100)\n",
    "\n",
    "    georgesMoney = r.get(\"georgesMoney\")\n",
    "    georgesMoney = r.set(\"georgesMoney\", int(georgesMoney.decode()) - 100)\n",
    "\n",
    "    # Ending amounts\n",
    "    print(f'Transfered back: fred$ = {r.get(\"fredsMoney\")}, george$ = {r.get(\"georgesMoney\")}')\n",
    "\n",
    "    releaseLock() # <------------ RELEASE THE LOCK -------------------<<"
   ]
  },
  {
   "cell_type": "code",
   "execution_count": null,
   "metadata": {},
   "outputs": [],
   "source": [
    "# Barriers and work queues\n",
    "barrierKey = \"everyOneIsWaitingForThis\"\n"
   ]
  },
  {
   "cell_type": "code",
   "execution_count": null,
   "metadata": {},
   "outputs": [],
   "source": [
    "# Restore the work queue\n",
    "r.rpush(\"serviceQueueKey\", f\"Wash dishes for {fullName}\")\n",
    "r.rpush(\"serviceQueueKey\", f\"Cook dinner for {fullName}\")\n",
    "r.rpush(\"serviceQueueKey\", *[f\"Service Opportunity for ({fullName})\" for _ in range(3)])"
   ]
  },
  {
   "cell_type": "code",
   "execution_count": null,
   "metadata": {},
   "outputs": [],
   "source": [
    "# Barrier\n",
    "timeout = time.time() + 120 # two minutes\n",
    "def waitOnBarrier():\n",
    "    print(\"Wait for barrier...\")\n",
    "    while not r.get(barrierKey):\n",
    "        print(\".\", end=\"\")\n",
    "        time.sleep(.01)\n",
    "        if time.time() > timeout:\n",
    "            raise TimeoutError(\"Waiting too long for barrier! Try again?\")\n",
    "    \n",
    "    print()\n",
    "    print(\"Go!\")\n",
    "\n",
    "waitOnBarrier()\n",
    "\n",
    "# Pull work off of work queue!\n",
    "for _ in range(10):\n",
    "    result = r.lpop(\"serviceQueueKey\")\n",
    "    print(result)"
   ]
  },
  {
   "cell_type": "code",
   "execution_count": null,
   "metadata": {},
   "outputs": [],
   "source": [
    "# Allow Barrier\n",
    "r.set(barrierKey, \"Let them go!\", ex=5)"
   ]
  },
  {
   "cell_type": "code",
   "execution_count": null,
   "metadata": {},
   "outputs": [],
   "source": [
    "# Block Barrier  \n",
    "r.delete(barrierKey) # Should be an expiring key already, but just in case someone put something else in :)"
   ]
  }
 ],
 "metadata": {
  "kernelspec": {
   "display_name": "Python 3",
   "language": "python",
   "name": "python3"
  },
  "language_info": {
   "codemirror_mode": {
    "name": "ipython",
    "version": 3
   },
   "file_extension": ".py",
   "mimetype": "text/x-python",
   "name": "python",
   "nbconvert_exporter": "python",
   "pygments_lexer": "ipython3",
   "version": "3.11.3"
  }
 },
 "nbformat": 4,
 "nbformat_minor": 2
}
