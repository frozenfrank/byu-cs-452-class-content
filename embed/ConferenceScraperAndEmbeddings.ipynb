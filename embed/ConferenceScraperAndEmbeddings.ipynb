{
  "nbformat": 4,
  "nbformat_minor": 0,
  "metadata": {
    "colab": {
      "provenance": [],
      "include_colab_link": true
    },
    "kernelspec": {
      "name": "python3",
      "display_name": "Python 3"
    },
    "language_info": {
      "name": "python"
    },
    "widgets": {
      "application/vnd.jupyter.widget-state+json": {
        "90d46f473f564ae384a2e6d9421b34f4": {
          "model_module": "@jupyter-widgets/controls",
          "model_name": "HBoxModel",
          "model_module_version": "1.5.0",
          "state": {
            "_dom_classes": [],
            "_model_module": "@jupyter-widgets/controls",
            "_model_module_version": "1.5.0",
            "_model_name": "HBoxModel",
            "_view_count": null,
            "_view_module": "@jupyter-widgets/controls",
            "_view_module_version": "1.5.0",
            "_view_name": "HBoxView",
            "box_style": "",
            "children": [
              "IPY_MODEL_2573900377c5429286ad0c88ce913c7e",
              "IPY_MODEL_7027683437754b41aabc19c31356cb32",
              "IPY_MODEL_7c93f579a3934b7199f4743fc59950d2"
            ],
            "layout": "IPY_MODEL_263b88f0225a44fd97878b6891dc860c"
          }
        },
        "2573900377c5429286ad0c88ce913c7e": {
          "model_module": "@jupyter-widgets/controls",
          "model_name": "HTMLModel",
          "model_module_version": "1.5.0",
          "state": {
            "_dom_classes": [],
            "_model_module": "@jupyter-widgets/controls",
            "_model_module_version": "1.5.0",
            "_model_name": "HTMLModel",
            "_view_count": null,
            "_view_module": "@jupyter-widgets/controls",
            "_view_module_version": "1.5.0",
            "_view_name": "HTMLView",
            "description": "",
            "description_tooltip": null,
            "layout": "IPY_MODEL_24256927e7954a71a27f7194c1eb5984",
            "placeholder": "​",
            "style": "IPY_MODEL_3ec26369e6ed425b92459da055de57ae",
            "value": "modules.json: 100%"
          }
        },
        "7027683437754b41aabc19c31356cb32": {
          "model_module": "@jupyter-widgets/controls",
          "model_name": "FloatProgressModel",
          "model_module_version": "1.5.0",
          "state": {
            "_dom_classes": [],
            "_model_module": "@jupyter-widgets/controls",
            "_model_module_version": "1.5.0",
            "_model_name": "FloatProgressModel",
            "_view_count": null,
            "_view_module": "@jupyter-widgets/controls",
            "_view_module_version": "1.5.0",
            "_view_name": "ProgressView",
            "bar_style": "success",
            "description": "",
            "description_tooltip": null,
            "layout": "IPY_MODEL_c6f09e275d894448819d068d0ca8e4b9",
            "max": 349,
            "min": 0,
            "orientation": "horizontal",
            "style": "IPY_MODEL_701514c7f776497e91dc9fba0aaa766c",
            "value": 349
          }
        },
        "7c93f579a3934b7199f4743fc59950d2": {
          "model_module": "@jupyter-widgets/controls",
          "model_name": "HTMLModel",
          "model_module_version": "1.5.0",
          "state": {
            "_dom_classes": [],
            "_model_module": "@jupyter-widgets/controls",
            "_model_module_version": "1.5.0",
            "_model_name": "HTMLModel",
            "_view_count": null,
            "_view_module": "@jupyter-widgets/controls",
            "_view_module_version": "1.5.0",
            "_view_name": "HTMLView",
            "description": "",
            "description_tooltip": null,
            "layout": "IPY_MODEL_191eb94b2d4942dbaefd8760fd20303e",
            "placeholder": "​",
            "style": "IPY_MODEL_d390eca257d64c4da1506b07c6d2ce9e",
            "value": " 349/349 [00:00&lt;00:00, 4.09kB/s]"
          }
        },
        "263b88f0225a44fd97878b6891dc860c": {
          "model_module": "@jupyter-widgets/base",
          "model_name": "LayoutModel",
          "model_module_version": "1.2.0",
          "state": {
            "_model_module": "@jupyter-widgets/base",
            "_model_module_version": "1.2.0",
            "_model_name": "LayoutModel",
            "_view_count": null,
            "_view_module": "@jupyter-widgets/base",
            "_view_module_version": "1.2.0",
            "_view_name": "LayoutView",
            "align_content": null,
            "align_items": null,
            "align_self": null,
            "border": null,
            "bottom": null,
            "display": null,
            "flex": null,
            "flex_flow": null,
            "grid_area": null,
            "grid_auto_columns": null,
            "grid_auto_flow": null,
            "grid_auto_rows": null,
            "grid_column": null,
            "grid_gap": null,
            "grid_row": null,
            "grid_template_areas": null,
            "grid_template_columns": null,
            "grid_template_rows": null,
            "height": null,
            "justify_content": null,
            "justify_items": null,
            "left": null,
            "margin": null,
            "max_height": null,
            "max_width": null,
            "min_height": null,
            "min_width": null,
            "object_fit": null,
            "object_position": null,
            "order": null,
            "overflow": null,
            "overflow_x": null,
            "overflow_y": null,
            "padding": null,
            "right": null,
            "top": null,
            "visibility": null,
            "width": null
          }
        },
        "24256927e7954a71a27f7194c1eb5984": {
          "model_module": "@jupyter-widgets/base",
          "model_name": "LayoutModel",
          "model_module_version": "1.2.0",
          "state": {
            "_model_module": "@jupyter-widgets/base",
            "_model_module_version": "1.2.0",
            "_model_name": "LayoutModel",
            "_view_count": null,
            "_view_module": "@jupyter-widgets/base",
            "_view_module_version": "1.2.0",
            "_view_name": "LayoutView",
            "align_content": null,
            "align_items": null,
            "align_self": null,
            "border": null,
            "bottom": null,
            "display": null,
            "flex": null,
            "flex_flow": null,
            "grid_area": null,
            "grid_auto_columns": null,
            "grid_auto_flow": null,
            "grid_auto_rows": null,
            "grid_column": null,
            "grid_gap": null,
            "grid_row": null,
            "grid_template_areas": null,
            "grid_template_columns": null,
            "grid_template_rows": null,
            "height": null,
            "justify_content": null,
            "justify_items": null,
            "left": null,
            "margin": null,
            "max_height": null,
            "max_width": null,
            "min_height": null,
            "min_width": null,
            "object_fit": null,
            "object_position": null,
            "order": null,
            "overflow": null,
            "overflow_x": null,
            "overflow_y": null,
            "padding": null,
            "right": null,
            "top": null,
            "visibility": null,
            "width": null
          }
        },
        "3ec26369e6ed425b92459da055de57ae": {
          "model_module": "@jupyter-widgets/controls",
          "model_name": "DescriptionStyleModel",
          "model_module_version": "1.5.0",
          "state": {
            "_model_module": "@jupyter-widgets/controls",
            "_model_module_version": "1.5.0",
            "_model_name": "DescriptionStyleModel",
            "_view_count": null,
            "_view_module": "@jupyter-widgets/base",
            "_view_module_version": "1.2.0",
            "_view_name": "StyleView",
            "description_width": ""
          }
        },
        "c6f09e275d894448819d068d0ca8e4b9": {
          "model_module": "@jupyter-widgets/base",
          "model_name": "LayoutModel",
          "model_module_version": "1.2.0",
          "state": {
            "_model_module": "@jupyter-widgets/base",
            "_model_module_version": "1.2.0",
            "_model_name": "LayoutModel",
            "_view_count": null,
            "_view_module": "@jupyter-widgets/base",
            "_view_module_version": "1.2.0",
            "_view_name": "LayoutView",
            "align_content": null,
            "align_items": null,
            "align_self": null,
            "border": null,
            "bottom": null,
            "display": null,
            "flex": null,
            "flex_flow": null,
            "grid_area": null,
            "grid_auto_columns": null,
            "grid_auto_flow": null,
            "grid_auto_rows": null,
            "grid_column": null,
            "grid_gap": null,
            "grid_row": null,
            "grid_template_areas": null,
            "grid_template_columns": null,
            "grid_template_rows": null,
            "height": null,
            "justify_content": null,
            "justify_items": null,
            "left": null,
            "margin": null,
            "max_height": null,
            "max_width": null,
            "min_height": null,
            "min_width": null,
            "object_fit": null,
            "object_position": null,
            "order": null,
            "overflow": null,
            "overflow_x": null,
            "overflow_y": null,
            "padding": null,
            "right": null,
            "top": null,
            "visibility": null,
            "width": null
          }
        },
        "701514c7f776497e91dc9fba0aaa766c": {
          "model_module": "@jupyter-widgets/controls",
          "model_name": "ProgressStyleModel",
          "model_module_version": "1.5.0",
          "state": {
            "_model_module": "@jupyter-widgets/controls",
            "_model_module_version": "1.5.0",
            "_model_name": "ProgressStyleModel",
            "_view_count": null,
            "_view_module": "@jupyter-widgets/base",
            "_view_module_version": "1.2.0",
            "_view_name": "StyleView",
            "bar_color": null,
            "description_width": ""
          }
        },
        "191eb94b2d4942dbaefd8760fd20303e": {
          "model_module": "@jupyter-widgets/base",
          "model_name": "LayoutModel",
          "model_module_version": "1.2.0",
          "state": {
            "_model_module": "@jupyter-widgets/base",
            "_model_module_version": "1.2.0",
            "_model_name": "LayoutModel",
            "_view_count": null,
            "_view_module": "@jupyter-widgets/base",
            "_view_module_version": "1.2.0",
            "_view_name": "LayoutView",
            "align_content": null,
            "align_items": null,
            "align_self": null,
            "border": null,
            "bottom": null,
            "display": null,
            "flex": null,
            "flex_flow": null,
            "grid_area": null,
            "grid_auto_columns": null,
            "grid_auto_flow": null,
            "grid_auto_rows": null,
            "grid_column": null,
            "grid_gap": null,
            "grid_row": null,
            "grid_template_areas": null,
            "grid_template_columns": null,
            "grid_template_rows": null,
            "height": null,
            "justify_content": null,
            "justify_items": null,
            "left": null,
            "margin": null,
            "max_height": null,
            "max_width": null,
            "min_height": null,
            "min_width": null,
            "object_fit": null,
            "object_position": null,
            "order": null,
            "overflow": null,
            "overflow_x": null,
            "overflow_y": null,
            "padding": null,
            "right": null,
            "top": null,
            "visibility": null,
            "width": null
          }
        },
        "d390eca257d64c4da1506b07c6d2ce9e": {
          "model_module": "@jupyter-widgets/controls",
          "model_name": "DescriptionStyleModel",
          "model_module_version": "1.5.0",
          "state": {
            "_model_module": "@jupyter-widgets/controls",
            "_model_module_version": "1.5.0",
            "_model_name": "DescriptionStyleModel",
            "_view_count": null,
            "_view_module": "@jupyter-widgets/base",
            "_view_module_version": "1.2.0",
            "_view_name": "StyleView",
            "description_width": ""
          }
        },
        "c13c6f9b5ec14a449b5e5135a0509e80": {
          "model_module": "@jupyter-widgets/controls",
          "model_name": "HBoxModel",
          "model_module_version": "1.5.0",
          "state": {
            "_dom_classes": [],
            "_model_module": "@jupyter-widgets/controls",
            "_model_module_version": "1.5.0",
            "_model_name": "HBoxModel",
            "_view_count": null,
            "_view_module": "@jupyter-widgets/controls",
            "_view_module_version": "1.5.0",
            "_view_name": "HBoxView",
            "box_style": "",
            "children": [
              "IPY_MODEL_6c01686f685449febcf543c1c6439695",
              "IPY_MODEL_8165488b2b3e44c9b58dea7f67c0778d",
              "IPY_MODEL_74f3771467a949a78fa7c88b744d4aa2"
            ],
            "layout": "IPY_MODEL_8b41db1006c047fabe3e0cf5589b20bf"
          }
        },
        "6c01686f685449febcf543c1c6439695": {
          "model_module": "@jupyter-widgets/controls",
          "model_name": "HTMLModel",
          "model_module_version": "1.5.0",
          "state": {
            "_dom_classes": [],
            "_model_module": "@jupyter-widgets/controls",
            "_model_module_version": "1.5.0",
            "_model_name": "HTMLModel",
            "_view_count": null,
            "_view_module": "@jupyter-widgets/controls",
            "_view_module_version": "1.5.0",
            "_view_name": "HTMLView",
            "description": "",
            "description_tooltip": null,
            "layout": "IPY_MODEL_8787604b573443c8b23493af629749c3",
            "placeholder": "​",
            "style": "IPY_MODEL_6602637ae38e4bed89fe05690769b44d",
            "value": "config_sentence_transformers.json: 100%"
          }
        },
        "8165488b2b3e44c9b58dea7f67c0778d": {
          "model_module": "@jupyter-widgets/controls",
          "model_name": "FloatProgressModel",
          "model_module_version": "1.5.0",
          "state": {
            "_dom_classes": [],
            "_model_module": "@jupyter-widgets/controls",
            "_model_module_version": "1.5.0",
            "_model_name": "FloatProgressModel",
            "_view_count": null,
            "_view_module": "@jupyter-widgets/controls",
            "_view_module_version": "1.5.0",
            "_view_name": "ProgressView",
            "bar_style": "success",
            "description": "",
            "description_tooltip": null,
            "layout": "IPY_MODEL_b11af9add457477ca4b3fafa3dc608fe",
            "max": 116,
            "min": 0,
            "orientation": "horizontal",
            "style": "IPY_MODEL_0463f0d40e2945bfbaf65fbf6b3bddc2",
            "value": 116
          }
        },
        "74f3771467a949a78fa7c88b744d4aa2": {
          "model_module": "@jupyter-widgets/controls",
          "model_name": "HTMLModel",
          "model_module_version": "1.5.0",
          "state": {
            "_dom_classes": [],
            "_model_module": "@jupyter-widgets/controls",
            "_model_module_version": "1.5.0",
            "_model_name": "HTMLModel",
            "_view_count": null,
            "_view_module": "@jupyter-widgets/controls",
            "_view_module_version": "1.5.0",
            "_view_name": "HTMLView",
            "description": "",
            "description_tooltip": null,
            "layout": "IPY_MODEL_f057a2cb6cc24a2ca2e17a9f356cd326",
            "placeholder": "​",
            "style": "IPY_MODEL_a97b0dd9d4b046ecb3ebaafd956bd5c5",
            "value": " 116/116 [00:00&lt;00:00, 3.40kB/s]"
          }
        },
        "8b41db1006c047fabe3e0cf5589b20bf": {
          "model_module": "@jupyter-widgets/base",
          "model_name": "LayoutModel",
          "model_module_version": "1.2.0",
          "state": {
            "_model_module": "@jupyter-widgets/base",
            "_model_module_version": "1.2.0",
            "_model_name": "LayoutModel",
            "_view_count": null,
            "_view_module": "@jupyter-widgets/base",
            "_view_module_version": "1.2.0",
            "_view_name": "LayoutView",
            "align_content": null,
            "align_items": null,
            "align_self": null,
            "border": null,
            "bottom": null,
            "display": null,
            "flex": null,
            "flex_flow": null,
            "grid_area": null,
            "grid_auto_columns": null,
            "grid_auto_flow": null,
            "grid_auto_rows": null,
            "grid_column": null,
            "grid_gap": null,
            "grid_row": null,
            "grid_template_areas": null,
            "grid_template_columns": null,
            "grid_template_rows": null,
            "height": null,
            "justify_content": null,
            "justify_items": null,
            "left": null,
            "margin": null,
            "max_height": null,
            "max_width": null,
            "min_height": null,
            "min_width": null,
            "object_fit": null,
            "object_position": null,
            "order": null,
            "overflow": null,
            "overflow_x": null,
            "overflow_y": null,
            "padding": null,
            "right": null,
            "top": null,
            "visibility": null,
            "width": null
          }
        },
        "8787604b573443c8b23493af629749c3": {
          "model_module": "@jupyter-widgets/base",
          "model_name": "LayoutModel",
          "model_module_version": "1.2.0",
          "state": {
            "_model_module": "@jupyter-widgets/base",
            "_model_module_version": "1.2.0",
            "_model_name": "LayoutModel",
            "_view_count": null,
            "_view_module": "@jupyter-widgets/base",
            "_view_module_version": "1.2.0",
            "_view_name": "LayoutView",
            "align_content": null,
            "align_items": null,
            "align_self": null,
            "border": null,
            "bottom": null,
            "display": null,
            "flex": null,
            "flex_flow": null,
            "grid_area": null,
            "grid_auto_columns": null,
            "grid_auto_flow": null,
            "grid_auto_rows": null,
            "grid_column": null,
            "grid_gap": null,
            "grid_row": null,
            "grid_template_areas": null,
            "grid_template_columns": null,
            "grid_template_rows": null,
            "height": null,
            "justify_content": null,
            "justify_items": null,
            "left": null,
            "margin": null,
            "max_height": null,
            "max_width": null,
            "min_height": null,
            "min_width": null,
            "object_fit": null,
            "object_position": null,
            "order": null,
            "overflow": null,
            "overflow_x": null,
            "overflow_y": null,
            "padding": null,
            "right": null,
            "top": null,
            "visibility": null,
            "width": null
          }
        },
        "6602637ae38e4bed89fe05690769b44d": {
          "model_module": "@jupyter-widgets/controls",
          "model_name": "DescriptionStyleModel",
          "model_module_version": "1.5.0",
          "state": {
            "_model_module": "@jupyter-widgets/controls",
            "_model_module_version": "1.5.0",
            "_model_name": "DescriptionStyleModel",
            "_view_count": null,
            "_view_module": "@jupyter-widgets/base",
            "_view_module_version": "1.2.0",
            "_view_name": "StyleView",
            "description_width": ""
          }
        },
        "b11af9add457477ca4b3fafa3dc608fe": {
          "model_module": "@jupyter-widgets/base",
          "model_name": "LayoutModel",
          "model_module_version": "1.2.0",
          "state": {
            "_model_module": "@jupyter-widgets/base",
            "_model_module_version": "1.2.0",
            "_model_name": "LayoutModel",
            "_view_count": null,
            "_view_module": "@jupyter-widgets/base",
            "_view_module_version": "1.2.0",
            "_view_name": "LayoutView",
            "align_content": null,
            "align_items": null,
            "align_self": null,
            "border": null,
            "bottom": null,
            "display": null,
            "flex": null,
            "flex_flow": null,
            "grid_area": null,
            "grid_auto_columns": null,
            "grid_auto_flow": null,
            "grid_auto_rows": null,
            "grid_column": null,
            "grid_gap": null,
            "grid_row": null,
            "grid_template_areas": null,
            "grid_template_columns": null,
            "grid_template_rows": null,
            "height": null,
            "justify_content": null,
            "justify_items": null,
            "left": null,
            "margin": null,
            "max_height": null,
            "max_width": null,
            "min_height": null,
            "min_width": null,
            "object_fit": null,
            "object_position": null,
            "order": null,
            "overflow": null,
            "overflow_x": null,
            "overflow_y": null,
            "padding": null,
            "right": null,
            "top": null,
            "visibility": null,
            "width": null
          }
        },
        "0463f0d40e2945bfbaf65fbf6b3bddc2": {
          "model_module": "@jupyter-widgets/controls",
          "model_name": "ProgressStyleModel",
          "model_module_version": "1.5.0",
          "state": {
            "_model_module": "@jupyter-widgets/controls",
            "_model_module_version": "1.5.0",
            "_model_name": "ProgressStyleModel",
            "_view_count": null,
            "_view_module": "@jupyter-widgets/base",
            "_view_module_version": "1.2.0",
            "_view_name": "StyleView",
            "bar_color": null,
            "description_width": ""
          }
        },
        "f057a2cb6cc24a2ca2e17a9f356cd326": {
          "model_module": "@jupyter-widgets/base",
          "model_name": "LayoutModel",
          "model_module_version": "1.2.0",
          "state": {
            "_model_module": "@jupyter-widgets/base",
            "_model_module_version": "1.2.0",
            "_model_name": "LayoutModel",
            "_view_count": null,
            "_view_module": "@jupyter-widgets/base",
            "_view_module_version": "1.2.0",
            "_view_name": "LayoutView",
            "align_content": null,
            "align_items": null,
            "align_self": null,
            "border": null,
            "bottom": null,
            "display": null,
            "flex": null,
            "flex_flow": null,
            "grid_area": null,
            "grid_auto_columns": null,
            "grid_auto_flow": null,
            "grid_auto_rows": null,
            "grid_column": null,
            "grid_gap": null,
            "grid_row": null,
            "grid_template_areas": null,
            "grid_template_columns": null,
            "grid_template_rows": null,
            "height": null,
            "justify_content": null,
            "justify_items": null,
            "left": null,
            "margin": null,
            "max_height": null,
            "max_width": null,
            "min_height": null,
            "min_width": null,
            "object_fit": null,
            "object_position": null,
            "order": null,
            "overflow": null,
            "overflow_x": null,
            "overflow_y": null,
            "padding": null,
            "right": null,
            "top": null,
            "visibility": null,
            "width": null
          }
        },
        "a97b0dd9d4b046ecb3ebaafd956bd5c5": {
          "model_module": "@jupyter-widgets/controls",
          "model_name": "DescriptionStyleModel",
          "model_module_version": "1.5.0",
          "state": {
            "_model_module": "@jupyter-widgets/controls",
            "_model_module_version": "1.5.0",
            "_model_name": "DescriptionStyleModel",
            "_view_count": null,
            "_view_module": "@jupyter-widgets/base",
            "_view_module_version": "1.2.0",
            "_view_name": "StyleView",
            "description_width": ""
          }
        },
        "b7f1383fce1344a39438079f8f37f6b7": {
          "model_module": "@jupyter-widgets/controls",
          "model_name": "HBoxModel",
          "model_module_version": "1.5.0",
          "state": {
            "_dom_classes": [],
            "_model_module": "@jupyter-widgets/controls",
            "_model_module_version": "1.5.0",
            "_model_name": "HBoxModel",
            "_view_count": null,
            "_view_module": "@jupyter-widgets/controls",
            "_view_module_version": "1.5.0",
            "_view_name": "HBoxView",
            "box_style": "",
            "children": [
              "IPY_MODEL_a2115dc4cb8f46b69014a37a195ad857",
              "IPY_MODEL_f7497d259fe74a1a9eaec6f67ff0563f",
              "IPY_MODEL_dec2563c581942df8aa68b078516b096"
            ],
            "layout": "IPY_MODEL_7705a3c865d94715b743bedb2f0e7206"
          }
        },
        "a2115dc4cb8f46b69014a37a195ad857": {
          "model_module": "@jupyter-widgets/controls",
          "model_name": "HTMLModel",
          "model_module_version": "1.5.0",
          "state": {
            "_dom_classes": [],
            "_model_module": "@jupyter-widgets/controls",
            "_model_module_version": "1.5.0",
            "_model_name": "HTMLModel",
            "_view_count": null,
            "_view_module": "@jupyter-widgets/controls",
            "_view_module_version": "1.5.0",
            "_view_name": "HTMLView",
            "description": "",
            "description_tooltip": null,
            "layout": "IPY_MODEL_bb26cbeb249b443fb740c538341dac6f",
            "placeholder": "​",
            "style": "IPY_MODEL_72a04a21da024f7e9deda186802258b5",
            "value": "README.md: 100%"
          }
        },
        "f7497d259fe74a1a9eaec6f67ff0563f": {
          "model_module": "@jupyter-widgets/controls",
          "model_name": "FloatProgressModel",
          "model_module_version": "1.5.0",
          "state": {
            "_dom_classes": [],
            "_model_module": "@jupyter-widgets/controls",
            "_model_module_version": "1.5.0",
            "_model_name": "FloatProgressModel",
            "_view_count": null,
            "_view_module": "@jupyter-widgets/controls",
            "_view_module_version": "1.5.0",
            "_view_name": "ProgressView",
            "bar_style": "success",
            "description": "",
            "description_tooltip": null,
            "layout": "IPY_MODEL_00b67f0815e04b48966ba403cf4197ab",
            "max": 10621,
            "min": 0,
            "orientation": "horizontal",
            "style": "IPY_MODEL_aa0c6a56a8d848fe841c41c7413c7282",
            "value": 10621
          }
        },
        "dec2563c581942df8aa68b078516b096": {
          "model_module": "@jupyter-widgets/controls",
          "model_name": "HTMLModel",
          "model_module_version": "1.5.0",
          "state": {
            "_dom_classes": [],
            "_model_module": "@jupyter-widgets/controls",
            "_model_module_version": "1.5.0",
            "_model_name": "HTMLModel",
            "_view_count": null,
            "_view_module": "@jupyter-widgets/controls",
            "_view_module_version": "1.5.0",
            "_view_name": "HTMLView",
            "description": "",
            "description_tooltip": null,
            "layout": "IPY_MODEL_f283d22083ba4e73a88c296759597d07",
            "placeholder": "​",
            "style": "IPY_MODEL_b5e86419f98d4a3b9fd0e4b2897d56d2",
            "value": " 10.6k/10.6k [00:00&lt;00:00, 450kB/s]"
          }
        },
        "7705a3c865d94715b743bedb2f0e7206": {
          "model_module": "@jupyter-widgets/base",
          "model_name": "LayoutModel",
          "model_module_version": "1.2.0",
          "state": {
            "_model_module": "@jupyter-widgets/base",
            "_model_module_version": "1.2.0",
            "_model_name": "LayoutModel",
            "_view_count": null,
            "_view_module": "@jupyter-widgets/base",
            "_view_module_version": "1.2.0",
            "_view_name": "LayoutView",
            "align_content": null,
            "align_items": null,
            "align_self": null,
            "border": null,
            "bottom": null,
            "display": null,
            "flex": null,
            "flex_flow": null,
            "grid_area": null,
            "grid_auto_columns": null,
            "grid_auto_flow": null,
            "grid_auto_rows": null,
            "grid_column": null,
            "grid_gap": null,
            "grid_row": null,
            "grid_template_areas": null,
            "grid_template_columns": null,
            "grid_template_rows": null,
            "height": null,
            "justify_content": null,
            "justify_items": null,
            "left": null,
            "margin": null,
            "max_height": null,
            "max_width": null,
            "min_height": null,
            "min_width": null,
            "object_fit": null,
            "object_position": null,
            "order": null,
            "overflow": null,
            "overflow_x": null,
            "overflow_y": null,
            "padding": null,
            "right": null,
            "top": null,
            "visibility": null,
            "width": null
          }
        },
        "bb26cbeb249b443fb740c538341dac6f": {
          "model_module": "@jupyter-widgets/base",
          "model_name": "LayoutModel",
          "model_module_version": "1.2.0",
          "state": {
            "_model_module": "@jupyter-widgets/base",
            "_model_module_version": "1.2.0",
            "_model_name": "LayoutModel",
            "_view_count": null,
            "_view_module": "@jupyter-widgets/base",
            "_view_module_version": "1.2.0",
            "_view_name": "LayoutView",
            "align_content": null,
            "align_items": null,
            "align_self": null,
            "border": null,
            "bottom": null,
            "display": null,
            "flex": null,
            "flex_flow": null,
            "grid_area": null,
            "grid_auto_columns": null,
            "grid_auto_flow": null,
            "grid_auto_rows": null,
            "grid_column": null,
            "grid_gap": null,
            "grid_row": null,
            "grid_template_areas": null,
            "grid_template_columns": null,
            "grid_template_rows": null,
            "height": null,
            "justify_content": null,
            "justify_items": null,
            "left": null,
            "margin": null,
            "max_height": null,
            "max_width": null,
            "min_height": null,
            "min_width": null,
            "object_fit": null,
            "object_position": null,
            "order": null,
            "overflow": null,
            "overflow_x": null,
            "overflow_y": null,
            "padding": null,
            "right": null,
            "top": null,
            "visibility": null,
            "width": null
          }
        },
        "72a04a21da024f7e9deda186802258b5": {
          "model_module": "@jupyter-widgets/controls",
          "model_name": "DescriptionStyleModel",
          "model_module_version": "1.5.0",
          "state": {
            "_model_module": "@jupyter-widgets/controls",
            "_model_module_version": "1.5.0",
            "_model_name": "DescriptionStyleModel",
            "_view_count": null,
            "_view_module": "@jupyter-widgets/base",
            "_view_module_version": "1.2.0",
            "_view_name": "StyleView",
            "description_width": ""
          }
        },
        "00b67f0815e04b48966ba403cf4197ab": {
          "model_module": "@jupyter-widgets/base",
          "model_name": "LayoutModel",
          "model_module_version": "1.2.0",
          "state": {
            "_model_module": "@jupyter-widgets/base",
            "_model_module_version": "1.2.0",
            "_model_name": "LayoutModel",
            "_view_count": null,
            "_view_module": "@jupyter-widgets/base",
            "_view_module_version": "1.2.0",
            "_view_name": "LayoutView",
            "align_content": null,
            "align_items": null,
            "align_self": null,
            "border": null,
            "bottom": null,
            "display": null,
            "flex": null,
            "flex_flow": null,
            "grid_area": null,
            "grid_auto_columns": null,
            "grid_auto_flow": null,
            "grid_auto_rows": null,
            "grid_column": null,
            "grid_gap": null,
            "grid_row": null,
            "grid_template_areas": null,
            "grid_template_columns": null,
            "grid_template_rows": null,
            "height": null,
            "justify_content": null,
            "justify_items": null,
            "left": null,
            "margin": null,
            "max_height": null,
            "max_width": null,
            "min_height": null,
            "min_width": null,
            "object_fit": null,
            "object_position": null,
            "order": null,
            "overflow": null,
            "overflow_x": null,
            "overflow_y": null,
            "padding": null,
            "right": null,
            "top": null,
            "visibility": null,
            "width": null
          }
        },
        "aa0c6a56a8d848fe841c41c7413c7282": {
          "model_module": "@jupyter-widgets/controls",
          "model_name": "ProgressStyleModel",
          "model_module_version": "1.5.0",
          "state": {
            "_model_module": "@jupyter-widgets/controls",
            "_model_module_version": "1.5.0",
            "_model_name": "ProgressStyleModel",
            "_view_count": null,
            "_view_module": "@jupyter-widgets/base",
            "_view_module_version": "1.2.0",
            "_view_name": "StyleView",
            "bar_color": null,
            "description_width": ""
          }
        },
        "f283d22083ba4e73a88c296759597d07": {
          "model_module": "@jupyter-widgets/base",
          "model_name": "LayoutModel",
          "model_module_version": "1.2.0",
          "state": {
            "_model_module": "@jupyter-widgets/base",
            "_model_module_version": "1.2.0",
            "_model_name": "LayoutModel",
            "_view_count": null,
            "_view_module": "@jupyter-widgets/base",
            "_view_module_version": "1.2.0",
            "_view_name": "LayoutView",
            "align_content": null,
            "align_items": null,
            "align_self": null,
            "border": null,
            "bottom": null,
            "display": null,
            "flex": null,
            "flex_flow": null,
            "grid_area": null,
            "grid_auto_columns": null,
            "grid_auto_flow": null,
            "grid_auto_rows": null,
            "grid_column": null,
            "grid_gap": null,
            "grid_row": null,
            "grid_template_areas": null,
            "grid_template_columns": null,
            "grid_template_rows": null,
            "height": null,
            "justify_content": null,
            "justify_items": null,
            "left": null,
            "margin": null,
            "max_height": null,
            "max_width": null,
            "min_height": null,
            "min_width": null,
            "object_fit": null,
            "object_position": null,
            "order": null,
            "overflow": null,
            "overflow_x": null,
            "overflow_y": null,
            "padding": null,
            "right": null,
            "top": null,
            "visibility": null,
            "width": null
          }
        },
        "b5e86419f98d4a3b9fd0e4b2897d56d2": {
          "model_module": "@jupyter-widgets/controls",
          "model_name": "DescriptionStyleModel",
          "model_module_version": "1.5.0",
          "state": {
            "_model_module": "@jupyter-widgets/controls",
            "_model_module_version": "1.5.0",
            "_model_name": "DescriptionStyleModel",
            "_view_count": null,
            "_view_module": "@jupyter-widgets/base",
            "_view_module_version": "1.2.0",
            "_view_name": "StyleView",
            "description_width": ""
          }
        },
        "490eabd079d64fdfa810cc60b193f12a": {
          "model_module": "@jupyter-widgets/controls",
          "model_name": "HBoxModel",
          "model_module_version": "1.5.0",
          "state": {
            "_dom_classes": [],
            "_model_module": "@jupyter-widgets/controls",
            "_model_module_version": "1.5.0",
            "_model_name": "HBoxModel",
            "_view_count": null,
            "_view_module": "@jupyter-widgets/controls",
            "_view_module_version": "1.5.0",
            "_view_name": "HBoxView",
            "box_style": "",
            "children": [
              "IPY_MODEL_1ee89adfef9441dbb4deb054266119cd",
              "IPY_MODEL_30a7507b672341e4816c7ae8dea37495",
              "IPY_MODEL_9f8d4d5761a24c23ba969ddd831d265d"
            ],
            "layout": "IPY_MODEL_f92248590c6b4413a6992745bc577ae8"
          }
        },
        "1ee89adfef9441dbb4deb054266119cd": {
          "model_module": "@jupyter-widgets/controls",
          "model_name": "HTMLModel",
          "model_module_version": "1.5.0",
          "state": {
            "_dom_classes": [],
            "_model_module": "@jupyter-widgets/controls",
            "_model_module_version": "1.5.0",
            "_model_name": "HTMLModel",
            "_view_count": null,
            "_view_module": "@jupyter-widgets/controls",
            "_view_module_version": "1.5.0",
            "_view_name": "HTMLView",
            "description": "",
            "description_tooltip": null,
            "layout": "IPY_MODEL_3c8193067f164a7f8811c7cd40a20b7c",
            "placeholder": "​",
            "style": "IPY_MODEL_a79319eb020045d2bfec101f62d681db",
            "value": "sentence_bert_config.json: 100%"
          }
        },
        "30a7507b672341e4816c7ae8dea37495": {
          "model_module": "@jupyter-widgets/controls",
          "model_name": "FloatProgressModel",
          "model_module_version": "1.5.0",
          "state": {
            "_dom_classes": [],
            "_model_module": "@jupyter-widgets/controls",
            "_model_module_version": "1.5.0",
            "_model_name": "FloatProgressModel",
            "_view_count": null,
            "_view_module": "@jupyter-widgets/controls",
            "_view_module_version": "1.5.0",
            "_view_name": "ProgressView",
            "bar_style": "success",
            "description": "",
            "description_tooltip": null,
            "layout": "IPY_MODEL_f2587b4453c34b8dad9d46b46e7b0186",
            "max": 53,
            "min": 0,
            "orientation": "horizontal",
            "style": "IPY_MODEL_ef2b1ce393d14353837f272ffac3be5b",
            "value": 53
          }
        },
        "9f8d4d5761a24c23ba969ddd831d265d": {
          "model_module": "@jupyter-widgets/controls",
          "model_name": "HTMLModel",
          "model_module_version": "1.5.0",
          "state": {
            "_dom_classes": [],
            "_model_module": "@jupyter-widgets/controls",
            "_model_module_version": "1.5.0",
            "_model_name": "HTMLModel",
            "_view_count": null,
            "_view_module": "@jupyter-widgets/controls",
            "_view_module_version": "1.5.0",
            "_view_name": "HTMLView",
            "description": "",
            "description_tooltip": null,
            "layout": "IPY_MODEL_ec58923c1ecc4a5e89cbd2ec543b9cf6",
            "placeholder": "​",
            "style": "IPY_MODEL_5e911412caa640538d9cf5f8846dd8c4",
            "value": " 53.0/53.0 [00:00&lt;00:00, 1.85kB/s]"
          }
        },
        "f92248590c6b4413a6992745bc577ae8": {
          "model_module": "@jupyter-widgets/base",
          "model_name": "LayoutModel",
          "model_module_version": "1.2.0",
          "state": {
            "_model_module": "@jupyter-widgets/base",
            "_model_module_version": "1.2.0",
            "_model_name": "LayoutModel",
            "_view_count": null,
            "_view_module": "@jupyter-widgets/base",
            "_view_module_version": "1.2.0",
            "_view_name": "LayoutView",
            "align_content": null,
            "align_items": null,
            "align_self": null,
            "border": null,
            "bottom": null,
            "display": null,
            "flex": null,
            "flex_flow": null,
            "grid_area": null,
            "grid_auto_columns": null,
            "grid_auto_flow": null,
            "grid_auto_rows": null,
            "grid_column": null,
            "grid_gap": null,
            "grid_row": null,
            "grid_template_areas": null,
            "grid_template_columns": null,
            "grid_template_rows": null,
            "height": null,
            "justify_content": null,
            "justify_items": null,
            "left": null,
            "margin": null,
            "max_height": null,
            "max_width": null,
            "min_height": null,
            "min_width": null,
            "object_fit": null,
            "object_position": null,
            "order": null,
            "overflow": null,
            "overflow_x": null,
            "overflow_y": null,
            "padding": null,
            "right": null,
            "top": null,
            "visibility": null,
            "width": null
          }
        },
        "3c8193067f164a7f8811c7cd40a20b7c": {
          "model_module": "@jupyter-widgets/base",
          "model_name": "LayoutModel",
          "model_module_version": "1.2.0",
          "state": {
            "_model_module": "@jupyter-widgets/base",
            "_model_module_version": "1.2.0",
            "_model_name": "LayoutModel",
            "_view_count": null,
            "_view_module": "@jupyter-widgets/base",
            "_view_module_version": "1.2.0",
            "_view_name": "LayoutView",
            "align_content": null,
            "align_items": null,
            "align_self": null,
            "border": null,
            "bottom": null,
            "display": null,
            "flex": null,
            "flex_flow": null,
            "grid_area": null,
            "grid_auto_columns": null,
            "grid_auto_flow": null,
            "grid_auto_rows": null,
            "grid_column": null,
            "grid_gap": null,
            "grid_row": null,
            "grid_template_areas": null,
            "grid_template_columns": null,
            "grid_template_rows": null,
            "height": null,
            "justify_content": null,
            "justify_items": null,
            "left": null,
            "margin": null,
            "max_height": null,
            "max_width": null,
            "min_height": null,
            "min_width": null,
            "object_fit": null,
            "object_position": null,
            "order": null,
            "overflow": null,
            "overflow_x": null,
            "overflow_y": null,
            "padding": null,
            "right": null,
            "top": null,
            "visibility": null,
            "width": null
          }
        },
        "a79319eb020045d2bfec101f62d681db": {
          "model_module": "@jupyter-widgets/controls",
          "model_name": "DescriptionStyleModel",
          "model_module_version": "1.5.0",
          "state": {
            "_model_module": "@jupyter-widgets/controls",
            "_model_module_version": "1.5.0",
            "_model_name": "DescriptionStyleModel",
            "_view_count": null,
            "_view_module": "@jupyter-widgets/base",
            "_view_module_version": "1.2.0",
            "_view_name": "StyleView",
            "description_width": ""
          }
        },
        "f2587b4453c34b8dad9d46b46e7b0186": {
          "model_module": "@jupyter-widgets/base",
          "model_name": "LayoutModel",
          "model_module_version": "1.2.0",
          "state": {
            "_model_module": "@jupyter-widgets/base",
            "_model_module_version": "1.2.0",
            "_model_name": "LayoutModel",
            "_view_count": null,
            "_view_module": "@jupyter-widgets/base",
            "_view_module_version": "1.2.0",
            "_view_name": "LayoutView",
            "align_content": null,
            "align_items": null,
            "align_self": null,
            "border": null,
            "bottom": null,
            "display": null,
            "flex": null,
            "flex_flow": null,
            "grid_area": null,
            "grid_auto_columns": null,
            "grid_auto_flow": null,
            "grid_auto_rows": null,
            "grid_column": null,
            "grid_gap": null,
            "grid_row": null,
            "grid_template_areas": null,
            "grid_template_columns": null,
            "grid_template_rows": null,
            "height": null,
            "justify_content": null,
            "justify_items": null,
            "left": null,
            "margin": null,
            "max_height": null,
            "max_width": null,
            "min_height": null,
            "min_width": null,
            "object_fit": null,
            "object_position": null,
            "order": null,
            "overflow": null,
            "overflow_x": null,
            "overflow_y": null,
            "padding": null,
            "right": null,
            "top": null,
            "visibility": null,
            "width": null
          }
        },
        "ef2b1ce393d14353837f272ffac3be5b": {
          "model_module": "@jupyter-widgets/controls",
          "model_name": "ProgressStyleModel",
          "model_module_version": "1.5.0",
          "state": {
            "_model_module": "@jupyter-widgets/controls",
            "_model_module_version": "1.5.0",
            "_model_name": "ProgressStyleModel",
            "_view_count": null,
            "_view_module": "@jupyter-widgets/base",
            "_view_module_version": "1.2.0",
            "_view_name": "StyleView",
            "bar_color": null,
            "description_width": ""
          }
        },
        "ec58923c1ecc4a5e89cbd2ec543b9cf6": {
          "model_module": "@jupyter-widgets/base",
          "model_name": "LayoutModel",
          "model_module_version": "1.2.0",
          "state": {
            "_model_module": "@jupyter-widgets/base",
            "_model_module_version": "1.2.0",
            "_model_name": "LayoutModel",
            "_view_count": null,
            "_view_module": "@jupyter-widgets/base",
            "_view_module_version": "1.2.0",
            "_view_name": "LayoutView",
            "align_content": null,
            "align_items": null,
            "align_self": null,
            "border": null,
            "bottom": null,
            "display": null,
            "flex": null,
            "flex_flow": null,
            "grid_area": null,
            "grid_auto_columns": null,
            "grid_auto_flow": null,
            "grid_auto_rows": null,
            "grid_column": null,
            "grid_gap": null,
            "grid_row": null,
            "grid_template_areas": null,
            "grid_template_columns": null,
            "grid_template_rows": null,
            "height": null,
            "justify_content": null,
            "justify_items": null,
            "left": null,
            "margin": null,
            "max_height": null,
            "max_width": null,
            "min_height": null,
            "min_width": null,
            "object_fit": null,
            "object_position": null,
            "order": null,
            "overflow": null,
            "overflow_x": null,
            "overflow_y": null,
            "padding": null,
            "right": null,
            "top": null,
            "visibility": null,
            "width": null
          }
        },
        "5e911412caa640538d9cf5f8846dd8c4": {
          "model_module": "@jupyter-widgets/controls",
          "model_name": "DescriptionStyleModel",
          "model_module_version": "1.5.0",
          "state": {
            "_model_module": "@jupyter-widgets/controls",
            "_model_module_version": "1.5.0",
            "_model_name": "DescriptionStyleModel",
            "_view_count": null,
            "_view_module": "@jupyter-widgets/base",
            "_view_module_version": "1.2.0",
            "_view_name": "StyleView",
            "description_width": ""
          }
        },
        "c0924a75a38d4f3086366cea1d2e0f8a": {
          "model_module": "@jupyter-widgets/controls",
          "model_name": "HBoxModel",
          "model_module_version": "1.5.0",
          "state": {
            "_dom_classes": [],
            "_model_module": "@jupyter-widgets/controls",
            "_model_module_version": "1.5.0",
            "_model_name": "HBoxModel",
            "_view_count": null,
            "_view_module": "@jupyter-widgets/controls",
            "_view_module_version": "1.5.0",
            "_view_name": "HBoxView",
            "box_style": "",
            "children": [
              "IPY_MODEL_8a1c2f229ee14a9bb3ef76e0c95a7a65",
              "IPY_MODEL_02cc29434e6b45328810868782186e07",
              "IPY_MODEL_a5c857f114df49e5ab980da1faaccacd"
            ],
            "layout": "IPY_MODEL_84144922ef544e77ae216e65a066ed0b"
          }
        },
        "8a1c2f229ee14a9bb3ef76e0c95a7a65": {
          "model_module": "@jupyter-widgets/controls",
          "model_name": "HTMLModel",
          "model_module_version": "1.5.0",
          "state": {
            "_dom_classes": [],
            "_model_module": "@jupyter-widgets/controls",
            "_model_module_version": "1.5.0",
            "_model_name": "HTMLModel",
            "_view_count": null,
            "_view_module": "@jupyter-widgets/controls",
            "_view_module_version": "1.5.0",
            "_view_name": "HTMLView",
            "description": "",
            "description_tooltip": null,
            "layout": "IPY_MODEL_cd46c31eaa134bd6b2d631560351c501",
            "placeholder": "​",
            "style": "IPY_MODEL_c1a24b876b514d96985df6c830d91c29",
            "value": "config.json: 100%"
          }
        },
        "02cc29434e6b45328810868782186e07": {
          "model_module": "@jupyter-widgets/controls",
          "model_name": "FloatProgressModel",
          "model_module_version": "1.5.0",
          "state": {
            "_dom_classes": [],
            "_model_module": "@jupyter-widgets/controls",
            "_model_module_version": "1.5.0",
            "_model_name": "FloatProgressModel",
            "_view_count": null,
            "_view_module": "@jupyter-widgets/controls",
            "_view_module_version": "1.5.0",
            "_view_name": "ProgressView",
            "bar_style": "success",
            "description": "",
            "description_tooltip": null,
            "layout": "IPY_MODEL_50966080b07f4d458f7247738474e4de",
            "max": 571,
            "min": 0,
            "orientation": "horizontal",
            "style": "IPY_MODEL_cb931023e4e84f42879ee3dbb6183719",
            "value": 571
          }
        },
        "a5c857f114df49e5ab980da1faaccacd": {
          "model_module": "@jupyter-widgets/controls",
          "model_name": "HTMLModel",
          "model_module_version": "1.5.0",
          "state": {
            "_dom_classes": [],
            "_model_module": "@jupyter-widgets/controls",
            "_model_module_version": "1.5.0",
            "_model_name": "HTMLModel",
            "_view_count": null,
            "_view_module": "@jupyter-widgets/controls",
            "_view_module_version": "1.5.0",
            "_view_name": "HTMLView",
            "description": "",
            "description_tooltip": null,
            "layout": "IPY_MODEL_aa8edc3b8f5c4187b0df7c65c702e137",
            "placeholder": "​",
            "style": "IPY_MODEL_a12a566c082a4fadb78ba8a6a60834f6",
            "value": " 571/571 [00:00&lt;00:00, 16.3kB/s]"
          }
        },
        "84144922ef544e77ae216e65a066ed0b": {
          "model_module": "@jupyter-widgets/base",
          "model_name": "LayoutModel",
          "model_module_version": "1.2.0",
          "state": {
            "_model_module": "@jupyter-widgets/base",
            "_model_module_version": "1.2.0",
            "_model_name": "LayoutModel",
            "_view_count": null,
            "_view_module": "@jupyter-widgets/base",
            "_view_module_version": "1.2.0",
            "_view_name": "LayoutView",
            "align_content": null,
            "align_items": null,
            "align_self": null,
            "border": null,
            "bottom": null,
            "display": null,
            "flex": null,
            "flex_flow": null,
            "grid_area": null,
            "grid_auto_columns": null,
            "grid_auto_flow": null,
            "grid_auto_rows": null,
            "grid_column": null,
            "grid_gap": null,
            "grid_row": null,
            "grid_template_areas": null,
            "grid_template_columns": null,
            "grid_template_rows": null,
            "height": null,
            "justify_content": null,
            "justify_items": null,
            "left": null,
            "margin": null,
            "max_height": null,
            "max_width": null,
            "min_height": null,
            "min_width": null,
            "object_fit": null,
            "object_position": null,
            "order": null,
            "overflow": null,
            "overflow_x": null,
            "overflow_y": null,
            "padding": null,
            "right": null,
            "top": null,
            "visibility": null,
            "width": null
          }
        },
        "cd46c31eaa134bd6b2d631560351c501": {
          "model_module": "@jupyter-widgets/base",
          "model_name": "LayoutModel",
          "model_module_version": "1.2.0",
          "state": {
            "_model_module": "@jupyter-widgets/base",
            "_model_module_version": "1.2.0",
            "_model_name": "LayoutModel",
            "_view_count": null,
            "_view_module": "@jupyter-widgets/base",
            "_view_module_version": "1.2.0",
            "_view_name": "LayoutView",
            "align_content": null,
            "align_items": null,
            "align_self": null,
            "border": null,
            "bottom": null,
            "display": null,
            "flex": null,
            "flex_flow": null,
            "grid_area": null,
            "grid_auto_columns": null,
            "grid_auto_flow": null,
            "grid_auto_rows": null,
            "grid_column": null,
            "grid_gap": null,
            "grid_row": null,
            "grid_template_areas": null,
            "grid_template_columns": null,
            "grid_template_rows": null,
            "height": null,
            "justify_content": null,
            "justify_items": null,
            "left": null,
            "margin": null,
            "max_height": null,
            "max_width": null,
            "min_height": null,
            "min_width": null,
            "object_fit": null,
            "object_position": null,
            "order": null,
            "overflow": null,
            "overflow_x": null,
            "overflow_y": null,
            "padding": null,
            "right": null,
            "top": null,
            "visibility": null,
            "width": null
          }
        },
        "c1a24b876b514d96985df6c830d91c29": {
          "model_module": "@jupyter-widgets/controls",
          "model_name": "DescriptionStyleModel",
          "model_module_version": "1.5.0",
          "state": {
            "_model_module": "@jupyter-widgets/controls",
            "_model_module_version": "1.5.0",
            "_model_name": "DescriptionStyleModel",
            "_view_count": null,
            "_view_module": "@jupyter-widgets/base",
            "_view_module_version": "1.2.0",
            "_view_name": "StyleView",
            "description_width": ""
          }
        },
        "50966080b07f4d458f7247738474e4de": {
          "model_module": "@jupyter-widgets/base",
          "model_name": "LayoutModel",
          "model_module_version": "1.2.0",
          "state": {
            "_model_module": "@jupyter-widgets/base",
            "_model_module_version": "1.2.0",
            "_model_name": "LayoutModel",
            "_view_count": null,
            "_view_module": "@jupyter-widgets/base",
            "_view_module_version": "1.2.0",
            "_view_name": "LayoutView",
            "align_content": null,
            "align_items": null,
            "align_self": null,
            "border": null,
            "bottom": null,
            "display": null,
            "flex": null,
            "flex_flow": null,
            "grid_area": null,
            "grid_auto_columns": null,
            "grid_auto_flow": null,
            "grid_auto_rows": null,
            "grid_column": null,
            "grid_gap": null,
            "grid_row": null,
            "grid_template_areas": null,
            "grid_template_columns": null,
            "grid_template_rows": null,
            "height": null,
            "justify_content": null,
            "justify_items": null,
            "left": null,
            "margin": null,
            "max_height": null,
            "max_width": null,
            "min_height": null,
            "min_width": null,
            "object_fit": null,
            "object_position": null,
            "order": null,
            "overflow": null,
            "overflow_x": null,
            "overflow_y": null,
            "padding": null,
            "right": null,
            "top": null,
            "visibility": null,
            "width": null
          }
        },
        "cb931023e4e84f42879ee3dbb6183719": {
          "model_module": "@jupyter-widgets/controls",
          "model_name": "ProgressStyleModel",
          "model_module_version": "1.5.0",
          "state": {
            "_model_module": "@jupyter-widgets/controls",
            "_model_module_version": "1.5.0",
            "_model_name": "ProgressStyleModel",
            "_view_count": null,
            "_view_module": "@jupyter-widgets/base",
            "_view_module_version": "1.2.0",
            "_view_name": "StyleView",
            "bar_color": null,
            "description_width": ""
          }
        },
        "aa8edc3b8f5c4187b0df7c65c702e137": {
          "model_module": "@jupyter-widgets/base",
          "model_name": "LayoutModel",
          "model_module_version": "1.2.0",
          "state": {
            "_model_module": "@jupyter-widgets/base",
            "_model_module_version": "1.2.0",
            "_model_name": "LayoutModel",
            "_view_count": null,
            "_view_module": "@jupyter-widgets/base",
            "_view_module_version": "1.2.0",
            "_view_name": "LayoutView",
            "align_content": null,
            "align_items": null,
            "align_self": null,
            "border": null,
            "bottom": null,
            "display": null,
            "flex": null,
            "flex_flow": null,
            "grid_area": null,
            "grid_auto_columns": null,
            "grid_auto_flow": null,
            "grid_auto_rows": null,
            "grid_column": null,
            "grid_gap": null,
            "grid_row": null,
            "grid_template_areas": null,
            "grid_template_columns": null,
            "grid_template_rows": null,
            "height": null,
            "justify_content": null,
            "justify_items": null,
            "left": null,
            "margin": null,
            "max_height": null,
            "max_width": null,
            "min_height": null,
            "min_width": null,
            "object_fit": null,
            "object_position": null,
            "order": null,
            "overflow": null,
            "overflow_x": null,
            "overflow_y": null,
            "padding": null,
            "right": null,
            "top": null,
            "visibility": null,
            "width": null
          }
        },
        "a12a566c082a4fadb78ba8a6a60834f6": {
          "model_module": "@jupyter-widgets/controls",
          "model_name": "DescriptionStyleModel",
          "model_module_version": "1.5.0",
          "state": {
            "_model_module": "@jupyter-widgets/controls",
            "_model_module_version": "1.5.0",
            "_model_name": "DescriptionStyleModel",
            "_view_count": null,
            "_view_module": "@jupyter-widgets/base",
            "_view_module_version": "1.2.0",
            "_view_name": "StyleView",
            "description_width": ""
          }
        },
        "96cb3e152d0c4e00af51b072bc5c1cbb": {
          "model_module": "@jupyter-widgets/controls",
          "model_name": "HBoxModel",
          "model_module_version": "1.5.0",
          "state": {
            "_dom_classes": [],
            "_model_module": "@jupyter-widgets/controls",
            "_model_module_version": "1.5.0",
            "_model_name": "HBoxModel",
            "_view_count": null,
            "_view_module": "@jupyter-widgets/controls",
            "_view_module_version": "1.5.0",
            "_view_name": "HBoxView",
            "box_style": "",
            "children": [
              "IPY_MODEL_86d275ec8969419c89d8078f7ce2f218",
              "IPY_MODEL_dca62d2f4326432fb88620b201a76dbc",
              "IPY_MODEL_17c9f361f00d4cac9e9d0fa553b37d04"
            ],
            "layout": "IPY_MODEL_a26d6fe6b81249209af35d9aaca14d6f"
          }
        },
        "86d275ec8969419c89d8078f7ce2f218": {
          "model_module": "@jupyter-widgets/controls",
          "model_name": "HTMLModel",
          "model_module_version": "1.5.0",
          "state": {
            "_dom_classes": [],
            "_model_module": "@jupyter-widgets/controls",
            "_model_module_version": "1.5.0",
            "_model_name": "HTMLModel",
            "_view_count": null,
            "_view_module": "@jupyter-widgets/controls",
            "_view_module_version": "1.5.0",
            "_view_name": "HTMLView",
            "description": "",
            "description_tooltip": null,
            "layout": "IPY_MODEL_4b05b3b34d3b43c1af6bc45569e135a2",
            "placeholder": "​",
            "style": "IPY_MODEL_449e8cd5bb634aefbb905e997afa21eb",
            "value": "model.safetensors: 100%"
          }
        },
        "dca62d2f4326432fb88620b201a76dbc": {
          "model_module": "@jupyter-widgets/controls",
          "model_name": "FloatProgressModel",
          "model_module_version": "1.5.0",
          "state": {
            "_dom_classes": [],
            "_model_module": "@jupyter-widgets/controls",
            "_model_module_version": "1.5.0",
            "_model_name": "FloatProgressModel",
            "_view_count": null,
            "_view_module": "@jupyter-widgets/controls",
            "_view_module_version": "1.5.0",
            "_view_name": "ProgressView",
            "bar_style": "success",
            "description": "",
            "description_tooltip": null,
            "layout": "IPY_MODEL_e42c858f20d54b75be66322592af1815",
            "max": 437971872,
            "min": 0,
            "orientation": "horizontal",
            "style": "IPY_MODEL_4e43cd5c0a324bf1bb321fa5f18a1a3e",
            "value": 437971872
          }
        },
        "17c9f361f00d4cac9e9d0fa553b37d04": {
          "model_module": "@jupyter-widgets/controls",
          "model_name": "HTMLModel",
          "model_module_version": "1.5.0",
          "state": {
            "_dom_classes": [],
            "_model_module": "@jupyter-widgets/controls",
            "_model_module_version": "1.5.0",
            "_model_name": "HTMLModel",
            "_view_count": null,
            "_view_module": "@jupyter-widgets/controls",
            "_view_module_version": "1.5.0",
            "_view_name": "HTMLView",
            "description": "",
            "description_tooltip": null,
            "layout": "IPY_MODEL_5e59bc485d5548408e64c411d310dcb6",
            "placeholder": "​",
            "style": "IPY_MODEL_f94373a6be6444d6a271751912aea30f",
            "value": " 438M/438M [00:04&lt;00:00, 105MB/s]"
          }
        },
        "a26d6fe6b81249209af35d9aaca14d6f": {
          "model_module": "@jupyter-widgets/base",
          "model_name": "LayoutModel",
          "model_module_version": "1.2.0",
          "state": {
            "_model_module": "@jupyter-widgets/base",
            "_model_module_version": "1.2.0",
            "_model_name": "LayoutModel",
            "_view_count": null,
            "_view_module": "@jupyter-widgets/base",
            "_view_module_version": "1.2.0",
            "_view_name": "LayoutView",
            "align_content": null,
            "align_items": null,
            "align_self": null,
            "border": null,
            "bottom": null,
            "display": null,
            "flex": null,
            "flex_flow": null,
            "grid_area": null,
            "grid_auto_columns": null,
            "grid_auto_flow": null,
            "grid_auto_rows": null,
            "grid_column": null,
            "grid_gap": null,
            "grid_row": null,
            "grid_template_areas": null,
            "grid_template_columns": null,
            "grid_template_rows": null,
            "height": null,
            "justify_content": null,
            "justify_items": null,
            "left": null,
            "margin": null,
            "max_height": null,
            "max_width": null,
            "min_height": null,
            "min_width": null,
            "object_fit": null,
            "object_position": null,
            "order": null,
            "overflow": null,
            "overflow_x": null,
            "overflow_y": null,
            "padding": null,
            "right": null,
            "top": null,
            "visibility": null,
            "width": null
          }
        },
        "4b05b3b34d3b43c1af6bc45569e135a2": {
          "model_module": "@jupyter-widgets/base",
          "model_name": "LayoutModel",
          "model_module_version": "1.2.0",
          "state": {
            "_model_module": "@jupyter-widgets/base",
            "_model_module_version": "1.2.0",
            "_model_name": "LayoutModel",
            "_view_count": null,
            "_view_module": "@jupyter-widgets/base",
            "_view_module_version": "1.2.0",
            "_view_name": "LayoutView",
            "align_content": null,
            "align_items": null,
            "align_self": null,
            "border": null,
            "bottom": null,
            "display": null,
            "flex": null,
            "flex_flow": null,
            "grid_area": null,
            "grid_auto_columns": null,
            "grid_auto_flow": null,
            "grid_auto_rows": null,
            "grid_column": null,
            "grid_gap": null,
            "grid_row": null,
            "grid_template_areas": null,
            "grid_template_columns": null,
            "grid_template_rows": null,
            "height": null,
            "justify_content": null,
            "justify_items": null,
            "left": null,
            "margin": null,
            "max_height": null,
            "max_width": null,
            "min_height": null,
            "min_width": null,
            "object_fit": null,
            "object_position": null,
            "order": null,
            "overflow": null,
            "overflow_x": null,
            "overflow_y": null,
            "padding": null,
            "right": null,
            "top": null,
            "visibility": null,
            "width": null
          }
        },
        "449e8cd5bb634aefbb905e997afa21eb": {
          "model_module": "@jupyter-widgets/controls",
          "model_name": "DescriptionStyleModel",
          "model_module_version": "1.5.0",
          "state": {
            "_model_module": "@jupyter-widgets/controls",
            "_model_module_version": "1.5.0",
            "_model_name": "DescriptionStyleModel",
            "_view_count": null,
            "_view_module": "@jupyter-widgets/base",
            "_view_module_version": "1.2.0",
            "_view_name": "StyleView",
            "description_width": ""
          }
        },
        "e42c858f20d54b75be66322592af1815": {
          "model_module": "@jupyter-widgets/base",
          "model_name": "LayoutModel",
          "model_module_version": "1.2.0",
          "state": {
            "_model_module": "@jupyter-widgets/base",
            "_model_module_version": "1.2.0",
            "_model_name": "LayoutModel",
            "_view_count": null,
            "_view_module": "@jupyter-widgets/base",
            "_view_module_version": "1.2.0",
            "_view_name": "LayoutView",
            "align_content": null,
            "align_items": null,
            "align_self": null,
            "border": null,
            "bottom": null,
            "display": null,
            "flex": null,
            "flex_flow": null,
            "grid_area": null,
            "grid_auto_columns": null,
            "grid_auto_flow": null,
            "grid_auto_rows": null,
            "grid_column": null,
            "grid_gap": null,
            "grid_row": null,
            "grid_template_areas": null,
            "grid_template_columns": null,
            "grid_template_rows": null,
            "height": null,
            "justify_content": null,
            "justify_items": null,
            "left": null,
            "margin": null,
            "max_height": null,
            "max_width": null,
            "min_height": null,
            "min_width": null,
            "object_fit": null,
            "object_position": null,
            "order": null,
            "overflow": null,
            "overflow_x": null,
            "overflow_y": null,
            "padding": null,
            "right": null,
            "top": null,
            "visibility": null,
            "width": null
          }
        },
        "4e43cd5c0a324bf1bb321fa5f18a1a3e": {
          "model_module": "@jupyter-widgets/controls",
          "model_name": "ProgressStyleModel",
          "model_module_version": "1.5.0",
          "state": {
            "_model_module": "@jupyter-widgets/controls",
            "_model_module_version": "1.5.0",
            "_model_name": "ProgressStyleModel",
            "_view_count": null,
            "_view_module": "@jupyter-widgets/base",
            "_view_module_version": "1.2.0",
            "_view_name": "StyleView",
            "bar_color": null,
            "description_width": ""
          }
        },
        "5e59bc485d5548408e64c411d310dcb6": {
          "model_module": "@jupyter-widgets/base",
          "model_name": "LayoutModel",
          "model_module_version": "1.2.0",
          "state": {
            "_model_module": "@jupyter-widgets/base",
            "_model_module_version": "1.2.0",
            "_model_name": "LayoutModel",
            "_view_count": null,
            "_view_module": "@jupyter-widgets/base",
            "_view_module_version": "1.2.0",
            "_view_name": "LayoutView",
            "align_content": null,
            "align_items": null,
            "align_self": null,
            "border": null,
            "bottom": null,
            "display": null,
            "flex": null,
            "flex_flow": null,
            "grid_area": null,
            "grid_auto_columns": null,
            "grid_auto_flow": null,
            "grid_auto_rows": null,
            "grid_column": null,
            "grid_gap": null,
            "grid_row": null,
            "grid_template_areas": null,
            "grid_template_columns": null,
            "grid_template_rows": null,
            "height": null,
            "justify_content": null,
            "justify_items": null,
            "left": null,
            "margin": null,
            "max_height": null,
            "max_width": null,
            "min_height": null,
            "min_width": null,
            "object_fit": null,
            "object_position": null,
            "order": null,
            "overflow": null,
            "overflow_x": null,
            "overflow_y": null,
            "padding": null,
            "right": null,
            "top": null,
            "visibility": null,
            "width": null
          }
        },
        "f94373a6be6444d6a271751912aea30f": {
          "model_module": "@jupyter-widgets/controls",
          "model_name": "DescriptionStyleModel",
          "model_module_version": "1.5.0",
          "state": {
            "_model_module": "@jupyter-widgets/controls",
            "_model_module_version": "1.5.0",
            "_model_name": "DescriptionStyleModel",
            "_view_count": null,
            "_view_module": "@jupyter-widgets/base",
            "_view_module_version": "1.2.0",
            "_view_name": "StyleView",
            "description_width": ""
          }
        },
        "0d127381687b46f8aee66de829317545": {
          "model_module": "@jupyter-widgets/controls",
          "model_name": "HBoxModel",
          "model_module_version": "1.5.0",
          "state": {
            "_dom_classes": [],
            "_model_module": "@jupyter-widgets/controls",
            "_model_module_version": "1.5.0",
            "_model_name": "HBoxModel",
            "_view_count": null,
            "_view_module": "@jupyter-widgets/controls",
            "_view_module_version": "1.5.0",
            "_view_name": "HBoxView",
            "box_style": "",
            "children": [
              "IPY_MODEL_f01f8196626e4d08ad6c242b9352643f",
              "IPY_MODEL_3caa7b1941bf4017b4d460c1b926ad31",
              "IPY_MODEL_f7f89c6248154e5b8047e78a1c566248"
            ],
            "layout": "IPY_MODEL_eaa52d6e7dd740e093fe8fb12d0e1e0c"
          }
        },
        "f01f8196626e4d08ad6c242b9352643f": {
          "model_module": "@jupyter-widgets/controls",
          "model_name": "HTMLModel",
          "model_module_version": "1.5.0",
          "state": {
            "_dom_classes": [],
            "_model_module": "@jupyter-widgets/controls",
            "_model_module_version": "1.5.0",
            "_model_name": "HTMLModel",
            "_view_count": null,
            "_view_module": "@jupyter-widgets/controls",
            "_view_module_version": "1.5.0",
            "_view_name": "HTMLView",
            "description": "",
            "description_tooltip": null,
            "layout": "IPY_MODEL_867ebc044d0e4fb7a4518a1c7eaebe8c",
            "placeholder": "​",
            "style": "IPY_MODEL_16fbf3b5abce4f4cb7cca42ebe58f39d",
            "value": "tokenizer_config.json: 100%"
          }
        },
        "3caa7b1941bf4017b4d460c1b926ad31": {
          "model_module": "@jupyter-widgets/controls",
          "model_name": "FloatProgressModel",
          "model_module_version": "1.5.0",
          "state": {
            "_dom_classes": [],
            "_model_module": "@jupyter-widgets/controls",
            "_model_module_version": "1.5.0",
            "_model_name": "FloatProgressModel",
            "_view_count": null,
            "_view_module": "@jupyter-widgets/controls",
            "_view_module_version": "1.5.0",
            "_view_name": "ProgressView",
            "bar_style": "success",
            "description": "",
            "description_tooltip": null,
            "layout": "IPY_MODEL_515be5a405ff49ebb21333e57458e350",
            "max": 363,
            "min": 0,
            "orientation": "horizontal",
            "style": "IPY_MODEL_4492c5a4ab104f40a6948a7a805bd242",
            "value": 363
          }
        },
        "f7f89c6248154e5b8047e78a1c566248": {
          "model_module": "@jupyter-widgets/controls",
          "model_name": "HTMLModel",
          "model_module_version": "1.5.0",
          "state": {
            "_dom_classes": [],
            "_model_module": "@jupyter-widgets/controls",
            "_model_module_version": "1.5.0",
            "_model_name": "HTMLModel",
            "_view_count": null,
            "_view_module": "@jupyter-widgets/controls",
            "_view_module_version": "1.5.0",
            "_view_name": "HTMLView",
            "description": "",
            "description_tooltip": null,
            "layout": "IPY_MODEL_b75f257d3f584db2b1075a0189ec2a60",
            "placeholder": "​",
            "style": "IPY_MODEL_b46eb578a8ec4f3baa2c8d001a872b93",
            "value": " 363/363 [00:00&lt;00:00, 21.3kB/s]"
          }
        },
        "eaa52d6e7dd740e093fe8fb12d0e1e0c": {
          "model_module": "@jupyter-widgets/base",
          "model_name": "LayoutModel",
          "model_module_version": "1.2.0",
          "state": {
            "_model_module": "@jupyter-widgets/base",
            "_model_module_version": "1.2.0",
            "_model_name": "LayoutModel",
            "_view_count": null,
            "_view_module": "@jupyter-widgets/base",
            "_view_module_version": "1.2.0",
            "_view_name": "LayoutView",
            "align_content": null,
            "align_items": null,
            "align_self": null,
            "border": null,
            "bottom": null,
            "display": null,
            "flex": null,
            "flex_flow": null,
            "grid_area": null,
            "grid_auto_columns": null,
            "grid_auto_flow": null,
            "grid_auto_rows": null,
            "grid_column": null,
            "grid_gap": null,
            "grid_row": null,
            "grid_template_areas": null,
            "grid_template_columns": null,
            "grid_template_rows": null,
            "height": null,
            "justify_content": null,
            "justify_items": null,
            "left": null,
            "margin": null,
            "max_height": null,
            "max_width": null,
            "min_height": null,
            "min_width": null,
            "object_fit": null,
            "object_position": null,
            "order": null,
            "overflow": null,
            "overflow_x": null,
            "overflow_y": null,
            "padding": null,
            "right": null,
            "top": null,
            "visibility": null,
            "width": null
          }
        },
        "867ebc044d0e4fb7a4518a1c7eaebe8c": {
          "model_module": "@jupyter-widgets/base",
          "model_name": "LayoutModel",
          "model_module_version": "1.2.0",
          "state": {
            "_model_module": "@jupyter-widgets/base",
            "_model_module_version": "1.2.0",
            "_model_name": "LayoutModel",
            "_view_count": null,
            "_view_module": "@jupyter-widgets/base",
            "_view_module_version": "1.2.0",
            "_view_name": "LayoutView",
            "align_content": null,
            "align_items": null,
            "align_self": null,
            "border": null,
            "bottom": null,
            "display": null,
            "flex": null,
            "flex_flow": null,
            "grid_area": null,
            "grid_auto_columns": null,
            "grid_auto_flow": null,
            "grid_auto_rows": null,
            "grid_column": null,
            "grid_gap": null,
            "grid_row": null,
            "grid_template_areas": null,
            "grid_template_columns": null,
            "grid_template_rows": null,
            "height": null,
            "justify_content": null,
            "justify_items": null,
            "left": null,
            "margin": null,
            "max_height": null,
            "max_width": null,
            "min_height": null,
            "min_width": null,
            "object_fit": null,
            "object_position": null,
            "order": null,
            "overflow": null,
            "overflow_x": null,
            "overflow_y": null,
            "padding": null,
            "right": null,
            "top": null,
            "visibility": null,
            "width": null
          }
        },
        "16fbf3b5abce4f4cb7cca42ebe58f39d": {
          "model_module": "@jupyter-widgets/controls",
          "model_name": "DescriptionStyleModel",
          "model_module_version": "1.5.0",
          "state": {
            "_model_module": "@jupyter-widgets/controls",
            "_model_module_version": "1.5.0",
            "_model_name": "DescriptionStyleModel",
            "_view_count": null,
            "_view_module": "@jupyter-widgets/base",
            "_view_module_version": "1.2.0",
            "_view_name": "StyleView",
            "description_width": ""
          }
        },
        "515be5a405ff49ebb21333e57458e350": {
          "model_module": "@jupyter-widgets/base",
          "model_name": "LayoutModel",
          "model_module_version": "1.2.0",
          "state": {
            "_model_module": "@jupyter-widgets/base",
            "_model_module_version": "1.2.0",
            "_model_name": "LayoutModel",
            "_view_count": null,
            "_view_module": "@jupyter-widgets/base",
            "_view_module_version": "1.2.0",
            "_view_name": "LayoutView",
            "align_content": null,
            "align_items": null,
            "align_self": null,
            "border": null,
            "bottom": null,
            "display": null,
            "flex": null,
            "flex_flow": null,
            "grid_area": null,
            "grid_auto_columns": null,
            "grid_auto_flow": null,
            "grid_auto_rows": null,
            "grid_column": null,
            "grid_gap": null,
            "grid_row": null,
            "grid_template_areas": null,
            "grid_template_columns": null,
            "grid_template_rows": null,
            "height": null,
            "justify_content": null,
            "justify_items": null,
            "left": null,
            "margin": null,
            "max_height": null,
            "max_width": null,
            "min_height": null,
            "min_width": null,
            "object_fit": null,
            "object_position": null,
            "order": null,
            "overflow": null,
            "overflow_x": null,
            "overflow_y": null,
            "padding": null,
            "right": null,
            "top": null,
            "visibility": null,
            "width": null
          }
        },
        "4492c5a4ab104f40a6948a7a805bd242": {
          "model_module": "@jupyter-widgets/controls",
          "model_name": "ProgressStyleModel",
          "model_module_version": "1.5.0",
          "state": {
            "_model_module": "@jupyter-widgets/controls",
            "_model_module_version": "1.5.0",
            "_model_name": "ProgressStyleModel",
            "_view_count": null,
            "_view_module": "@jupyter-widgets/base",
            "_view_module_version": "1.2.0",
            "_view_name": "StyleView",
            "bar_color": null,
            "description_width": ""
          }
        },
        "b75f257d3f584db2b1075a0189ec2a60": {
          "model_module": "@jupyter-widgets/base",
          "model_name": "LayoutModel",
          "model_module_version": "1.2.0",
          "state": {
            "_model_module": "@jupyter-widgets/base",
            "_model_module_version": "1.2.0",
            "_model_name": "LayoutModel",
            "_view_count": null,
            "_view_module": "@jupyter-widgets/base",
            "_view_module_version": "1.2.0",
            "_view_name": "LayoutView",
            "align_content": null,
            "align_items": null,
            "align_self": null,
            "border": null,
            "bottom": null,
            "display": null,
            "flex": null,
            "flex_flow": null,
            "grid_area": null,
            "grid_auto_columns": null,
            "grid_auto_flow": null,
            "grid_auto_rows": null,
            "grid_column": null,
            "grid_gap": null,
            "grid_row": null,
            "grid_template_areas": null,
            "grid_template_columns": null,
            "grid_template_rows": null,
            "height": null,
            "justify_content": null,
            "justify_items": null,
            "left": null,
            "margin": null,
            "max_height": null,
            "max_width": null,
            "min_height": null,
            "min_width": null,
            "object_fit": null,
            "object_position": null,
            "order": null,
            "overflow": null,
            "overflow_x": null,
            "overflow_y": null,
            "padding": null,
            "right": null,
            "top": null,
            "visibility": null,
            "width": null
          }
        },
        "b46eb578a8ec4f3baa2c8d001a872b93": {
          "model_module": "@jupyter-widgets/controls",
          "model_name": "DescriptionStyleModel",
          "model_module_version": "1.5.0",
          "state": {
            "_model_module": "@jupyter-widgets/controls",
            "_model_module_version": "1.5.0",
            "_model_name": "DescriptionStyleModel",
            "_view_count": null,
            "_view_module": "@jupyter-widgets/base",
            "_view_module_version": "1.2.0",
            "_view_name": "StyleView",
            "description_width": ""
          }
        },
        "9a3e7ecf6a6d4b51b0ee92a93ee5f480": {
          "model_module": "@jupyter-widgets/controls",
          "model_name": "HBoxModel",
          "model_module_version": "1.5.0",
          "state": {
            "_dom_classes": [],
            "_model_module": "@jupyter-widgets/controls",
            "_model_module_version": "1.5.0",
            "_model_name": "HBoxModel",
            "_view_count": null,
            "_view_module": "@jupyter-widgets/controls",
            "_view_module_version": "1.5.0",
            "_view_name": "HBoxView",
            "box_style": "",
            "children": [
              "IPY_MODEL_969a8411dce54ba690a33badb019c3e7",
              "IPY_MODEL_99cacd8bdf5c4af8966e29428a7a342a",
              "IPY_MODEL_355a1c5c7f57402cb86b6bc31730698f"
            ],
            "layout": "IPY_MODEL_022b293090a14013ab8fce18004606ab"
          }
        },
        "969a8411dce54ba690a33badb019c3e7": {
          "model_module": "@jupyter-widgets/controls",
          "model_name": "HTMLModel",
          "model_module_version": "1.5.0",
          "state": {
            "_dom_classes": [],
            "_model_module": "@jupyter-widgets/controls",
            "_model_module_version": "1.5.0",
            "_model_name": "HTMLModel",
            "_view_count": null,
            "_view_module": "@jupyter-widgets/controls",
            "_view_module_version": "1.5.0",
            "_view_name": "HTMLView",
            "description": "",
            "description_tooltip": null,
            "layout": "IPY_MODEL_524dbe79cd124e8481ce1519c0488950",
            "placeholder": "​",
            "style": "IPY_MODEL_98b1081c9f784f5da203ca48c3d3ee5e",
            "value": "vocab.txt: 100%"
          }
        },
        "99cacd8bdf5c4af8966e29428a7a342a": {
          "model_module": "@jupyter-widgets/controls",
          "model_name": "FloatProgressModel",
          "model_module_version": "1.5.0",
          "state": {
            "_dom_classes": [],
            "_model_module": "@jupyter-widgets/controls",
            "_model_module_version": "1.5.0",
            "_model_name": "FloatProgressModel",
            "_view_count": null,
            "_view_module": "@jupyter-widgets/controls",
            "_view_module_version": "1.5.0",
            "_view_name": "ProgressView",
            "bar_style": "success",
            "description": "",
            "description_tooltip": null,
            "layout": "IPY_MODEL_342bd72a42a0408593979e0580c7475d",
            "max": 231536,
            "min": 0,
            "orientation": "horizontal",
            "style": "IPY_MODEL_2c376dadfdae473c96388c475e428f4e",
            "value": 231536
          }
        },
        "355a1c5c7f57402cb86b6bc31730698f": {
          "model_module": "@jupyter-widgets/controls",
          "model_name": "HTMLModel",
          "model_module_version": "1.5.0",
          "state": {
            "_dom_classes": [],
            "_model_module": "@jupyter-widgets/controls",
            "_model_module_version": "1.5.0",
            "_model_name": "HTMLModel",
            "_view_count": null,
            "_view_module": "@jupyter-widgets/controls",
            "_view_module_version": "1.5.0",
            "_view_name": "HTMLView",
            "description": "",
            "description_tooltip": null,
            "layout": "IPY_MODEL_88f52e42d90343208fdf03a595982b0c",
            "placeholder": "​",
            "style": "IPY_MODEL_0d86c3cac96f4f88b1d6c0a5006bf20c",
            "value": " 232k/232k [00:00&lt;00:00, 7.38MB/s]"
          }
        },
        "022b293090a14013ab8fce18004606ab": {
          "model_module": "@jupyter-widgets/base",
          "model_name": "LayoutModel",
          "model_module_version": "1.2.0",
          "state": {
            "_model_module": "@jupyter-widgets/base",
            "_model_module_version": "1.2.0",
            "_model_name": "LayoutModel",
            "_view_count": null,
            "_view_module": "@jupyter-widgets/base",
            "_view_module_version": "1.2.0",
            "_view_name": "LayoutView",
            "align_content": null,
            "align_items": null,
            "align_self": null,
            "border": null,
            "bottom": null,
            "display": null,
            "flex": null,
            "flex_flow": null,
            "grid_area": null,
            "grid_auto_columns": null,
            "grid_auto_flow": null,
            "grid_auto_rows": null,
            "grid_column": null,
            "grid_gap": null,
            "grid_row": null,
            "grid_template_areas": null,
            "grid_template_columns": null,
            "grid_template_rows": null,
            "height": null,
            "justify_content": null,
            "justify_items": null,
            "left": null,
            "margin": null,
            "max_height": null,
            "max_width": null,
            "min_height": null,
            "min_width": null,
            "object_fit": null,
            "object_position": null,
            "order": null,
            "overflow": null,
            "overflow_x": null,
            "overflow_y": null,
            "padding": null,
            "right": null,
            "top": null,
            "visibility": null,
            "width": null
          }
        },
        "524dbe79cd124e8481ce1519c0488950": {
          "model_module": "@jupyter-widgets/base",
          "model_name": "LayoutModel",
          "model_module_version": "1.2.0",
          "state": {
            "_model_module": "@jupyter-widgets/base",
            "_model_module_version": "1.2.0",
            "_model_name": "LayoutModel",
            "_view_count": null,
            "_view_module": "@jupyter-widgets/base",
            "_view_module_version": "1.2.0",
            "_view_name": "LayoutView",
            "align_content": null,
            "align_items": null,
            "align_self": null,
            "border": null,
            "bottom": null,
            "display": null,
            "flex": null,
            "flex_flow": null,
            "grid_area": null,
            "grid_auto_columns": null,
            "grid_auto_flow": null,
            "grid_auto_rows": null,
            "grid_column": null,
            "grid_gap": null,
            "grid_row": null,
            "grid_template_areas": null,
            "grid_template_columns": null,
            "grid_template_rows": null,
            "height": null,
            "justify_content": null,
            "justify_items": null,
            "left": null,
            "margin": null,
            "max_height": null,
            "max_width": null,
            "min_height": null,
            "min_width": null,
            "object_fit": null,
            "object_position": null,
            "order": null,
            "overflow": null,
            "overflow_x": null,
            "overflow_y": null,
            "padding": null,
            "right": null,
            "top": null,
            "visibility": null,
            "width": null
          }
        },
        "98b1081c9f784f5da203ca48c3d3ee5e": {
          "model_module": "@jupyter-widgets/controls",
          "model_name": "DescriptionStyleModel",
          "model_module_version": "1.5.0",
          "state": {
            "_model_module": "@jupyter-widgets/controls",
            "_model_module_version": "1.5.0",
            "_model_name": "DescriptionStyleModel",
            "_view_count": null,
            "_view_module": "@jupyter-widgets/base",
            "_view_module_version": "1.2.0",
            "_view_name": "StyleView",
            "description_width": ""
          }
        },
        "342bd72a42a0408593979e0580c7475d": {
          "model_module": "@jupyter-widgets/base",
          "model_name": "LayoutModel",
          "model_module_version": "1.2.0",
          "state": {
            "_model_module": "@jupyter-widgets/base",
            "_model_module_version": "1.2.0",
            "_model_name": "LayoutModel",
            "_view_count": null,
            "_view_module": "@jupyter-widgets/base",
            "_view_module_version": "1.2.0",
            "_view_name": "LayoutView",
            "align_content": null,
            "align_items": null,
            "align_self": null,
            "border": null,
            "bottom": null,
            "display": null,
            "flex": null,
            "flex_flow": null,
            "grid_area": null,
            "grid_auto_columns": null,
            "grid_auto_flow": null,
            "grid_auto_rows": null,
            "grid_column": null,
            "grid_gap": null,
            "grid_row": null,
            "grid_template_areas": null,
            "grid_template_columns": null,
            "grid_template_rows": null,
            "height": null,
            "justify_content": null,
            "justify_items": null,
            "left": null,
            "margin": null,
            "max_height": null,
            "max_width": null,
            "min_height": null,
            "min_width": null,
            "object_fit": null,
            "object_position": null,
            "order": null,
            "overflow": null,
            "overflow_x": null,
            "overflow_y": null,
            "padding": null,
            "right": null,
            "top": null,
            "visibility": null,
            "width": null
          }
        },
        "2c376dadfdae473c96388c475e428f4e": {
          "model_module": "@jupyter-widgets/controls",
          "model_name": "ProgressStyleModel",
          "model_module_version": "1.5.0",
          "state": {
            "_model_module": "@jupyter-widgets/controls",
            "_model_module_version": "1.5.0",
            "_model_name": "ProgressStyleModel",
            "_view_count": null,
            "_view_module": "@jupyter-widgets/base",
            "_view_module_version": "1.2.0",
            "_view_name": "StyleView",
            "bar_color": null,
            "description_width": ""
          }
        },
        "88f52e42d90343208fdf03a595982b0c": {
          "model_module": "@jupyter-widgets/base",
          "model_name": "LayoutModel",
          "model_module_version": "1.2.0",
          "state": {
            "_model_module": "@jupyter-widgets/base",
            "_model_module_version": "1.2.0",
            "_model_name": "LayoutModel",
            "_view_count": null,
            "_view_module": "@jupyter-widgets/base",
            "_view_module_version": "1.2.0",
            "_view_name": "LayoutView",
            "align_content": null,
            "align_items": null,
            "align_self": null,
            "border": null,
            "bottom": null,
            "display": null,
            "flex": null,
            "flex_flow": null,
            "grid_area": null,
            "grid_auto_columns": null,
            "grid_auto_flow": null,
            "grid_auto_rows": null,
            "grid_column": null,
            "grid_gap": null,
            "grid_row": null,
            "grid_template_areas": null,
            "grid_template_columns": null,
            "grid_template_rows": null,
            "height": null,
            "justify_content": null,
            "justify_items": null,
            "left": null,
            "margin": null,
            "max_height": null,
            "max_width": null,
            "min_height": null,
            "min_width": null,
            "object_fit": null,
            "object_position": null,
            "order": null,
            "overflow": null,
            "overflow_x": null,
            "overflow_y": null,
            "padding": null,
            "right": null,
            "top": null,
            "visibility": null,
            "width": null
          }
        },
        "0d86c3cac96f4f88b1d6c0a5006bf20c": {
          "model_module": "@jupyter-widgets/controls",
          "model_name": "DescriptionStyleModel",
          "model_module_version": "1.5.0",
          "state": {
            "_model_module": "@jupyter-widgets/controls",
            "_model_module_version": "1.5.0",
            "_model_name": "DescriptionStyleModel",
            "_view_count": null,
            "_view_module": "@jupyter-widgets/base",
            "_view_module_version": "1.2.0",
            "_view_name": "StyleView",
            "description_width": ""
          }
        },
        "04f72d7d72a04110ab036cb9125ce881": {
          "model_module": "@jupyter-widgets/controls",
          "model_name": "HBoxModel",
          "model_module_version": "1.5.0",
          "state": {
            "_dom_classes": [],
            "_model_module": "@jupyter-widgets/controls",
            "_model_module_version": "1.5.0",
            "_model_name": "HBoxModel",
            "_view_count": null,
            "_view_module": "@jupyter-widgets/controls",
            "_view_module_version": "1.5.0",
            "_view_name": "HBoxView",
            "box_style": "",
            "children": [
              "IPY_MODEL_7a192dbfb916484aa79da79d24ead4b3",
              "IPY_MODEL_50257e7b3c5a46bd89c36a17db8d7802",
              "IPY_MODEL_454ece1932d548058651cd6770708cd5"
            ],
            "layout": "IPY_MODEL_1b5b2a6ad7e14f029d8dde41c1bf3ce0"
          }
        },
        "7a192dbfb916484aa79da79d24ead4b3": {
          "model_module": "@jupyter-widgets/controls",
          "model_name": "HTMLModel",
          "model_module_version": "1.5.0",
          "state": {
            "_dom_classes": [],
            "_model_module": "@jupyter-widgets/controls",
            "_model_module_version": "1.5.0",
            "_model_name": "HTMLModel",
            "_view_count": null,
            "_view_module": "@jupyter-widgets/controls",
            "_view_module_version": "1.5.0",
            "_view_name": "HTMLView",
            "description": "",
            "description_tooltip": null,
            "layout": "IPY_MODEL_b5e772e51beb42f5821a17f7f9731626",
            "placeholder": "​",
            "style": "IPY_MODEL_34ee79ae15454bbabf34676674d446ef",
            "value": "tokenizer.json: 100%"
          }
        },
        "50257e7b3c5a46bd89c36a17db8d7802": {
          "model_module": "@jupyter-widgets/controls",
          "model_name": "FloatProgressModel",
          "model_module_version": "1.5.0",
          "state": {
            "_dom_classes": [],
            "_model_module": "@jupyter-widgets/controls",
            "_model_module_version": "1.5.0",
            "_model_name": "FloatProgressModel",
            "_view_count": null,
            "_view_module": "@jupyter-widgets/controls",
            "_view_module_version": "1.5.0",
            "_view_name": "ProgressView",
            "bar_style": "success",
            "description": "",
            "description_tooltip": null,
            "layout": "IPY_MODEL_bef3825ad5b54e9f9f9a5ba4387256bc",
            "max": 466021,
            "min": 0,
            "orientation": "horizontal",
            "style": "IPY_MODEL_7c96d76d4dc949b29fa6b31d8ac5a049",
            "value": 466021
          }
        },
        "454ece1932d548058651cd6770708cd5": {
          "model_module": "@jupyter-widgets/controls",
          "model_name": "HTMLModel",
          "model_module_version": "1.5.0",
          "state": {
            "_dom_classes": [],
            "_model_module": "@jupyter-widgets/controls",
            "_model_module_version": "1.5.0",
            "_model_name": "HTMLModel",
            "_view_count": null,
            "_view_module": "@jupyter-widgets/controls",
            "_view_module_version": "1.5.0",
            "_view_name": "HTMLView",
            "description": "",
            "description_tooltip": null,
            "layout": "IPY_MODEL_62f0accf4625453bb8ccb087684b6dbf",
            "placeholder": "​",
            "style": "IPY_MODEL_4672de05a4d1433392dfe8771a851fce",
            "value": " 466k/466k [00:00&lt;00:00, 8.41MB/s]"
          }
        },
        "1b5b2a6ad7e14f029d8dde41c1bf3ce0": {
          "model_module": "@jupyter-widgets/base",
          "model_name": "LayoutModel",
          "model_module_version": "1.2.0",
          "state": {
            "_model_module": "@jupyter-widgets/base",
            "_model_module_version": "1.2.0",
            "_model_name": "LayoutModel",
            "_view_count": null,
            "_view_module": "@jupyter-widgets/base",
            "_view_module_version": "1.2.0",
            "_view_name": "LayoutView",
            "align_content": null,
            "align_items": null,
            "align_self": null,
            "border": null,
            "bottom": null,
            "display": null,
            "flex": null,
            "flex_flow": null,
            "grid_area": null,
            "grid_auto_columns": null,
            "grid_auto_flow": null,
            "grid_auto_rows": null,
            "grid_column": null,
            "grid_gap": null,
            "grid_row": null,
            "grid_template_areas": null,
            "grid_template_columns": null,
            "grid_template_rows": null,
            "height": null,
            "justify_content": null,
            "justify_items": null,
            "left": null,
            "margin": null,
            "max_height": null,
            "max_width": null,
            "min_height": null,
            "min_width": null,
            "object_fit": null,
            "object_position": null,
            "order": null,
            "overflow": null,
            "overflow_x": null,
            "overflow_y": null,
            "padding": null,
            "right": null,
            "top": null,
            "visibility": null,
            "width": null
          }
        },
        "b5e772e51beb42f5821a17f7f9731626": {
          "model_module": "@jupyter-widgets/base",
          "model_name": "LayoutModel",
          "model_module_version": "1.2.0",
          "state": {
            "_model_module": "@jupyter-widgets/base",
            "_model_module_version": "1.2.0",
            "_model_name": "LayoutModel",
            "_view_count": null,
            "_view_module": "@jupyter-widgets/base",
            "_view_module_version": "1.2.0",
            "_view_name": "LayoutView",
            "align_content": null,
            "align_items": null,
            "align_self": null,
            "border": null,
            "bottom": null,
            "display": null,
            "flex": null,
            "flex_flow": null,
            "grid_area": null,
            "grid_auto_columns": null,
            "grid_auto_flow": null,
            "grid_auto_rows": null,
            "grid_column": null,
            "grid_gap": null,
            "grid_row": null,
            "grid_template_areas": null,
            "grid_template_columns": null,
            "grid_template_rows": null,
            "height": null,
            "justify_content": null,
            "justify_items": null,
            "left": null,
            "margin": null,
            "max_height": null,
            "max_width": null,
            "min_height": null,
            "min_width": null,
            "object_fit": null,
            "object_position": null,
            "order": null,
            "overflow": null,
            "overflow_x": null,
            "overflow_y": null,
            "padding": null,
            "right": null,
            "top": null,
            "visibility": null,
            "width": null
          }
        },
        "34ee79ae15454bbabf34676674d446ef": {
          "model_module": "@jupyter-widgets/controls",
          "model_name": "DescriptionStyleModel",
          "model_module_version": "1.5.0",
          "state": {
            "_model_module": "@jupyter-widgets/controls",
            "_model_module_version": "1.5.0",
            "_model_name": "DescriptionStyleModel",
            "_view_count": null,
            "_view_module": "@jupyter-widgets/base",
            "_view_module_version": "1.2.0",
            "_view_name": "StyleView",
            "description_width": ""
          }
        },
        "bef3825ad5b54e9f9f9a5ba4387256bc": {
          "model_module": "@jupyter-widgets/base",
          "model_name": "LayoutModel",
          "model_module_version": "1.2.0",
          "state": {
            "_model_module": "@jupyter-widgets/base",
            "_model_module_version": "1.2.0",
            "_model_name": "LayoutModel",
            "_view_count": null,
            "_view_module": "@jupyter-widgets/base",
            "_view_module_version": "1.2.0",
            "_view_name": "LayoutView",
            "align_content": null,
            "align_items": null,
            "align_self": null,
            "border": null,
            "bottom": null,
            "display": null,
            "flex": null,
            "flex_flow": null,
            "grid_area": null,
            "grid_auto_columns": null,
            "grid_auto_flow": null,
            "grid_auto_rows": null,
            "grid_column": null,
            "grid_gap": null,
            "grid_row": null,
            "grid_template_areas": null,
            "grid_template_columns": null,
            "grid_template_rows": null,
            "height": null,
            "justify_content": null,
            "justify_items": null,
            "left": null,
            "margin": null,
            "max_height": null,
            "max_width": null,
            "min_height": null,
            "min_width": null,
            "object_fit": null,
            "object_position": null,
            "order": null,
            "overflow": null,
            "overflow_x": null,
            "overflow_y": null,
            "padding": null,
            "right": null,
            "top": null,
            "visibility": null,
            "width": null
          }
        },
        "7c96d76d4dc949b29fa6b31d8ac5a049": {
          "model_module": "@jupyter-widgets/controls",
          "model_name": "ProgressStyleModel",
          "model_module_version": "1.5.0",
          "state": {
            "_model_module": "@jupyter-widgets/controls",
            "_model_module_version": "1.5.0",
            "_model_name": "ProgressStyleModel",
            "_view_count": null,
            "_view_module": "@jupyter-widgets/base",
            "_view_module_version": "1.2.0",
            "_view_name": "StyleView",
            "bar_color": null,
            "description_width": ""
          }
        },
        "62f0accf4625453bb8ccb087684b6dbf": {
          "model_module": "@jupyter-widgets/base",
          "model_name": "LayoutModel",
          "model_module_version": "1.2.0",
          "state": {
            "_model_module": "@jupyter-widgets/base",
            "_model_module_version": "1.2.0",
            "_model_name": "LayoutModel",
            "_view_count": null,
            "_view_module": "@jupyter-widgets/base",
            "_view_module_version": "1.2.0",
            "_view_name": "LayoutView",
            "align_content": null,
            "align_items": null,
            "align_self": null,
            "border": null,
            "bottom": null,
            "display": null,
            "flex": null,
            "flex_flow": null,
            "grid_area": null,
            "grid_auto_columns": null,
            "grid_auto_flow": null,
            "grid_auto_rows": null,
            "grid_column": null,
            "grid_gap": null,
            "grid_row": null,
            "grid_template_areas": null,
            "grid_template_columns": null,
            "grid_template_rows": null,
            "height": null,
            "justify_content": null,
            "justify_items": null,
            "left": null,
            "margin": null,
            "max_height": null,
            "max_width": null,
            "min_height": null,
            "min_width": null,
            "object_fit": null,
            "object_position": null,
            "order": null,
            "overflow": null,
            "overflow_x": null,
            "overflow_y": null,
            "padding": null,
            "right": null,
            "top": null,
            "visibility": null,
            "width": null
          }
        },
        "4672de05a4d1433392dfe8771a851fce": {
          "model_module": "@jupyter-widgets/controls",
          "model_name": "DescriptionStyleModel",
          "model_module_version": "1.5.0",
          "state": {
            "_model_module": "@jupyter-widgets/controls",
            "_model_module_version": "1.5.0",
            "_model_name": "DescriptionStyleModel",
            "_view_count": null,
            "_view_module": "@jupyter-widgets/base",
            "_view_module_version": "1.2.0",
            "_view_name": "StyleView",
            "description_width": ""
          }
        },
        "4005469728e6459abfb19a83c3e8e8e6": {
          "model_module": "@jupyter-widgets/controls",
          "model_name": "HBoxModel",
          "model_module_version": "1.5.0",
          "state": {
            "_dom_classes": [],
            "_model_module": "@jupyter-widgets/controls",
            "_model_module_version": "1.5.0",
            "_model_name": "HBoxModel",
            "_view_count": null,
            "_view_module": "@jupyter-widgets/controls",
            "_view_module_version": "1.5.0",
            "_view_name": "HBoxView",
            "box_style": "",
            "children": [
              "IPY_MODEL_f66c55994ba948c8a0ef46ffa832e918",
              "IPY_MODEL_243613a48ca643cba92e711873952d73",
              "IPY_MODEL_5ae9a52a6973475fba029abce161aa15"
            ],
            "layout": "IPY_MODEL_c6ffbcca982e40d38264fd2b3073b64e"
          }
        },
        "f66c55994ba948c8a0ef46ffa832e918": {
          "model_module": "@jupyter-widgets/controls",
          "model_name": "HTMLModel",
          "model_module_version": "1.5.0",
          "state": {
            "_dom_classes": [],
            "_model_module": "@jupyter-widgets/controls",
            "_model_module_version": "1.5.0",
            "_model_name": "HTMLModel",
            "_view_count": null,
            "_view_module": "@jupyter-widgets/controls",
            "_view_module_version": "1.5.0",
            "_view_name": "HTMLView",
            "description": "",
            "description_tooltip": null,
            "layout": "IPY_MODEL_7dab767ed6c54ebeba5cbcc7d65cdc11",
            "placeholder": "​",
            "style": "IPY_MODEL_85df4d3019e44cf1aa0d00653b21e73e",
            "value": "special_tokens_map.json: 100%"
          }
        },
        "243613a48ca643cba92e711873952d73": {
          "model_module": "@jupyter-widgets/controls",
          "model_name": "FloatProgressModel",
          "model_module_version": "1.5.0",
          "state": {
            "_dom_classes": [],
            "_model_module": "@jupyter-widgets/controls",
            "_model_module_version": "1.5.0",
            "_model_name": "FloatProgressModel",
            "_view_count": null,
            "_view_module": "@jupyter-widgets/controls",
            "_view_module_version": "1.5.0",
            "_view_name": "ProgressView",
            "bar_style": "success",
            "description": "",
            "description_tooltip": null,
            "layout": "IPY_MODEL_e029e0f317e04a14b30e60858bf8cbe6",
            "max": 239,
            "min": 0,
            "orientation": "horizontal",
            "style": "IPY_MODEL_5392ead4c16944ffb3a4770f85043a8c",
            "value": 239
          }
        },
        "5ae9a52a6973475fba029abce161aa15": {
          "model_module": "@jupyter-widgets/controls",
          "model_name": "HTMLModel",
          "model_module_version": "1.5.0",
          "state": {
            "_dom_classes": [],
            "_model_module": "@jupyter-widgets/controls",
            "_model_module_version": "1.5.0",
            "_model_name": "HTMLModel",
            "_view_count": null,
            "_view_module": "@jupyter-widgets/controls",
            "_view_module_version": "1.5.0",
            "_view_name": "HTMLView",
            "description": "",
            "description_tooltip": null,
            "layout": "IPY_MODEL_de12048e8c85498385922255e92624ef",
            "placeholder": "​",
            "style": "IPY_MODEL_f30cbde294a740c1891aaa21cab646d9",
            "value": " 239/239 [00:00&lt;00:00, 13.4kB/s]"
          }
        },
        "c6ffbcca982e40d38264fd2b3073b64e": {
          "model_module": "@jupyter-widgets/base",
          "model_name": "LayoutModel",
          "model_module_version": "1.2.0",
          "state": {
            "_model_module": "@jupyter-widgets/base",
            "_model_module_version": "1.2.0",
            "_model_name": "LayoutModel",
            "_view_count": null,
            "_view_module": "@jupyter-widgets/base",
            "_view_module_version": "1.2.0",
            "_view_name": "LayoutView",
            "align_content": null,
            "align_items": null,
            "align_self": null,
            "border": null,
            "bottom": null,
            "display": null,
            "flex": null,
            "flex_flow": null,
            "grid_area": null,
            "grid_auto_columns": null,
            "grid_auto_flow": null,
            "grid_auto_rows": null,
            "grid_column": null,
            "grid_gap": null,
            "grid_row": null,
            "grid_template_areas": null,
            "grid_template_columns": null,
            "grid_template_rows": null,
            "height": null,
            "justify_content": null,
            "justify_items": null,
            "left": null,
            "margin": null,
            "max_height": null,
            "max_width": null,
            "min_height": null,
            "min_width": null,
            "object_fit": null,
            "object_position": null,
            "order": null,
            "overflow": null,
            "overflow_x": null,
            "overflow_y": null,
            "padding": null,
            "right": null,
            "top": null,
            "visibility": null,
            "width": null
          }
        },
        "7dab767ed6c54ebeba5cbcc7d65cdc11": {
          "model_module": "@jupyter-widgets/base",
          "model_name": "LayoutModel",
          "model_module_version": "1.2.0",
          "state": {
            "_model_module": "@jupyter-widgets/base",
            "_model_module_version": "1.2.0",
            "_model_name": "LayoutModel",
            "_view_count": null,
            "_view_module": "@jupyter-widgets/base",
            "_view_module_version": "1.2.0",
            "_view_name": "LayoutView",
            "align_content": null,
            "align_items": null,
            "align_self": null,
            "border": null,
            "bottom": null,
            "display": null,
            "flex": null,
            "flex_flow": null,
            "grid_area": null,
            "grid_auto_columns": null,
            "grid_auto_flow": null,
            "grid_auto_rows": null,
            "grid_column": null,
            "grid_gap": null,
            "grid_row": null,
            "grid_template_areas": null,
            "grid_template_columns": null,
            "grid_template_rows": null,
            "height": null,
            "justify_content": null,
            "justify_items": null,
            "left": null,
            "margin": null,
            "max_height": null,
            "max_width": null,
            "min_height": null,
            "min_width": null,
            "object_fit": null,
            "object_position": null,
            "order": null,
            "overflow": null,
            "overflow_x": null,
            "overflow_y": null,
            "padding": null,
            "right": null,
            "top": null,
            "visibility": null,
            "width": null
          }
        },
        "85df4d3019e44cf1aa0d00653b21e73e": {
          "model_module": "@jupyter-widgets/controls",
          "model_name": "DescriptionStyleModel",
          "model_module_version": "1.5.0",
          "state": {
            "_model_module": "@jupyter-widgets/controls",
            "_model_module_version": "1.5.0",
            "_model_name": "DescriptionStyleModel",
            "_view_count": null,
            "_view_module": "@jupyter-widgets/base",
            "_view_module_version": "1.2.0",
            "_view_name": "StyleView",
            "description_width": ""
          }
        },
        "e029e0f317e04a14b30e60858bf8cbe6": {
          "model_module": "@jupyter-widgets/base",
          "model_name": "LayoutModel",
          "model_module_version": "1.2.0",
          "state": {
            "_model_module": "@jupyter-widgets/base",
            "_model_module_version": "1.2.0",
            "_model_name": "LayoutModel",
            "_view_count": null,
            "_view_module": "@jupyter-widgets/base",
            "_view_module_version": "1.2.0",
            "_view_name": "LayoutView",
            "align_content": null,
            "align_items": null,
            "align_self": null,
            "border": null,
            "bottom": null,
            "display": null,
            "flex": null,
            "flex_flow": null,
            "grid_area": null,
            "grid_auto_columns": null,
            "grid_auto_flow": null,
            "grid_auto_rows": null,
            "grid_column": null,
            "grid_gap": null,
            "grid_row": null,
            "grid_template_areas": null,
            "grid_template_columns": null,
            "grid_template_rows": null,
            "height": null,
            "justify_content": null,
            "justify_items": null,
            "left": null,
            "margin": null,
            "max_height": null,
            "max_width": null,
            "min_height": null,
            "min_width": null,
            "object_fit": null,
            "object_position": null,
            "order": null,
            "overflow": null,
            "overflow_x": null,
            "overflow_y": null,
            "padding": null,
            "right": null,
            "top": null,
            "visibility": null,
            "width": null
          }
        },
        "5392ead4c16944ffb3a4770f85043a8c": {
          "model_module": "@jupyter-widgets/controls",
          "model_name": "ProgressStyleModel",
          "model_module_version": "1.5.0",
          "state": {
            "_model_module": "@jupyter-widgets/controls",
            "_model_module_version": "1.5.0",
            "_model_name": "ProgressStyleModel",
            "_view_count": null,
            "_view_module": "@jupyter-widgets/base",
            "_view_module_version": "1.2.0",
            "_view_name": "StyleView",
            "bar_color": null,
            "description_width": ""
          }
        },
        "de12048e8c85498385922255e92624ef": {
          "model_module": "@jupyter-widgets/base",
          "model_name": "LayoutModel",
          "model_module_version": "1.2.0",
          "state": {
            "_model_module": "@jupyter-widgets/base",
            "_model_module_version": "1.2.0",
            "_model_name": "LayoutModel",
            "_view_count": null,
            "_view_module": "@jupyter-widgets/base",
            "_view_module_version": "1.2.0",
            "_view_name": "LayoutView",
            "align_content": null,
            "align_items": null,
            "align_self": null,
            "border": null,
            "bottom": null,
            "display": null,
            "flex": null,
            "flex_flow": null,
            "grid_area": null,
            "grid_auto_columns": null,
            "grid_auto_flow": null,
            "grid_auto_rows": null,
            "grid_column": null,
            "grid_gap": null,
            "grid_row": null,
            "grid_template_areas": null,
            "grid_template_columns": null,
            "grid_template_rows": null,
            "height": null,
            "justify_content": null,
            "justify_items": null,
            "left": null,
            "margin": null,
            "max_height": null,
            "max_width": null,
            "min_height": null,
            "min_width": null,
            "object_fit": null,
            "object_position": null,
            "order": null,
            "overflow": null,
            "overflow_x": null,
            "overflow_y": null,
            "padding": null,
            "right": null,
            "top": null,
            "visibility": null,
            "width": null
          }
        },
        "f30cbde294a740c1891aaa21cab646d9": {
          "model_module": "@jupyter-widgets/controls",
          "model_name": "DescriptionStyleModel",
          "model_module_version": "1.5.0",
          "state": {
            "_model_module": "@jupyter-widgets/controls",
            "_model_module_version": "1.5.0",
            "_model_name": "DescriptionStyleModel",
            "_view_count": null,
            "_view_module": "@jupyter-widgets/base",
            "_view_module_version": "1.2.0",
            "_view_name": "StyleView",
            "description_width": ""
          }
        },
        "cf7e6e1652ea478d83b27453e000a2f4": {
          "model_module": "@jupyter-widgets/controls",
          "model_name": "HBoxModel",
          "model_module_version": "1.5.0",
          "state": {
            "_dom_classes": [],
            "_model_module": "@jupyter-widgets/controls",
            "_model_module_version": "1.5.0",
            "_model_name": "HBoxModel",
            "_view_count": null,
            "_view_module": "@jupyter-widgets/controls",
            "_view_module_version": "1.5.0",
            "_view_name": "HBoxView",
            "box_style": "",
            "children": [
              "IPY_MODEL_fc1c0b7c9f5a476199131219ac4d90f0",
              "IPY_MODEL_36609ac6a4634588a910434b29e3c010",
              "IPY_MODEL_a3095a436cf34800b705447ee262a2de"
            ],
            "layout": "IPY_MODEL_5acb1b97798e40fd82a01908246f161c"
          }
        },
        "fc1c0b7c9f5a476199131219ac4d90f0": {
          "model_module": "@jupyter-widgets/controls",
          "model_name": "HTMLModel",
          "model_module_version": "1.5.0",
          "state": {
            "_dom_classes": [],
            "_model_module": "@jupyter-widgets/controls",
            "_model_module_version": "1.5.0",
            "_model_name": "HTMLModel",
            "_view_count": null,
            "_view_module": "@jupyter-widgets/controls",
            "_view_module_version": "1.5.0",
            "_view_name": "HTMLView",
            "description": "",
            "description_tooltip": null,
            "layout": "IPY_MODEL_289f890f366a4eed93d46bba4a35e4dc",
            "placeholder": "​",
            "style": "IPY_MODEL_93af4c0f965141caac07f7e9525089be",
            "value": "1_Pooling/config.json: 100%"
          }
        },
        "36609ac6a4634588a910434b29e3c010": {
          "model_module": "@jupyter-widgets/controls",
          "model_name": "FloatProgressModel",
          "model_module_version": "1.5.0",
          "state": {
            "_dom_classes": [],
            "_model_module": "@jupyter-widgets/controls",
            "_model_module_version": "1.5.0",
            "_model_name": "FloatProgressModel",
            "_view_count": null,
            "_view_module": "@jupyter-widgets/controls",
            "_view_module_version": "1.5.0",
            "_view_name": "ProgressView",
            "bar_style": "success",
            "description": "",
            "description_tooltip": null,
            "layout": "IPY_MODEL_559a1f6b200d4a328dcfb61926461a74",
            "max": 190,
            "min": 0,
            "orientation": "horizontal",
            "style": "IPY_MODEL_765ac513414141f5a2cd7c3f27d206f4",
            "value": 190
          }
        },
        "a3095a436cf34800b705447ee262a2de": {
          "model_module": "@jupyter-widgets/controls",
          "model_name": "HTMLModel",
          "model_module_version": "1.5.0",
          "state": {
            "_dom_classes": [],
            "_model_module": "@jupyter-widgets/controls",
            "_model_module_version": "1.5.0",
            "_model_name": "HTMLModel",
            "_view_count": null,
            "_view_module": "@jupyter-widgets/controls",
            "_view_module_version": "1.5.0",
            "_view_name": "HTMLView",
            "description": "",
            "description_tooltip": null,
            "layout": "IPY_MODEL_fbd10ade9a9042fda0e0acd7cf1e55c3",
            "placeholder": "​",
            "style": "IPY_MODEL_440e2ef084884161831a13793dc30aef",
            "value": " 190/190 [00:00&lt;00:00, 7.58kB/s]"
          }
        },
        "5acb1b97798e40fd82a01908246f161c": {
          "model_module": "@jupyter-widgets/base",
          "model_name": "LayoutModel",
          "model_module_version": "1.2.0",
          "state": {
            "_model_module": "@jupyter-widgets/base",
            "_model_module_version": "1.2.0",
            "_model_name": "LayoutModel",
            "_view_count": null,
            "_view_module": "@jupyter-widgets/base",
            "_view_module_version": "1.2.0",
            "_view_name": "LayoutView",
            "align_content": null,
            "align_items": null,
            "align_self": null,
            "border": null,
            "bottom": null,
            "display": null,
            "flex": null,
            "flex_flow": null,
            "grid_area": null,
            "grid_auto_columns": null,
            "grid_auto_flow": null,
            "grid_auto_rows": null,
            "grid_column": null,
            "grid_gap": null,
            "grid_row": null,
            "grid_template_areas": null,
            "grid_template_columns": null,
            "grid_template_rows": null,
            "height": null,
            "justify_content": null,
            "justify_items": null,
            "left": null,
            "margin": null,
            "max_height": null,
            "max_width": null,
            "min_height": null,
            "min_width": null,
            "object_fit": null,
            "object_position": null,
            "order": null,
            "overflow": null,
            "overflow_x": null,
            "overflow_y": null,
            "padding": null,
            "right": null,
            "top": null,
            "visibility": null,
            "width": null
          }
        },
        "289f890f366a4eed93d46bba4a35e4dc": {
          "model_module": "@jupyter-widgets/base",
          "model_name": "LayoutModel",
          "model_module_version": "1.2.0",
          "state": {
            "_model_module": "@jupyter-widgets/base",
            "_model_module_version": "1.2.0",
            "_model_name": "LayoutModel",
            "_view_count": null,
            "_view_module": "@jupyter-widgets/base",
            "_view_module_version": "1.2.0",
            "_view_name": "LayoutView",
            "align_content": null,
            "align_items": null,
            "align_self": null,
            "border": null,
            "bottom": null,
            "display": null,
            "flex": null,
            "flex_flow": null,
            "grid_area": null,
            "grid_auto_columns": null,
            "grid_auto_flow": null,
            "grid_auto_rows": null,
            "grid_column": null,
            "grid_gap": null,
            "grid_row": null,
            "grid_template_areas": null,
            "grid_template_columns": null,
            "grid_template_rows": null,
            "height": null,
            "justify_content": null,
            "justify_items": null,
            "left": null,
            "margin": null,
            "max_height": null,
            "max_width": null,
            "min_height": null,
            "min_width": null,
            "object_fit": null,
            "object_position": null,
            "order": null,
            "overflow": null,
            "overflow_x": null,
            "overflow_y": null,
            "padding": null,
            "right": null,
            "top": null,
            "visibility": null,
            "width": null
          }
        },
        "93af4c0f965141caac07f7e9525089be": {
          "model_module": "@jupyter-widgets/controls",
          "model_name": "DescriptionStyleModel",
          "model_module_version": "1.5.0",
          "state": {
            "_model_module": "@jupyter-widgets/controls",
            "_model_module_version": "1.5.0",
            "_model_name": "DescriptionStyleModel",
            "_view_count": null,
            "_view_module": "@jupyter-widgets/base",
            "_view_module_version": "1.2.0",
            "_view_name": "StyleView",
            "description_width": ""
          }
        },
        "559a1f6b200d4a328dcfb61926461a74": {
          "model_module": "@jupyter-widgets/base",
          "model_name": "LayoutModel",
          "model_module_version": "1.2.0",
          "state": {
            "_model_module": "@jupyter-widgets/base",
            "_model_module_version": "1.2.0",
            "_model_name": "LayoutModel",
            "_view_count": null,
            "_view_module": "@jupyter-widgets/base",
            "_view_module_version": "1.2.0",
            "_view_name": "LayoutView",
            "align_content": null,
            "align_items": null,
            "align_self": null,
            "border": null,
            "bottom": null,
            "display": null,
            "flex": null,
            "flex_flow": null,
            "grid_area": null,
            "grid_auto_columns": null,
            "grid_auto_flow": null,
            "grid_auto_rows": null,
            "grid_column": null,
            "grid_gap": null,
            "grid_row": null,
            "grid_template_areas": null,
            "grid_template_columns": null,
            "grid_template_rows": null,
            "height": null,
            "justify_content": null,
            "justify_items": null,
            "left": null,
            "margin": null,
            "max_height": null,
            "max_width": null,
            "min_height": null,
            "min_width": null,
            "object_fit": null,
            "object_position": null,
            "order": null,
            "overflow": null,
            "overflow_x": null,
            "overflow_y": null,
            "padding": null,
            "right": null,
            "top": null,
            "visibility": null,
            "width": null
          }
        },
        "765ac513414141f5a2cd7c3f27d206f4": {
          "model_module": "@jupyter-widgets/controls",
          "model_name": "ProgressStyleModel",
          "model_module_version": "1.5.0",
          "state": {
            "_model_module": "@jupyter-widgets/controls",
            "_model_module_version": "1.5.0",
            "_model_name": "ProgressStyleModel",
            "_view_count": null,
            "_view_module": "@jupyter-widgets/base",
            "_view_module_version": "1.2.0",
            "_view_name": "StyleView",
            "bar_color": null,
            "description_width": ""
          }
        },
        "fbd10ade9a9042fda0e0acd7cf1e55c3": {
          "model_module": "@jupyter-widgets/base",
          "model_name": "LayoutModel",
          "model_module_version": "1.2.0",
          "state": {
            "_model_module": "@jupyter-widgets/base",
            "_model_module_version": "1.2.0",
            "_model_name": "LayoutModel",
            "_view_count": null,
            "_view_module": "@jupyter-widgets/base",
            "_view_module_version": "1.2.0",
            "_view_name": "LayoutView",
            "align_content": null,
            "align_items": null,
            "align_self": null,
            "border": null,
            "bottom": null,
            "display": null,
            "flex": null,
            "flex_flow": null,
            "grid_area": null,
            "grid_auto_columns": null,
            "grid_auto_flow": null,
            "grid_auto_rows": null,
            "grid_column": null,
            "grid_gap": null,
            "grid_row": null,
            "grid_template_areas": null,
            "grid_template_columns": null,
            "grid_template_rows": null,
            "height": null,
            "justify_content": null,
            "justify_items": null,
            "left": null,
            "margin": null,
            "max_height": null,
            "max_width": null,
            "min_height": null,
            "min_width": null,
            "object_fit": null,
            "object_position": null,
            "order": null,
            "overflow": null,
            "overflow_x": null,
            "overflow_y": null,
            "padding": null,
            "right": null,
            "top": null,
            "visibility": null,
            "width": null
          }
        },
        "440e2ef084884161831a13793dc30aef": {
          "model_module": "@jupyter-widgets/controls",
          "model_name": "DescriptionStyleModel",
          "model_module_version": "1.5.0",
          "state": {
            "_model_module": "@jupyter-widgets/controls",
            "_model_module_version": "1.5.0",
            "_model_name": "DescriptionStyleModel",
            "_view_count": null,
            "_view_module": "@jupyter-widgets/base",
            "_view_module_version": "1.2.0",
            "_view_name": "StyleView",
            "description_width": ""
          }
        }
      }
    }
  },
  "cells": [
    {
      "cell_type": "markdown",
      "metadata": {
        "id": "view-in-github",
        "colab_type": "text"
      },
      "source": [
        "<a href=\"https://colab.research.google.com/github/byu-cs-452/byu-cs-452-class-content/blob/main/embed/ConferenceScraperAndEmbeddings.ipynb\" target=\"_parent\"><img src=\"https://colab.research.google.com/assets/colab-badge.svg\" alt=\"Open In Colab\"/></a>"
      ]
    },
    {
      "cell_type": "markdown",
      "source": [
        "# You don't need to read all of this if you don't want to. Just \"run all\" if you want\" and wait for it to download."
      ],
      "metadata": {
        "id": "PoZRQbASYwYR"
      }
    },
    {
      "cell_type": "markdown",
      "source": [
        "### Install Required Libraries\n",
        "\n",
        "This cell installs the necessary Python libraries for web scraping, working with HTML content, and data manipulation.\n",
        "\n",
        "- `requests`: Used to fetch HTML content from web pages.\n",
        "- `beautifulsoup4`: Parses and extracts content from the HTML.\n",
        "- `PyPDF2`: If you need to work with PDF files.\n"
      ],
      "metadata": {
        "id": "225EVrFfYaRd"
      }
    },
    {
      "cell_type": "code",
      "execution_count": 1,
      "metadata": {
        "id": "EHwZi0Axx2ZD",
        "outputId": "6499768c-cf0e-459c-8fb8-dea0e1ab9092",
        "colab": {
          "base_uri": "https://localhost:8080/"
        }
      },
      "outputs": [
        {
          "output_type": "stream",
          "name": "stdout",
          "text": [
            "Requirement already satisfied: requests in /usr/local/lib/python3.11/dist-packages (2.32.3)\n",
            "Requirement already satisfied: beautifulsoup4 in /usr/local/lib/python3.11/dist-packages (4.12.3)\n",
            "Collecting PyPDF2\n",
            "  Downloading pypdf2-3.0.1-py3-none-any.whl.metadata (6.8 kB)\n",
            "Requirement already satisfied: charset-normalizer<4,>=2 in /usr/local/lib/python3.11/dist-packages (from requests) (3.4.1)\n",
            "Requirement already satisfied: idna<4,>=2.5 in /usr/local/lib/python3.11/dist-packages (from requests) (3.10)\n",
            "Requirement already satisfied: urllib3<3,>=1.21.1 in /usr/local/lib/python3.11/dist-packages (from requests) (2.3.0)\n",
            "Requirement already satisfied: certifi>=2017.4.17 in /usr/local/lib/python3.11/dist-packages (from requests) (2024.12.14)\n",
            "Requirement already satisfied: soupsieve>1.2 in /usr/local/lib/python3.11/dist-packages (from beautifulsoup4) (2.6)\n",
            "Downloading pypdf2-3.0.1-py3-none-any.whl (232 kB)\n",
            "\u001b[2K   \u001b[90m━━━━━━━━━━━━━━━━━━━━━━━━━━━━━━━━━━━━━━━━\u001b[0m \u001b[32m232.6/232.6 kB\u001b[0m \u001b[31m3.4 MB/s\u001b[0m eta \u001b[36m0:00:00\u001b[0m\n",
            "\u001b[?25hInstalling collected packages: PyPDF2\n",
            "Successfully installed PyPDF2-3.0.1\n"
          ]
        }
      ],
      "source": [
        "!pip install requests beautifulsoup4 PyPDF2\n",
        "\n"
      ]
    },
    {
      "cell_type": "markdown",
      "source": [
        "### Web Scraping Conference Talks\n",
        "\n",
        "This block contains helper functions for scraping LDS General Conference talks from the Church's website.\n",
        "\n",
        "- `get_soup()`: Sends a request and parses the HTML from a given URL.\n",
        "- `is_decade_page()`: Identifies if the URL is a decade selection page.\n",
        "- `scrape_conference_pages()`: Fetches URLs for each conference (April/October) from the main page.\n",
        "- `scrape_talk_urls()`: Retrieves URLs for individual talks from a specific conference.\n",
        "- `scrape_talk_data()`: Scrapes the detailed data for each talk, such as title, speaker, calling, year, and season.\n"
      ],
      "metadata": {
        "id": "3Z3FcXjAYgBU"
      }
    },
    {
      "cell_type": "code",
      "source": [
        "import requests\n",
        "from bs4 import BeautifulSoup\n",
        "import pandas as pd\n",
        "import re\n",
        "import unicodedata\n",
        "import time\n",
        "from tqdm import tqdm\n",
        "from concurrent.futures import ThreadPoolExecutor\n",
        "\n",
        "def get_soup(url):\n",
        "    \"\"\"Create a tree structure (BeautifulSoup) out of a GET request's HTML.\"\"\"\n",
        "    try:\n",
        "        r = requests.get(url, allow_redirects=True)\n",
        "        r.raise_for_status()\n",
        "        print(f\"Successfully fetched {r.url}\")\n",
        "        return BeautifulSoup(r.content, \"html5lib\")\n",
        "    except requests.RequestException as e:\n",
        "        print(f\"Error fetching {url}: {e}\")\n",
        "        return None\n",
        "\n",
        "def is_decade_page(url):\n",
        "    \"\"\"Check if a page is a decade selection page.\"\"\"\n",
        "    return bool(re.search(r\"/study/general-conference/\\d{4}\\d{4}\", url))\n",
        "\n",
        "def scrape_conference_pages(main_page_url):\n",
        "    \"\"\"Retrieve a list of URLs for each conference (year/month) from the main page.\"\"\"\n",
        "    soup = get_soup(main_page_url)\n",
        "    if soup is None:\n",
        "        print(f\"Failed to fetch content from {main_page_url}\")\n",
        "        return []\n",
        "\n",
        "    all_conference_links = []\n",
        "\n",
        "    # Find all the links to individual conferences or decades\n",
        "    links = [\n",
        "        \"https://www.churchofjesuschrist.org\" + a[\"href\"]\n",
        "        for a in soup.find_all(\"a\", href=True)\n",
        "        if re.search(r\"/study/general-conference/(\\d{4}/(04|10)|\\d{4}\\d{4})\", a[\"href\"])\n",
        "    ]\n",
        "\n",
        "    for link in links:\n",
        "        if is_decade_page(link):\n",
        "            # Handle decade page\n",
        "            decade_soup = get_soup(link)\n",
        "            if decade_soup:\n",
        "                year_links = [\n",
        "                    \"https://www.churchofjesuschrist.org\" + a[\"href\"]\n",
        "                    for a in decade_soup.find_all(\"a\", href=True)\n",
        "                    if re.search(r\"/study/general-conference/\\d{4}/(04|10)\", a[\"href\"])\n",
        "                ]\n",
        "                all_conference_links.extend(year_links)\n",
        "        else:\n",
        "            all_conference_links.append(link)\n",
        "            #print(f\"direct: {link}\")\n",
        "\n",
        "    print(f\"Total conference links found: {len(all_conference_links)}\")\n",
        "    print(\"Sample conference links:\", all_conference_links[:5])\n",
        "    print(all_conference_links)\n",
        "    #https://www.churchofjesuschrist.org/study/general-conference/2024/10?lang=eng\n",
        "    filtered_links = list(filter(lambda link: int(link.split(\"/\")[5]) >= 2018, all_conference_links))\n",
        "    #return all_conference_links\n",
        "    return filtered_links\n",
        "\n",
        "def scrape_talk_urls(conference_url):\n",
        "    \"\"\"Retrieve a list of URLs for each talk in a specific conference.\"\"\"\n",
        "    soup = get_soup(conference_url)\n",
        "    if soup is None:\n",
        "        return []\n",
        "\n",
        "    talk_links = [\n",
        "        \"https://www.churchofjesuschrist.org\" + a[\"href\"]\n",
        "        for a in soup.find_all(\"a\", href=True)\n",
        "        if re.search(r\"/study/general-conference/\\d{4}/(04|10)/.*\", a[\"href\"])\n",
        "    ]\n",
        "\n",
        "    # Remove duplicate links and session links\n",
        "    talk_links = list(set(talk_links))\n",
        "    talk_links = [link for link in talk_links if not link.endswith(\"session?lang=eng\")]\n",
        "\n",
        "    print(f\"Found {len(talk_links)} talk links in {conference_url}\")\n",
        "    if talk_links:\n",
        "        print(\"Sample talk links:\", talk_links[:3])\n",
        "    return talk_links\n",
        "\n",
        "def scrape_talk_data(url):\n",
        "    \"\"\"Scrapes a single talk for data such as: title, conference, calling, speaker, content.\"\"\"\n",
        "    try:\n",
        "        soup = get_soup(url)\n",
        "        if soup is None:\n",
        "            return {}\n",
        "\n",
        "        title_tag = soup.find(\"h1\")\n",
        "        title = title_tag.text.strip() if title_tag else \"No Title Found\"\n",
        "\n",
        "        conference_tag = soup.find(\"p\", {\"class\": \"subtitle\"})\n",
        "        conference = conference_tag.text.strip() if conference_tag else \"No Conference Found\"\n",
        "\n",
        "        author_tag = soup.find(\"p\", {\"class\": \"author-name\"})\n",
        "        speaker = author_tag.text.strip() if author_tag else \"No Speaker Found\"\n",
        "\n",
        "        calling_tag = soup.find(\"p\", {\"class\": \"author-role\"})\n",
        "        calling = calling_tag.text.strip() if calling_tag else \"No Calling Found\"\n",
        "\n",
        "        content_array = soup.find(\"div\", {\"class\": \"body-block\"})\n",
        "        content = \"\\n\\n\".join(paragraph.text.strip() for paragraph in content_array.find_all(\"p\")) if content_array else \"No Content Found\"\n",
        "\n",
        "        footnotes = \"\\n\".join(\n",
        "            f\"{idx}. {note.text.strip()}\" for idx, note in enumerate(soup.find_all(\"li\", {\"class\": \"study-note\"}), start=1)\n",
        "        ) if soup.find_all(\"li\", {\"class\": \"study-note\"}) else \"No Footnotes Found\"\n",
        "\n",
        "        year = re.search(r'/(\\d{4})/', url).group(1)\n",
        "        season = \"April\" if \"/04/\" in url else \"October\"\n",
        "\n",
        "        return {\n",
        "            \"title\": title,\n",
        "            \"speaker\": speaker,\n",
        "            \"calling\": calling,\n",
        "            \"year\": year,\n",
        "            \"season\": season,\n",
        "            \"url\": url,\n",
        "            \"talk\": content,\n",
        "            \"footnotes\": footnotes,\n",
        "        }\n",
        "    except Exception as e:\n",
        "        print(f\"Failed to scrape {url}: {e}\")\n",
        "        return {}\n",
        "\n",
        "def scrape_talk_data_parallel(urls):\n",
        "    \"\"\"Scrapes all talks in parallel using ThreadPoolExecutor.\"\"\"\n",
        "    with ThreadPoolExecutor(max_workers=10) as executor:  # Adjust `max_workers` as needed\n",
        "        results = list(tqdm(executor.map(scrape_talk_data, urls), total=len(urls), desc=\"Scraping talks in parallel\"))\n",
        "    return [result for result in results if result]  # Filter out empty results\n",
        "\n",
        "def main_scrape_process():\n",
        "    main_url = \"https://www.churchofjesuschrist.org/study/general-conference?lang=eng\"\n",
        "    conference_urls = scrape_conference_pages(main_url)\n",
        "    print(\"Hello\")\n",
        "    print(conference_urls)\n",
        "    all_talk_urls = []\n",
        "    for conference_url in tqdm(conference_urls, desc=\"Scraping conferences\"):\n",
        "        all_talk_urls.extend(scrape_talk_urls(conference_url))\n",
        "\n",
        "    print(f\"Total talks found: {len(all_talk_urls)}\")\n",
        "\n",
        "    # Scrape talks in parallel\n",
        "    conference_talks = scrape_talk_data_parallel(all_talk_urls)\n",
        "\n",
        "    # Create DataFrame from the scraped data\n",
        "    conference_df = pd.DataFrame(conference_talks)\n",
        "\n",
        "    # Normalize Unicode and clean data\n",
        "    for col in conference_df.columns:\n",
        "        conference_df[col] = conference_df[col].apply(lambda x: unicodedata.normalize(\"NFD\", x) if isinstance(x, str) else x)\n",
        "        conference_df[col] = conference_df[col].apply(lambda x: x.replace(\"\\t\", \"\") if isinstance(x, str) else x)\n",
        "\n",
        "    # Save to CSV and JSON\n",
        "    conference_df.to_csv(\"conference_talks.csv\", index=False)\n",
        "    print(\"Scraping complete. Data saved to 'conference_talks.csv'.\")\n",
        "\n",
        "    conference_df.to_json(\"conference_talks.json\", orient=\"records\", indent=4)\n",
        "    print(\"Data also saved to 'conference_talks.json'.\")\n",
        "\n",
        "# Run the scraper\n",
        "start = time.time()\n",
        "main_scrape_process()\n",
        "end = time.time()\n",
        "print(f\"Total time taken: {end - start} seconds\")\n",
        "# main_url = \"https://www.churchofjesuschrist.org/study/general-conference?lang=eng\"\n",
        "# conference_urls = scrape_conference_pages(main_url)"
      ],
      "metadata": {
        "colab": {
          "base_uri": "https://localhost:8080/"
        },
        "id": "WnesEHkCzBub",
        "outputId": "1722e4cc-0fe7-4d38-ec52-f33334e53252",
        "collapsed": true
      },
      "execution_count": 9,
      "outputs": [
        {
          "output_type": "stream",
          "name": "stdout",
          "text": [
            "Successfully fetched https://www.churchofjesuschrist.org/study/general-conference?lang=eng\n",
            "Successfully fetched https://www.churchofjesuschrist.org/study/general-conference/20102019?lang=eng\n",
            "Successfully fetched https://www.churchofjesuschrist.org/study/general-conference/20002009?lang=eng\n",
            "Successfully fetched https://www.churchofjesuschrist.org/study/general-conference/19901999?lang=eng\n",
            "Successfully fetched https://www.churchofjesuschrist.org/study/general-conference/19801989?lang=eng\n",
            "Successfully fetched https://www.churchofjesuschrist.org/study/general-conference/19711979?lang=eng\n",
            "Total conference links found: 108\n",
            "Sample conference links: ['https://www.churchofjesuschrist.org/study/general-conference/2024/10?lang=eng', 'https://www.churchofjesuschrist.org/study/general-conference/2024/04?lang=eng', 'https://www.churchofjesuschrist.org/study/general-conference/2023/10?lang=eng', 'https://www.churchofjesuschrist.org/study/general-conference/2023/04?lang=eng', 'https://www.churchofjesuschrist.org/study/general-conference/2022/10?lang=eng']\n",
            "['https://www.churchofjesuschrist.org/study/general-conference/2024/10?lang=eng', 'https://www.churchofjesuschrist.org/study/general-conference/2024/04?lang=eng', 'https://www.churchofjesuschrist.org/study/general-conference/2023/10?lang=eng', 'https://www.churchofjesuschrist.org/study/general-conference/2023/04?lang=eng', 'https://www.churchofjesuschrist.org/study/general-conference/2022/10?lang=eng', 'https://www.churchofjesuschrist.org/study/general-conference/2022/04?lang=eng', 'https://www.churchofjesuschrist.org/study/general-conference/2021/10?lang=eng', 'https://www.churchofjesuschrist.org/study/general-conference/2021/04?lang=eng', 'https://www.churchofjesuschrist.org/study/general-conference/2020/10?lang=eng', 'https://www.churchofjesuschrist.org/study/general-conference/2020/04?lang=eng', 'https://www.churchofjesuschrist.org/study/general-conference/2019/10?lang=eng', 'https://www.churchofjesuschrist.org/study/general-conference/2019/04?lang=eng', 'https://www.churchofjesuschrist.org/study/general-conference/2018/10?lang=eng', 'https://www.churchofjesuschrist.org/study/general-conference/2018/04?lang=eng', 'https://www.churchofjesuschrist.org/study/general-conference/2017/10?lang=eng', 'https://www.churchofjesuschrist.org/study/general-conference/2017/04?lang=eng', 'https://www.churchofjesuschrist.org/study/general-conference/2016/10?lang=eng', 'https://www.churchofjesuschrist.org/study/general-conference/2016/04?lang=eng', 'https://www.churchofjesuschrist.org/study/general-conference/2015/10?lang=eng', 'https://www.churchofjesuschrist.org/study/general-conference/2015/04?lang=eng', 'https://www.churchofjesuschrist.org/study/general-conference/2014/10?lang=eng', 'https://www.churchofjesuschrist.org/study/general-conference/2014/04?lang=eng', 'https://www.churchofjesuschrist.org/study/general-conference/2013/10?lang=eng', 'https://www.churchofjesuschrist.org/study/general-conference/2013/04?lang=eng', 'https://www.churchofjesuschrist.org/study/general-conference/2012/10?lang=eng', 'https://www.churchofjesuschrist.org/study/general-conference/2012/04?lang=eng', 'https://www.churchofjesuschrist.org/study/general-conference/2011/10?lang=eng', 'https://www.churchofjesuschrist.org/study/general-conference/2011/04?lang=eng', 'https://www.churchofjesuschrist.org/study/general-conference/2010/10?lang=eng', 'https://www.churchofjesuschrist.org/study/general-conference/2010/04?lang=eng', 'https://www.churchofjesuschrist.org/study/general-conference/2009/10?lang=eng', 'https://www.churchofjesuschrist.org/study/general-conference/2009/04?lang=eng', 'https://www.churchofjesuschrist.org/study/general-conference/2008/10?lang=eng', 'https://www.churchofjesuschrist.org/study/general-conference/2008/04?lang=eng', 'https://www.churchofjesuschrist.org/study/general-conference/2007/10?lang=eng', 'https://www.churchofjesuschrist.org/study/general-conference/2007/04?lang=eng', 'https://www.churchofjesuschrist.org/study/general-conference/2006/10?lang=eng', 'https://www.churchofjesuschrist.org/study/general-conference/2006/04?lang=eng', 'https://www.churchofjesuschrist.org/study/general-conference/2005/10?lang=eng', 'https://www.churchofjesuschrist.org/study/general-conference/2005/04?lang=eng', 'https://www.churchofjesuschrist.org/study/general-conference/2004/10?lang=eng', 'https://www.churchofjesuschrist.org/study/general-conference/2004/04?lang=eng', 'https://www.churchofjesuschrist.org/study/general-conference/2003/10?lang=eng', 'https://www.churchofjesuschrist.org/study/general-conference/2003/04?lang=eng', 'https://www.churchofjesuschrist.org/study/general-conference/2002/10?lang=eng', 'https://www.churchofjesuschrist.org/study/general-conference/2002/04?lang=eng', 'https://www.churchofjesuschrist.org/study/general-conference/2001/10?lang=eng', 'https://www.churchofjesuschrist.org/study/general-conference/2001/04?lang=eng', 'https://www.churchofjesuschrist.org/study/general-conference/2000/10?lang=eng', 'https://www.churchofjesuschrist.org/study/general-conference/2000/04?lang=eng', 'https://www.churchofjesuschrist.org/study/general-conference/1999/10?lang=eng', 'https://www.churchofjesuschrist.org/study/general-conference/1999/04?lang=eng', 'https://www.churchofjesuschrist.org/study/general-conference/1998/10?lang=eng', 'https://www.churchofjesuschrist.org/study/general-conference/1998/04?lang=eng', 'https://www.churchofjesuschrist.org/study/general-conference/1997/10?lang=eng', 'https://www.churchofjesuschrist.org/study/general-conference/1997/04?lang=eng', 'https://www.churchofjesuschrist.org/study/general-conference/1996/10?lang=eng', 'https://www.churchofjesuschrist.org/study/general-conference/1996/04?lang=eng', 'https://www.churchofjesuschrist.org/study/general-conference/1995/10?lang=eng', 'https://www.churchofjesuschrist.org/study/general-conference/1995/04?lang=eng', 'https://www.churchofjesuschrist.org/study/general-conference/1994/10?lang=eng', 'https://www.churchofjesuschrist.org/study/general-conference/1994/04?lang=eng', 'https://www.churchofjesuschrist.org/study/general-conference/1993/10?lang=eng', 'https://www.churchofjesuschrist.org/study/general-conference/1993/04?lang=eng', 'https://www.churchofjesuschrist.org/study/general-conference/1992/10?lang=eng', 'https://www.churchofjesuschrist.org/study/general-conference/1992/04?lang=eng', 'https://www.churchofjesuschrist.org/study/general-conference/1991/10?lang=eng', 'https://www.churchofjesuschrist.org/study/general-conference/1991/04?lang=eng', 'https://www.churchofjesuschrist.org/study/general-conference/1990/10?lang=eng', 'https://www.churchofjesuschrist.org/study/general-conference/1990/04?lang=eng', 'https://www.churchofjesuschrist.org/study/general-conference/1989/10?lang=eng', 'https://www.churchofjesuschrist.org/study/general-conference/1989/04?lang=eng', 'https://www.churchofjesuschrist.org/study/general-conference/1988/10?lang=eng', 'https://www.churchofjesuschrist.org/study/general-conference/1988/04?lang=eng', 'https://www.churchofjesuschrist.org/study/general-conference/1987/10?lang=eng', 'https://www.churchofjesuschrist.org/study/general-conference/1987/04?lang=eng', 'https://www.churchofjesuschrist.org/study/general-conference/1986/10?lang=eng', 'https://www.churchofjesuschrist.org/study/general-conference/1986/04?lang=eng', 'https://www.churchofjesuschrist.org/study/general-conference/1985/10?lang=eng', 'https://www.churchofjesuschrist.org/study/general-conference/1985/04?lang=eng', 'https://www.churchofjesuschrist.org/study/general-conference/1984/10?lang=eng', 'https://www.churchofjesuschrist.org/study/general-conference/1984/04?lang=eng', 'https://www.churchofjesuschrist.org/study/general-conference/1983/10?lang=eng', 'https://www.churchofjesuschrist.org/study/general-conference/1983/04?lang=eng', 'https://www.churchofjesuschrist.org/study/general-conference/1982/10?lang=eng', 'https://www.churchofjesuschrist.org/study/general-conference/1982/04?lang=eng', 'https://www.churchofjesuschrist.org/study/general-conference/1981/10?lang=eng', 'https://www.churchofjesuschrist.org/study/general-conference/1981/04?lang=eng', 'https://www.churchofjesuschrist.org/study/general-conference/1980/10?lang=eng', 'https://www.churchofjesuschrist.org/study/general-conference/1980/04?lang=eng', 'https://www.churchofjesuschrist.org/study/general-conference/1979/10?lang=eng', 'https://www.churchofjesuschrist.org/study/general-conference/1979/04?lang=eng', 'https://www.churchofjesuschrist.org/study/general-conference/1978/10?lang=eng', 'https://www.churchofjesuschrist.org/study/general-conference/1978/04?lang=eng', 'https://www.churchofjesuschrist.org/study/general-conference/1977/10?lang=eng', 'https://www.churchofjesuschrist.org/study/general-conference/1977/04?lang=eng', 'https://www.churchofjesuschrist.org/study/general-conference/1976/10?lang=eng', 'https://www.churchofjesuschrist.org/study/general-conference/1976/04?lang=eng', 'https://www.churchofjesuschrist.org/study/general-conference/1975/10?lang=eng', 'https://www.churchofjesuschrist.org/study/general-conference/1975/04?lang=eng', 'https://www.churchofjesuschrist.org/study/general-conference/1974/10?lang=eng', 'https://www.churchofjesuschrist.org/study/general-conference/1974/04?lang=eng', 'https://www.churchofjesuschrist.org/study/general-conference/1973/10?lang=eng', 'https://www.churchofjesuschrist.org/study/general-conference/1973/04?lang=eng', 'https://www.churchofjesuschrist.org/study/general-conference/1972/10?lang=eng', 'https://www.churchofjesuschrist.org/study/general-conference/1972/04?lang=eng', 'https://www.churchofjesuschrist.org/study/general-conference/1971/10?lang=eng', 'https://www.churchofjesuschrist.org/study/general-conference/1971/04?lang=eng']\n",
            "Hello\n",
            "['https://www.churchofjesuschrist.org/study/general-conference/2024/10?lang=eng', 'https://www.churchofjesuschrist.org/study/general-conference/2024/04?lang=eng', 'https://www.churchofjesuschrist.org/study/general-conference/2023/10?lang=eng', 'https://www.churchofjesuschrist.org/study/general-conference/2023/04?lang=eng', 'https://www.churchofjesuschrist.org/study/general-conference/2022/10?lang=eng', 'https://www.churchofjesuschrist.org/study/general-conference/2022/04?lang=eng', 'https://www.churchofjesuschrist.org/study/general-conference/2021/10?lang=eng', 'https://www.churchofjesuschrist.org/study/general-conference/2021/04?lang=eng', 'https://www.churchofjesuschrist.org/study/general-conference/2020/10?lang=eng', 'https://www.churchofjesuschrist.org/study/general-conference/2020/04?lang=eng', 'https://www.churchofjesuschrist.org/study/general-conference/2019/10?lang=eng', 'https://www.churchofjesuschrist.org/study/general-conference/2019/04?lang=eng', 'https://www.churchofjesuschrist.org/study/general-conference/2018/10?lang=eng', 'https://www.churchofjesuschrist.org/study/general-conference/2018/04?lang=eng']\n"
          ]
        },
        {
          "output_type": "stream",
          "name": "stderr",
          "text": [
            "\rScraping conferences:   0%|          | 0/14 [00:00<?, ?it/s]"
          ]
        },
        {
          "output_type": "stream",
          "name": "stdout",
          "text": [
            "Successfully fetched https://www.churchofjesuschrist.org/study/general-conference/2024/10?lang=eng\n"
          ]
        },
        {
          "output_type": "stream",
          "name": "stderr",
          "text": [
            "Scraping conferences:  14%|█▍        | 2/14 [00:00<00:03,  3.69it/s]"
          ]
        },
        {
          "output_type": "stream",
          "name": "stdout",
          "text": [
            "Found 36 talk links in https://www.churchofjesuschrist.org/study/general-conference/2024/10?lang=eng\n",
            "Sample talk links: ['https://www.churchofjesuschrist.org/study/general-conference/2024/10/12andersen?lang=eng', 'https://www.churchofjesuschrist.org/study/general-conference/2024/10/55alliaud?lang=eng', 'https://www.churchofjesuschrist.org/study/general-conference/2024/10/33mckay?lang=eng']\n",
            "Successfully fetched https://www.churchofjesuschrist.org/study/general-conference/2024/04?lang=eng\n",
            "Found 35 talk links in https://www.churchofjesuschrist.org/study/general-conference/2024/04?lang=eng\n",
            "Sample talk links: ['https://www.churchofjesuschrist.org/study/general-conference/2024/04/13holland?lang=eng', 'https://www.churchofjesuschrist.org/study/general-conference/2024/04/12larson?lang=eng', 'https://www.churchofjesuschrist.org/study/general-conference/2024/04/22de-feo?lang=eng']\n"
          ]
        },
        {
          "output_type": "stream",
          "name": "stderr",
          "text": [
            "\rScraping conferences:  21%|██▏       | 3/14 [00:00<00:02,  4.24it/s]"
          ]
        },
        {
          "output_type": "stream",
          "name": "stdout",
          "text": [
            "Successfully fetched https://www.churchofjesuschrist.org/study/general-conference/2023/10?lang=eng\n",
            "Found 34 talk links in https://www.churchofjesuschrist.org/study/general-conference/2023/10?lang=eng\n",
            "Sample talk links: ['https://www.churchofjesuschrist.org/study/general-conference/2023/10/44cook?lang=eng', 'https://www.churchofjesuschrist.org/study/general-conference/2023/10/24costa?lang=eng', 'https://www.churchofjesuschrist.org/study/general-conference/2023/10/21eyring?lang=eng']\n"
          ]
        },
        {
          "output_type": "stream",
          "name": "stderr",
          "text": [
            "\rScraping conferences:  29%|██▊       | 4/14 [00:01<00:05,  1.80it/s]"
          ]
        },
        {
          "output_type": "stream",
          "name": "stdout",
          "text": [
            "Successfully fetched https://www.churchofjesuschrist.org/study/general-conference/2023/04?lang=eng\n",
            "Found 36 talk links in https://www.churchofjesuschrist.org/study/general-conference/2023/04?lang=eng\n",
            "Sample talk links: ['https://www.churchofjesuschrist.org/study/general-conference/2023/04/32camargo?lang=eng', 'https://www.churchofjesuschrist.org/study/general-conference/2023/04/33nattress?lang=eng', 'https://www.churchofjesuschrist.org/study/general-conference/2023/04/16haynie?lang=eng']\n"
          ]
        },
        {
          "output_type": "stream",
          "name": "stderr",
          "text": [
            "\rScraping conferences:  36%|███▌      | 5/14 [00:02<00:04,  1.99it/s]"
          ]
        },
        {
          "output_type": "stream",
          "name": "stdout",
          "text": [
            "Successfully fetched https://www.churchofjesuschrist.org/study/general-conference/2022/10?lang=eng\n",
            "Found 37 talk links in https://www.churchofjesuschrist.org/study/general-conference/2022/10?lang=eng\n",
            "Sample talk links: ['https://www.churchofjesuschrist.org/study/general-conference/2022/10/46bednar?lang=eng', 'https://www.churchofjesuschrist.org/study/general-conference/2022/10/17rasband?lang=eng', 'https://www.churchofjesuschrist.org/study/general-conference/2022/10/44sitati?lang=eng']\n"
          ]
        },
        {
          "output_type": "stream",
          "name": "stderr",
          "text": [
            "\rScraping conferences:  43%|████▎     | 6/14 [00:03<00:04,  1.67it/s]"
          ]
        },
        {
          "output_type": "stream",
          "name": "stdout",
          "text": [
            "Successfully fetched https://www.churchofjesuschrist.org/study/general-conference/2022/04?lang=eng\n",
            "Found 39 talk links in https://www.churchofjesuschrist.org/study/general-conference/2022/04?lang=eng\n",
            "Sample talk links: ['https://www.churchofjesuschrist.org/study/general-conference/2022/04/17kacher?lang=eng', 'https://www.churchofjesuschrist.org/study/general-conference/2022/04/42wright?lang=eng', 'https://www.churchofjesuschrist.org/study/general-conference/2022/04/45rasband?lang=eng']\n"
          ]
        },
        {
          "output_type": "stream",
          "name": "stderr",
          "text": [
            "\rScraping conferences:  50%|█████     | 7/14 [00:03<00:03,  1.96it/s]"
          ]
        },
        {
          "output_type": "stream",
          "name": "stdout",
          "text": [
            "Successfully fetched https://www.churchofjesuschrist.org/study/general-conference/2021/10?lang=eng\n",
            "Found 41 talk links in https://www.churchofjesuschrist.org/study/general-conference/2021/10?lang=eng\n",
            "Sample talk links: ['https://www.churchofjesuschrist.org/study/general-conference/2021/10/34valenzuela?lang=eng', 'https://www.churchofjesuschrist.org/study/general-conference/2021/10/23schmeil?lang=eng', 'https://www.churchofjesuschrist.org/study/general-conference/2021/10/28villanueva?lang=eng']\n"
          ]
        },
        {
          "output_type": "stream",
          "name": "stderr",
          "text": [
            "\rScraping conferences:  57%|█████▋    | 8/14 [00:03<00:02,  2.35it/s]"
          ]
        },
        {
          "output_type": "stream",
          "name": "stdout",
          "text": [
            "Successfully fetched https://www.churchofjesuschrist.org/study/general-conference/2021/04?lang=eng\n",
            "Found 38 talk links in https://www.churchofjesuschrist.org/study/general-conference/2021/04?lang=eng\n",
            "Sample talk links: ['https://www.churchofjesuschrist.org/study/general-conference/2021/04/14newman?lang=eng', 'https://www.churchofjesuschrist.org/study/general-conference/2021/04/57nelson?lang=eng', 'https://www.churchofjesuschrist.org/study/general-conference/2021/04/21oaks?lang=eng']\n"
          ]
        },
        {
          "output_type": "stream",
          "name": "stderr",
          "text": [
            "\rScraping conferences:  64%|██████▍   | 9/14 [00:03<00:01,  2.67it/s]"
          ]
        },
        {
          "output_type": "stream",
          "name": "stdout",
          "text": [
            "Successfully fetched https://www.churchofjesuschrist.org/study/general-conference/2020/10?lang=eng\n",
            "Found 37 talk links in https://www.churchofjesuschrist.org/study/general-conference/2020/10?lang=eng\n",
            "Sample talk links: ['https://www.churchofjesuschrist.org/study/general-conference/2020/10/24gong?lang=eng', 'https://www.churchofjesuschrist.org/study/general-conference/2020/10/46nelson?lang=eng', 'https://www.churchofjesuschrist.org/study/general-conference/2020/10/43soares?lang=eng']\n"
          ]
        },
        {
          "output_type": "stream",
          "name": "stderr",
          "text": [
            "\rScraping conferences:  71%|███████▏  | 10/14 [00:04<00:01,  2.24it/s]"
          ]
        },
        {
          "output_type": "stream",
          "name": "stdout",
          "text": [
            "Successfully fetched https://www.churchofjesuschrist.org/study/general-conference/2020/04?lang=eng\n",
            "Found 36 talk links in https://www.churchofjesuschrist.org/study/general-conference/2020/04?lang=eng\n",
            "Sample talk links: ['https://www.churchofjesuschrist.org/study/general-conference/2020/04/44bednar?lang=eng', 'https://www.churchofjesuschrist.org/study/general-conference/2020/04/55clayton?lang=eng', 'https://www.churchofjesuschrist.org/study/general-conference/2020/04/41rasband?lang=eng']\n"
          ]
        },
        {
          "output_type": "stream",
          "name": "stderr",
          "text": [
            "\rScraping conferences:  79%|███████▊  | 11/14 [00:05<00:01,  1.65it/s]"
          ]
        },
        {
          "output_type": "stream",
          "name": "stdout",
          "text": [
            "Successfully fetched https://www.churchofjesuschrist.org/study/general-conference/2019/10?lang=eng\n",
            "Found 36 talk links in https://www.churchofjesuschrist.org/study/general-conference/2019/10?lang=eng\n",
            "Sample talk links: ['https://www.churchofjesuschrist.org/study/general-conference/2019/10/12vinson?lang=eng', 'https://www.churchofjesuschrist.org/study/general-conference/2019/10/11holland?lang=eng', 'https://www.churchofjesuschrist.org/study/general-conference/2019/10/29rasband?lang=eng']\n"
          ]
        },
        {
          "output_type": "stream",
          "name": "stderr",
          "text": [
            "\rScraping conferences:  86%|████████▌ | 12/14 [00:06<00:01,  1.44it/s]"
          ]
        },
        {
          "output_type": "stream",
          "name": "stdout",
          "text": [
            "Successfully fetched https://www.churchofjesuschrist.org/study/general-conference/2019/04?lang=eng\n",
            "Found 34 talk links in https://www.churchofjesuschrist.org/study/general-conference/2019/04?lang=eng\n",
            "Sample talk links: ['https://www.churchofjesuschrist.org/study/general-conference/2019/04/22jergensen?lang=eng', 'https://www.churchofjesuschrist.org/study/general-conference/2019/04/25andersen?lang=eng', 'https://www.churchofjesuschrist.org/study/general-conference/2019/04/46nelson?lang=eng']\n"
          ]
        },
        {
          "output_type": "stream",
          "name": "stderr",
          "text": [
            "\rScraping conferences:  93%|█████████▎| 13/14 [00:06<00:00,  1.61it/s]"
          ]
        },
        {
          "output_type": "stream",
          "name": "stdout",
          "text": [
            "Successfully fetched https://www.churchofjesuschrist.org/study/general-conference/2018/10?lang=eng\n",
            "Found 35 talk links in https://www.churchofjesuschrist.org/study/general-conference/2018/10?lang=eng\n",
            "Sample talk links: ['https://www.churchofjesuschrist.org/study/general-conference/2018/10/becoming-exemplary-latter-day-saints?lang=eng', 'https://www.churchofjesuschrist.org/study/general-conference/2018/10/all-must-take-upon-them-the-name-given-of-the-father?lang=eng', 'https://www.churchofjesuschrist.org/study/general-conference/2018/10/the-joy-of-unselfish-service?lang=eng']\n",
            "Successfully fetched https://www.churchofjesuschrist.org/study/general-conference/2018/04?lang=eng\n"
          ]
        },
        {
          "output_type": "stream",
          "name": "stderr",
          "text": [
            "Scraping conferences: 100%|██████████| 14/14 [00:06<00:00,  2.00it/s]\n"
          ]
        },
        {
          "output_type": "stream",
          "name": "stdout",
          "text": [
            "Found 39 talk links in https://www.churchofjesuschrist.org/study/general-conference/2018/04?lang=eng\n",
            "Sample talk links: ['https://www.churchofjesuschrist.org/study/general-conference/2018/04/saving-ordinances-will-bring-us-marvelous-light?lang=eng', 'https://www.churchofjesuschrist.org/study/general-conference/2018/04/inspired-ministering?lang=eng', 'https://www.churchofjesuschrist.org/study/general-conference/2018/04/church-auditing-department-report-2017?lang=eng']\n",
            "Total talks found: 513\n"
          ]
        },
        {
          "output_type": "stream",
          "name": "stderr",
          "text": [
            "Scraping talks in parallel:   0%|          | 1/513 [00:00<01:19,  6.44it/s]"
          ]
        },
        {
          "output_type": "stream",
          "name": "stdout",
          "text": [
            "Successfully fetched https://www.churchofjesuschrist.org/study/general-conference/2024/10/12andersen?lang=eng\n",
            "Successfully fetched https://www.churchofjesuschrist.org/study/general-conference/2024/10/21christofferson?lang=eng\n",
            "Successfully fetched https://www.churchofjesuschrist.org/study/general-conference/2024/10/32yee?lang=eng\n",
            "Successfully fetched https://www.churchofjesuschrist.org/study/general-conference/2024/10/11eyring?lang=eng\n",
            "Successfully fetched https://www.churchofjesuschrist.org/study/general-conference/2024/10/23villar?lang=engSuccessfully fetched https://www.churchofjesuschrist.org/study/general-conference/2024/10/55alliaud?lang=eng\n",
            "\n",
            "Successfully fetched https://www.churchofjesuschrist.org/study/general-conference/2024/10/28soares?lang=eng\n"
          ]
        },
        {
          "output_type": "stream",
          "name": "stderr",
          "text": [
            "\rScraping talks in parallel:   0%|          | 2/513 [00:00<03:18,  2.57it/s]"
          ]
        },
        {
          "output_type": "stream",
          "name": "stdout",
          "text": [
            "Successfully fetched https://www.churchofjesuschrist.org/study/general-conference/2024/10/54cook?lang=eng\n",
            "Successfully fetched https://www.churchofjesuschrist.org/study/general-conference/2024/10/41holland?lang=eng\n",
            "Successfully fetched https://www.churchofjesuschrist.org/study/general-conference/2024/10/33mckay?lang=eng\n",
            "Successfully fetched https://www.churchofjesuschrist.org/study/general-conference/2024/10/31gong?lang=eng\n",
            "Successfully fetched https://www.churchofjesuschrist.org/study/general-conference/2024/10/52wada?lang=eng\n"
          ]
        },
        {
          "output_type": "stream",
          "name": "stderr",
          "text": [
            "\rScraping talks in parallel:   1%|          | 3/513 [00:01<03:05,  2.75it/s]"
          ]
        },
        {
          "output_type": "stream",
          "name": "stdout",
          "text": [
            "Successfully fetched https://www.churchofjesuschrist.org/study/general-conference/2024/10/56egbo?lang=eng\n",
            "Successfully fetched https://www.churchofjesuschrist.org/study/general-conference/2024/10/42browning?lang=eng\n",
            "Successfully fetched https://www.churchofjesuschrist.org/study/general-conference/2024/10/53rasband?lang=eng\n",
            "Successfully fetched https://www.churchofjesuschrist.org/study/general-conference/2024/10/45budge?lang=eng\n",
            "Successfully fetched https://www.churchofjesuschrist.org/study/general-conference/2024/10/14hirst?lang=engSuccessfully fetched https://www.churchofjesuschrist.org/study/general-conference/2024/10/13freeman?lang=eng\n",
            "\n"
          ]
        },
        {
          "output_type": "stream",
          "name": "stderr",
          "text": [
            "Scraping talks in parallel:   3%|▎         | 16/513 [00:01<00:38, 12.81it/s]"
          ]
        },
        {
          "output_type": "stream",
          "name": "stdout",
          "text": [
            "Successfully fetched https://www.churchofjesuschrist.org/study/general-conference/2024/10/26goury?lang=eng\n",
            "Successfully fetched https://www.churchofjesuschrist.org/study/general-conference/2024/10/35bednar?lang=eng\n",
            "Successfully fetched https://www.churchofjesuschrist.org/study/general-conference/2024/10/27cavalcante?lang=eng\n",
            "Successfully fetched https://www.churchofjesuschrist.org/study/general-conference/2024/10/15renlund?lang=eng\n",
            "Successfully fetched https://www.churchofjesuschrist.org/study/general-conference/2024/10/43hales?lang=eng\n",
            "Successfully fetched https://www.churchofjesuschrist.org/study/general-conference/2024/10/22teixeira?lang=eng\n",
            "Successfully fetched https://www.churchofjesuschrist.org/study/general-conference/2024/10/16homer?lang=eng\n",
            "Successfully fetched https://www.churchofjesuschrist.org/study/general-conference/2024/10/18oaks?lang=eng\n",
            "Successfully fetched https://www.churchofjesuschrist.org/study/general-conference/2024/10/57nelson?lang=eng\n",
            "Successfully fetched https://www.churchofjesuschrist.org/study/general-conference/2024/10/47eyring?lang=eng\n",
            "Successfully fetched https://www.churchofjesuschrist.org/study/general-conference/2024/10/24kearon?lang=eng\n",
            "Successfully fetched https://www.churchofjesuschrist.org/study/general-conference/2024/10/saturday-morning-session?lang=eng\n"
          ]
        },
        {
          "output_type": "stream",
          "name": "stderr",
          "text": [
            "Scraping talks in parallel:   5%|▌         | 28/513 [00:03<00:45, 10.71it/s]"
          ]
        },
        {
          "output_type": "stream",
          "name": "stdout",
          "text": [
            "Successfully fetched https://www.churchofjesuschrist.org/study/general-conference/2024/10/34alvarado?lang=eng\n",
            "Successfully fetched https://www.churchofjesuschrist.org/study/general-conference/2024/10/25buckner?lang=eng\n",
            "Successfully fetched https://www.churchofjesuschrist.org/study/general-conference/2024/10/17casillas?lang=eng\n",
            "Successfully fetched https://www.churchofjesuschrist.org/study/general-conference/2024/04/12larson?lang=eng\n",
            "Successfully fetched https://www.churchofjesuschrist.org/study/general-conference/2024/10/51uchtdorf?lang=eng\n",
            "Successfully fetched https://www.churchofjesuschrist.org/study/general-conference/2024/04/22de-feo?lang=eng\n",
            "Successfully fetched https://www.churchofjesuschrist.org/study/general-conference/2024/04/13holland?lang=eng\n",
            "Successfully fetched https://www.churchofjesuschrist.org/study/general-conference/2024/10/46wilcox?lang=eng\n",
            "Successfully fetched https://www.churchofjesuschrist.org/study/general-conference/2024/10/44stevenson?lang=eng\n",
            "Successfully fetched https://www.churchofjesuschrist.org/study/general-conference/2024/04/25gong?lang=eng\n"
          ]
        },
        {
          "output_type": "stream",
          "name": "stderr",
          "text": [
            "Scraping talks in parallel:   6%|▋         | 33/513 [00:04<01:22,  5.84it/s]"
          ]
        },
        {
          "output_type": "stream",
          "name": "stdout",
          "text": [
            "Successfully fetched https://www.churchofjesuschrist.org/study/general-conference/2024/04/43renlund?lang=eng\n",
            "Successfully fetched https://www.churchofjesuschrist.org/study/general-conference/2024/04/54held?lang=eng\n",
            "Successfully fetched https://www.churchofjesuschrist.org/study/general-conference/2024/04/17gerard?lang=eng\n",
            "Successfully fetched https://www.churchofjesuschrist.org/study/general-conference/2024/04/16soares?lang=eng\n",
            "Successfully fetched https://www.churchofjesuschrist.org/study/general-conference/2024/04/42porter?lang=eng\n"
          ]
        },
        {
          "output_type": "stream",
          "name": "stderr",
          "text": [
            "\rScraping talks in parallel:   8%|▊         | 41/513 [00:05<00:49,  9.63it/s]"
          ]
        },
        {
          "output_type": "stream",
          "name": "stdout",
          "text": [
            "Successfully fetched https://www.churchofjesuschrist.org/study/general-conference/2024/04/saturday-morning-session?lang=eng\n",
            "Successfully fetched https://www.churchofjesuschrist.org/study/general-conference/2024/04/11oaks?lang=eng\n"
          ]
        },
        {
          "output_type": "stream",
          "name": "stderr",
          "text": [
            "\rScraping talks in parallel:   8%|▊         | 43/513 [00:05<00:58,  8.03it/s]"
          ]
        },
        {
          "output_type": "stream",
          "name": "stdout",
          "text": [
            "Successfully fetched https://www.churchofjesuschrist.org/study/general-conference/2024/04/15dushku?lang=eng\n",
            "Successfully fetched https://www.churchofjesuschrist.org/study/general-conference/2024/04/51christofferson?lang=eng\n",
            "Successfully fetched https://www.churchofjesuschrist.org/study/general-conference/2024/04/33spannaus?lang=eng\n",
            "Successfully fetched https://www.churchofjesuschrist.org/study/general-conference/2024/04/47oaks?lang=eng\n",
            "Successfully fetched https://www.churchofjesuschrist.org/study/general-conference/2024/04/53stevenson?lang=eng\n",
            "Successfully fetched https://www.churchofjesuschrist.org/study/general-conference/2024/04/34carpenter?lang=eng\n"
          ]
        },
        {
          "output_type": "stream",
          "name": "stderr",
          "text": [
            "\rScraping talks in parallel:   9%|▉         | 46/513 [00:06<01:04,  7.27it/s]"
          ]
        },
        {
          "output_type": "stream",
          "name": "stdout",
          "text": [
            "Successfully fetched https://www.churchofjesuschrist.org/study/general-conference/2024/04/35uchtdorf?lang=eng\n",
            "Successfully fetched https://www.churchofjesuschrist.org/study/general-conference/2024/04/27cook?lang=eng\n",
            "Successfully fetched https://www.churchofjesuschrist.org/study/general-conference/2024/04/52godoy?lang=eng\n"
          ]
        },
        {
          "output_type": "stream",
          "name": "stderr",
          "text": [
            "\rScraping talks in parallel:  10%|█         | 53/513 [00:06<00:40, 11.25it/s]"
          ]
        },
        {
          "output_type": "stream",
          "name": "stdout",
          "text": [
            "Successfully fetched https://www.churchofjesuschrist.org/study/general-conference/2024/04/32bangerter?lang=eng\n",
            "Successfully fetched https://www.churchofjesuschrist.org/study/general-conference/2024/04/21bednar?lang=eng\n",
            "Successfully fetched https://www.churchofjesuschrist.org/study/general-conference/2024/04/18eyring?lang=eng\n",
            "Successfully fetched https://www.churchofjesuschrist.org/study/general-conference/2024/04/31bowen?lang=eng\n",
            "Successfully fetched https://www.churchofjesuschrist.org/study/general-conference/2024/04/46taylor?lang=eng\n",
            "Successfully fetched https://www.churchofjesuschrist.org/study/general-conference/2024/04/41rasband?lang=eng\n",
            "Successfully fetched https://www.churchofjesuschrist.org/study/general-conference/2024/04/55andersen?lang=eng\n",
            "Successfully fetched https://www.churchofjesuschrist.org/study/general-conference/2024/04/57nelson?lang=eng\n",
            "Successfully fetched https://www.churchofjesuschrist.org/study/general-conference/2024/04/24alonso?lang=eng\n",
            "Successfully fetched https://www.churchofjesuschrist.org/study/general-conference/2024/04/14dennis?lang=eng\n"
          ]
        },
        {
          "output_type": "stream",
          "name": "stderr",
          "text": [
            "Scraping talks in parallel:  12%|█▏        | 61/513 [00:07<00:42, 10.62it/s]"
          ]
        },
        {
          "output_type": "stream",
          "name": "stdout",
          "text": [
            "Successfully fetched https://www.churchofjesuschrist.org/study/general-conference/2024/04/26nelson?lang=engSuccessfully fetched https://www.churchofjesuschrist.org/study/general-conference/2024/04/45kearon?lang=eng\n",
            "\n",
            "Successfully fetched https://www.churchofjesuschrist.org/study/general-conference/2024/04/23nielson?lang=eng\n",
            "Successfully fetched https://www.churchofjesuschrist.org/study/general-conference/2024/04/44pieper?lang=eng\n",
            "Successfully fetched https://www.churchofjesuschrist.org/study/general-conference/2023/10/24costa?lang=eng\n",
            "Successfully fetched https://www.churchofjesuschrist.org/study/general-conference/2023/10/21eyring?lang=engSuccessfully fetched https://www.churchofjesuschrist.org/study/general-conference/2023/10/44cook?lang=eng\n",
            "Successfully fetched https://www.churchofjesuschrist.org/study/general-conference/2024/04/56pace?lang=eng\n",
            "\n"
          ]
        },
        {
          "output_type": "stream",
          "name": "stderr",
          "text": [
            "Scraping talks in parallel:  14%|█▍        | 71/513 [00:08<00:35, 12.41it/s]"
          ]
        },
        {
          "output_type": "stream",
          "name": "stdout",
          "text": [
            "Successfully fetched https://www.churchofjesuschrist.org/study/general-conference/2023/10/28rasband?lang=eng\n",
            "Successfully fetched https://www.churchofjesuschrist.org/study/general-conference/2023/10/46waddell?lang=eng\n",
            "Successfully fetched https://www.churchofjesuschrist.org/study/general-conference/2023/10/51nelson?lang=eng\n",
            "Successfully fetched https://www.churchofjesuschrist.org/study/general-conference/2023/10/25stevenson?lang=eng\n",
            "Successfully fetched https://www.churchofjesuschrist.org/study/general-conference/2023/10/16ardern?lang=eng\n",
            "Successfully fetched https://www.churchofjesuschrist.org/study/general-conference/2023/10/17oaks?lang=eng\n",
            "Successfully fetched https://www.churchofjesuschrist.org/study/general-conference/2023/10/53cordon?lang=eng\n",
            "Successfully fetched https://www.churchofjesuschrist.org/study/general-conference/2023/10/12wright?lang=eng\n",
            "Successfully fetched https://www.churchofjesuschrist.org/study/general-conference/2023/10/31sabin?lang=eng\n",
            "Successfully fetched https://www.churchofjesuschrist.org/study/general-conference/2023/10/13daines?lang=eng\n",
            "Successfully fetched https://www.churchofjesuschrist.org/study/general-conference/2023/10/45uchtdorf?lang=eng\n",
            "Successfully fetched https://www.churchofjesuschrist.org/study/general-conference/2023/10/42freeman?lang=eng\n",
            "Successfully fetched https://www.churchofjesuschrist.org/study/general-conference/2023/10/52pingree?lang=eng\n",
            "Successfully fetched https://www.churchofjesuschrist.org/study/general-conference/2023/10/55esplin?lang=eng\n",
            "Successfully fetched https://www.churchofjesuschrist.org/study/general-conference/2023/10/34soares?lang=eng\n"
          ]
        },
        {
          "output_type": "stream",
          "name": "stderr",
          "text": [
            "\rScraping talks in parallel:  15%|█▍        | 75/513 [00:09<01:01,  7.07it/s]"
          ]
        },
        {
          "output_type": "stream",
          "name": "stdout",
          "text": [
            "Successfully fetched https://www.churchofjesuschrist.org/study/general-conference/2023/10/22andersen?lang=eng\n",
            "Successfully fetched https://www.churchofjesuschrist.org/study/general-conference/2023/10/26choi?lang=eng\n",
            "Successfully fetched https://www.churchofjesuschrist.org/study/general-conference/2023/10/57renlund?lang=eng\n"
          ]
        },
        {
          "output_type": "stream",
          "name": "stderr",
          "text": [
            "\rScraping talks in parallel:  16%|█▌        | 80/513 [00:09<00:52,  8.20it/s]"
          ]
        },
        {
          "output_type": "stream",
          "name": "stdout",
          "text": [
            "Successfully fetched https://www.churchofjesuschrist.org/study/general-conference/2023/10/14godoy?lang=eng\n",
            "Successfully fetched https://www.churchofjesuschrist.org/study/general-conference/2023/10/41ballard?lang=eng\n",
            "Successfully fetched https://www.churchofjesuschrist.org/study/general-conference/2023/10/32koch?lang=eng\n",
            "Successfully fetched https://www.churchofjesuschrist.org/study/general-conference/2023/10/11bednar?lang=eng\n",
            "Successfully fetched https://www.churchofjesuschrist.org/study/general-conference/2023/10/23newman?lang=eng\n",
            "Successfully fetched https://www.churchofjesuschrist.org/study/general-conference/2023/10/56giraud-carrier?lang=eng\n",
            "Successfully fetched https://www.churchofjesuschrist.org/study/general-conference/2023/10/33runia?lang=eng\n"
          ]
        },
        {
          "output_type": "stream",
          "name": "stderr",
          "text": [
            "Scraping talks in parallel:  19%|█▉        | 100/513 [00:10<00:32, 12.74it/s]"
          ]
        },
        {
          "output_type": "stream",
          "name": "stdout",
          "text": [
            "Successfully fetched https://www.churchofjesuschrist.org/study/general-conference/2023/10/54gong?lang=eng\n",
            "Successfully fetched https://www.churchofjesuschrist.org/study/general-conference/2023/10/47eyring?lang=eng\n",
            "Successfully fetched https://www.churchofjesuschrist.org/study/general-conference/2023/04/16haynie?lang=eng\n",
            "Successfully fetched https://www.churchofjesuschrist.org/study/general-conference/2023/10/27phillips?lang=eng\n",
            "Successfully fetched https://www.churchofjesuschrist.org/study/general-conference/2023/10/43parrella?lang=eng\n",
            "Successfully fetched https://www.churchofjesuschrist.org/study/general-conference/2023/04/33nattress?lang=eng\n"
          ]
        },
        {
          "output_type": "stream",
          "name": "stderr",
          "text": [
            "\rScraping talks in parallel:  20%|██        | 103/513 [00:11<00:46,  8.80it/s]"
          ]
        },
        {
          "output_type": "stream",
          "name": "stdout",
          "text": [
            "Successfully fetched https://www.churchofjesuschrist.org/study/general-conference/2023/10/saturday-morning-session?lang=eng\n",
            "Successfully fetched https://www.churchofjesuschrist.org/study/general-conference/2023/04/32camargo?lang=eng\n",
            "Successfully fetched https://www.churchofjesuschrist.org/study/general-conference/2023/04/57bednar?lang=eng\n",
            "Successfully fetched https://www.churchofjesuschrist.org/study/general-conference/2023/04/58nelson?lang=eng\n",
            "Successfully fetched https://www.churchofjesuschrist.org/study/general-conference/2023/04/42johnson?lang=eng\n",
            "Successfully fetched https://www.churchofjesuschrist.org/study/general-conference/2023/04/11stevenson?lang=eng\n"
          ]
        },
        {
          "output_type": "stream",
          "name": "stderr",
          "text": [
            "\rScraping talks in parallel:  20%|██        | 105/513 [00:12<00:58,  7.03it/s]"
          ]
        },
        {
          "output_type": "stream",
          "name": "stdout",
          "text": [
            "Successfully fetched https://www.churchofjesuschrist.org/study/general-conference/2023/04/25bennett?lang=eng\n",
            "Successfully fetched https://www.churchofjesuschrist.org/study/general-conference/2023/10/15christofferson?lang=eng\n",
            "Successfully fetched https://www.churchofjesuschrist.org/study/general-conference/2023/04/28de-hoyos?lang=eng\n"
          ]
        },
        {
          "output_type": "stream",
          "name": "stderr",
          "text": [
            "\rScraping talks in parallel:  21%|██        | 109/513 [00:12<00:46,  8.76it/s]"
          ]
        },
        {
          "output_type": "stream",
          "name": "stdout",
          "text": [
            "Successfully fetched https://www.churchofjesuschrist.org/study/general-conference/2023/04/46duncan?lang=eng\n",
            "Successfully fetched https://www.churchofjesuschrist.org/study/general-conference/2023/04/29uchtdorf?lang=eng\n",
            "Successfully fetched https://www.churchofjesuschrist.org/study/general-conference/2023/04/43soares?lang=eng\n"
          ]
        },
        {
          "output_type": "stream",
          "name": "stderr",
          "text": [
            "\rScraping talks in parallel:  22%|██▏       | 112/513 [00:13<00:51,  7.77it/s]"
          ]
        },
        {
          "output_type": "stream",
          "name": "stdout",
          "text": [
            "Successfully fetched https://www.churchofjesuschrist.org/study/general-conference/2023/04/47nelson?lang=eng\n",
            "Successfully fetched https://www.churchofjesuschrist.org/study/general-conference/2023/04/31bragg?lang=eng\n",
            "Successfully fetched https://www.churchofjesuschrist.org/study/general-conference/2023/04/51oaks?lang=eng\n",
            "Successfully fetched https://www.churchofjesuschrist.org/study/general-conference/2023/04/26christensen?lang=eng\n",
            "Successfully fetched https://www.churchofjesuschrist.org/study/general-conference/2023/04/23renlund?lang=eng\n",
            "Successfully fetched https://www.churchofjesuschrist.org/study/general-conference/2023/04/34uceda?lang=eng\n",
            "Successfully fetched https://www.churchofjesuschrist.org/study/general-conference/2023/04/56corbitt?lang=eng\n",
            "Successfully fetched https://www.churchofjesuschrist.org/study/general-conference/2023/04/27schmutz?lang=eng\n",
            "Successfully fetched https://www.churchofjesuschrist.org/study/general-conference/2023/04/15cook?lang=eng\n",
            "Successfully fetched https://www.churchofjesuschrist.org/study/general-conference/2023/04/12cordon?lang=eng\n"
          ]
        },
        {
          "output_type": "stream",
          "name": "stderr",
          "text": [
            "\rScraping talks in parallel:  22%|██▏       | 115/513 [00:14<01:19,  4.98it/s]"
          ]
        },
        {
          "output_type": "stream",
          "name": "stdout",
          "text": [
            "Successfully fetched https://www.churchofjesuschrist.org/study/general-conference/2023/04/21oaks?lang=eng\n",
            "Successfully fetched https://www.churchofjesuschrist.org/study/general-conference/2023/04/saturday-morning-session?lang=eng\n",
            "Successfully fetched https://www.churchofjesuschrist.org/study/general-conference/2023/04/24meurs?lang=eng\n"
          ]
        },
        {
          "output_type": "stream",
          "name": "stderr",
          "text": [
            "\rScraping talks in parallel:  25%|██▍       | 128/513 [00:14<00:32, 11.94it/s]"
          ]
        },
        {
          "output_type": "stream",
          "name": "stdout",
          "text": [
            "Successfully fetched https://www.churchofjesuschrist.org/study/general-conference/2023/04/17eyring?lang=eng\n",
            "Successfully fetched https://www.churchofjesuschrist.org/study/general-conference/2023/04/44yamashita?lang=eng\n",
            "Successfully fetched https://www.churchofjesuschrist.org/study/general-conference/2023/04/53rasband?lang=eng\n",
            "Successfully fetched https://www.churchofjesuschrist.org/study/general-conference/2023/04/14gong?lang=eng\n",
            "Successfully fetched https://www.churchofjesuschrist.org/study/general-conference/2023/04/45andersen?lang=eng\n",
            "Successfully fetched https://www.churchofjesuschrist.org/study/general-conference/2023/04/52ballard?lang=eng\n",
            "Successfully fetched https://www.churchofjesuschrist.org/study/general-conference/2023/04/13cook?lang=eng\n"
          ]
        },
        {
          "output_type": "stream",
          "name": "stderr",
          "text": [
            "\rScraping talks in parallel:  26%|██▌       | 132/513 [00:14<00:34, 11.07it/s]"
          ]
        },
        {
          "output_type": "stream",
          "name": "stdout",
          "text": [
            "Successfully fetched https://www.churchofjesuschrist.org/study/general-conference/2023/04/41christofferson?lang=eng\n",
            "Successfully fetched https://www.churchofjesuschrist.org/study/general-conference/2023/04/55bassett?lang=eng\n",
            "Successfully fetched https://www.churchofjesuschrist.org/study/general-conference/2022/10/46bednar?lang=eng\n"
          ]
        },
        {
          "output_type": "stream",
          "name": "stderr",
          "text": [
            "\rScraping talks in parallel:  27%|██▋       | 137/513 [00:15<00:43,  8.71it/s]"
          ]
        },
        {
          "output_type": "stream",
          "name": "stdout",
          "text": [
            "Successfully fetched https://www.churchofjesuschrist.org/study/general-conference/2023/04/54stanfill?lang=engSuccessfully fetched https://www.churchofjesuschrist.org/study/general-conference/2023/04/22larson?lang=eng\n",
            "Successfully fetched https://www.churchofjesuschrist.org/study/general-conference/2022/10/44sitati?lang=eng\n",
            "\n",
            "Successfully fetched https://www.churchofjesuschrist.org/study/general-conference/2022/10/31causse?lang=eng\n"
          ]
        },
        {
          "output_type": "stream",
          "name": "stderr",
          "text": [
            "\rScraping talks in parallel:  27%|██▋       | 140/513 [00:15<00:38,  9.70it/s]"
          ]
        },
        {
          "output_type": "stream",
          "name": "stdout",
          "text": [
            "Successfully fetched https://www.churchofjesuschrist.org/study/general-conference/2022/10/34silva?lang=eng\n",
            "Successfully fetched https://www.churchofjesuschrist.org/study/general-conference/2022/10/17rasband?lang=eng\n"
          ]
        },
        {
          "output_type": "stream",
          "name": "stderr",
          "text": [
            "\rScraping talks in parallel:  28%|██▊       | 142/513 [00:16<00:39,  9.39it/s]"
          ]
        },
        {
          "output_type": "stream",
          "name": "stdout",
          "text": [
            "Successfully fetched https://www.churchofjesuschrist.org/study/general-conference/2022/10/51eyring?lang=eng\n",
            "Successfully fetched https://www.churchofjesuschrist.org/study/general-conference/2022/10/54eddy?lang=eng\n"
          ]
        },
        {
          "output_type": "stream",
          "name": "stderr",
          "text": [
            "\rScraping talks in parallel:  28%|██▊       | 144/513 [00:16<00:43,  8.43it/s]"
          ]
        },
        {
          "output_type": "stream",
          "name": "stdout",
          "text": [
            "Successfully fetched https://www.churchofjesuschrist.org/study/general-conference/2022/10/57cook?lang=eng\n",
            "Successfully fetched https://www.churchofjesuschrist.org/study/general-conference/2022/10/35andersen?lang=eng\n",
            "Successfully fetched https://www.churchofjesuschrist.org/study/general-conference/2022/10/42dennis?lang=eng\n",
            "Successfully fetched https://www.churchofjesuschrist.org/study/general-conference/2022/10/21eyring?lang=eng\n",
            "Successfully fetched https://www.churchofjesuschrist.org/study/general-conference/2022/10/53schmitt?lang=eng\n",
            "Successfully fetched https://www.churchofjesuschrist.org/study/general-conference/2022/10/26mcconkie?lang=eng\n",
            "Successfully fetched https://www.churchofjesuschrist.org/study/general-conference/2022/10/23yee?lang=eng\n",
            "Successfully fetched https://www.churchofjesuschrist.org/study/general-conference/2022/10/18oaks?lang=eng\n",
            "Successfully fetched https://www.churchofjesuschrist.org/study/general-conference/2022/10/12uchtdorf?lang=eng\n",
            "Successfully fetched https://www.churchofjesuschrist.org/study/general-conference/2022/10/saturday-morning-session?lang=eng\n"
          ]
        },
        {
          "output_type": "stream",
          "name": "stderr",
          "text": [
            "Scraping talks in parallel:  31%|███       | 159/513 [00:18<00:36,  9.70it/s]"
          ]
        },
        {
          "output_type": "stream",
          "name": "stdout",
          "text": [
            "Successfully fetched https://www.churchofjesuschrist.org/study/general-conference/2022/10/16montoya?lang=eng\n",
            "Successfully fetched https://www.churchofjesuschrist.org/study/general-conference/2022/10/24johnson?lang=eng\n",
            "Successfully fetched https://www.churchofjesuschrist.org/study/general-conference/2022/10/19nelson?lang=eng\n",
            "Successfully fetched https://www.churchofjesuschrist.org/study/general-conference/2022/10/47nelson?lang=eng\n"
          ]
        },
        {
          "output_type": "stream",
          "name": "stderr",
          "text": [
            "\rScraping talks in parallel:  31%|███▏      | 161/513 [00:18<00:37,  9.38it/s]"
          ]
        },
        {
          "output_type": "stream",
          "name": "stdout",
          "text": [
            "Successfully fetched https://www.churchofjesuschrist.org/study/general-conference/2022/10/28christofferson?lang=eng\n",
            "Successfully fetched https://www.churchofjesuschrist.org/study/general-conference/2022/10/33pearson?lang=eng\n",
            "Successfully fetched https://www.churchofjesuschrist.org/study/general-conference/2022/10/27zeballos?lang=eng\n",
            "Successfully fetched https://www.churchofjesuschrist.org/study/general-conference/2022/10/45lund?lang=eng\n",
            "Successfully fetched https://www.churchofjesuschrist.org/study/general-conference/2022/10/22ballard?lang=eng\n",
            "Successfully fetched https://www.churchofjesuschrist.org/study/general-conference/2022/10/25soares?lang=eng\n",
            "Successfully fetched https://www.churchofjesuschrist.org/study/general-conference/2022/10/41holland?lang=eng\n"
          ]
        },
        {
          "output_type": "stream",
          "name": "stderr",
          "text": [
            "Scraping talks in parallel:  33%|███▎      | 167/513 [00:19<00:34, 10.01it/s]"
          ]
        },
        {
          "output_type": "stream",
          "name": "stdout",
          "text": [
            "Successfully fetched https://www.churchofjesuschrist.org/study/general-conference/2022/10/58nelson?lang=eng\n",
            "Successfully fetched https://www.churchofjesuschrist.org/study/general-conference/2022/10/55stevenson?lang=eng\n"
          ]
        },
        {
          "output_type": "stream",
          "name": "stderr",
          "text": [
            "\rScraping talks in parallel:  33%|███▎      | 171/513 [00:19<00:27, 12.55it/s]"
          ]
        },
        {
          "output_type": "stream",
          "name": "stdout",
          "text": [
            "Successfully fetched https://www.churchofjesuschrist.org/study/general-conference/2022/10/13browning?lang=eng\n",
            "Successfully fetched https://www.churchofjesuschrist.org/study/general-conference/2022/10/15pino?lang=eng\n",
            "Successfully fetched https://www.churchofjesuschrist.org/study/general-conference/2022/10/32craig?lang=eng\n",
            "Successfully fetched https://www.churchofjesuschrist.org/study/general-conference/2022/10/14renlund?lang=eng\n",
            "Successfully fetched https://www.churchofjesuschrist.org/study/general-conference/2022/04/42wright?lang=eng\n",
            "Successfully fetched https://www.churchofjesuschrist.org/study/general-conference/2022/10/52olsen?lang=eng\n",
            "Successfully fetched https://www.churchofjesuschrist.org/study/general-conference/2022/04/23holland?lang=eng\n"
          ]
        },
        {
          "output_type": "stream",
          "name": "stderr",
          "text": [
            "\rScraping talks in parallel:  34%|███▎      | 173/513 [00:20<00:49,  6.91it/s]"
          ]
        },
        {
          "output_type": "stream",
          "name": "stdout",
          "text": [
            "Successfully fetched https://www.churchofjesuschrist.org/study/general-conference/2022/10/56morrison?lang=eng\n",
            "Successfully fetched https://www.churchofjesuschrist.org/study/general-conference/2022/04/17kacher?lang=eng\n",
            "Successfully fetched https://www.churchofjesuschrist.org/study/general-conference/2022/04/45rasband?lang=eng\n"
          ]
        },
        {
          "output_type": "stream",
          "name": "stderr",
          "text": [
            "\rScraping talks in parallel:  35%|███▍      | 177/513 [00:20<00:40,  8.22it/s]"
          ]
        },
        {
          "output_type": "stream",
          "name": "stdout",
          "text": [
            "Successfully fetched https://www.churchofjesuschrist.org/study/general-conference/2022/04/58nelson?lang=eng\n",
            "Successfully fetched https://www.churchofjesuschrist.org/study/general-conference/2022/10/43gong?lang=eng\n",
            "Successfully fetched https://www.churchofjesuschrist.org/study/general-conference/2022/04/35bingham?lang=eng\n",
            "Successfully fetched https://www.churchofjesuschrist.org/study/general-conference/2022/04/25aidukaitis?lang=eng\n",
            "Successfully fetched https://www.churchofjesuschrist.org/study/general-conference/2022/04/51oaks?lang=eng\n",
            "Successfully fetched https://www.churchofjesuschrist.org/study/general-conference/2022/04/11nelson?lang=engSuccessfully fetched https://www.churchofjesuschrist.org/study/general-conference/2022/04/44ringwood?lang=eng\n",
            "\n",
            "Successfully fetched https://www.churchofjesuschrist.org/study/general-conference/2022/04/12ballard?lang=eng\n",
            "Successfully fetched https://www.churchofjesuschrist.org/study/general-conference/2022/04/41christofferson?lang=eng\n"
          ]
        },
        {
          "output_type": "stream",
          "name": "stderr",
          "text": [
            "Scraping talks in parallel:  36%|███▋      | 186/513 [00:21<00:32, 10.05it/s]"
          ]
        },
        {
          "output_type": "stream",
          "name": "stdout",
          "text": [
            "Successfully fetched https://www.churchofjesuschrist.org/study/general-conference/2022/04/33craven?lang=eng\n",
            "Successfully fetched https://www.churchofjesuschrist.org/study/general-conference/2022/04/24kearon?lang=eng\n",
            "Successfully fetched https://www.churchofjesuschrist.org/study/general-conference/2022/04/15andersen?lang=eng\n"
          ]
        },
        {
          "output_type": "stream",
          "name": "stderr",
          "text": [
            "Scraping talks in parallel:  37%|███▋      | 192/513 [00:21<00:32,  9.76it/s]"
          ]
        },
        {
          "output_type": "stream",
          "name": "stdout",
          "text": [
            "Successfully fetched https://www.churchofjesuschrist.org/study/general-conference/2022/04/16gavarret?lang=eng\n",
            "Successfully fetched https://www.churchofjesuschrist.org/study/general-conference/2022/04/54pace?lang=eng\n",
            "Successfully fetched https://www.churchofjesuschrist.org/study/general-conference/2022/04/43stevenson?lang=eng\n",
            "Successfully fetched https://www.churchofjesuschrist.org/study/general-conference/2022/04/47nelson?lang=eng\n",
            "Successfully fetched https://www.churchofjesuschrist.org/study/general-conference/2022/04/52ojediran?lang=eng\n",
            "Successfully fetched https://www.churchofjesuschrist.org/study/general-conference/2022/04/55soares?lang=eng\n",
            "Successfully fetched https://www.churchofjesuschrist.org/study/general-conference/2022/04/22larson?lang=eng\n"
          ]
        },
        {
          "output_type": "stream",
          "name": "stderr",
          "text": [
            "\rScraping talks in parallel:  38%|███▊      | 195/513 [00:22<00:37,  8.49it/s]"
          ]
        },
        {
          "output_type": "stream",
          "name": "stdout",
          "text": [
            "Successfully fetched https://www.churchofjesuschrist.org/study/general-conference/2022/04/32porter?lang=eng\n",
            "Successfully fetched https://www.churchofjesuschrist.org/study/general-conference/2022/04/31oaks?lang=eng\n",
            "Successfully fetched https://www.churchofjesuschrist.org/study/general-conference/2022/04/53klebingat?lang=eng\n",
            "Successfully fetched https://www.churchofjesuschrist.org/study/general-conference/2022/04/18eyring?lang=eng\n"
          ]
        },
        {
          "output_type": "stream",
          "name": "stderr",
          "text": [
            "Scraping talks in parallel:  40%|███▉      | 204/513 [00:22<00:26, 11.85it/s]"
          ]
        },
        {
          "output_type": "stream",
          "name": "stdout",
          "text": [
            "Successfully fetched https://www.churchofjesuschrist.org/study/general-conference/2022/04/21oaks?lang=eng\n",
            "Successfully fetched https://www.churchofjesuschrist.org/study/general-conference/2022/04/46martinez?lang=eng\n",
            "Successfully fetched https://www.churchofjesuschrist.org/study/general-conference/2022/04/13aburto?lang=eng\n"
          ]
        },
        {
          "output_type": "stream",
          "name": "stderr",
          "text": [
            "\rScraping talks in parallel:  40%|████      | 206/513 [00:23<00:28, 10.78it/s]"
          ]
        },
        {
          "output_type": "stream",
          "name": "stdout",
          "text": [
            "Successfully fetched https://www.churchofjesuschrist.org/study/general-conference/2022/04/14bednar?lang=eng\n",
            "Successfully fetched https://www.churchofjesuschrist.org/study/general-conference/2022/04/36renlund?lang=eng\n",
            "Successfully fetched https://www.churchofjesuschrist.org/study/general-conference/2022/04/29cook?lang=eng\n",
            "Successfully fetched https://www.churchofjesuschrist.org/study/general-conference/2022/04/56funk?lang=eng\n",
            "Successfully fetched https://www.churchofjesuschrist.org/study/general-conference/2022/04/27ochoa?lang=eng\n"
          ]
        },
        {
          "output_type": "stream",
          "name": "stderr",
          "text": [
            "\rScraping talks in parallel:  41%|████      | 208/513 [00:23<00:37,  8.17it/s]"
          ]
        },
        {
          "output_type": "stream",
          "name": "stdout",
          "text": [
            "Successfully fetched https://www.churchofjesuschrist.org/study/general-conference/2022/04/28hamilton?lang=eng\n",
            "Successfully fetched https://www.churchofjesuschrist.org/study/general-conference/2021/10/34valenzuela?lang=eng\n",
            "Successfully fetched https://www.churchofjesuschrist.org/study/general-conference/2022/04/34video?lang=eng\n",
            "Successfully fetched https://www.churchofjesuschrist.org/study/general-conference/2022/04/57uchtdorf?lang=eng\n",
            "Successfully fetched https://www.churchofjesuschrist.org/study/general-conference/2021/10/23schmeil?lang=eng\n",
            "Successfully fetched https://www.churchofjesuschrist.org/study/general-conference/2022/04/26gong?lang=eng\n",
            "Successfully fetched https://www.churchofjesuschrist.org/study/general-conference/2022/04/saturday-morning-session?lang=eng\n"
          ]
        },
        {
          "output_type": "stream",
          "name": "stderr",
          "text": [
            "\rScraping talks in parallel:  41%|████      | 210/513 [00:24<00:57,  5.29it/s]"
          ]
        },
        {
          "output_type": "stream",
          "name": "stdout",
          "text": [
            "Successfully fetched https://www.churchofjesuschrist.org/study/general-conference/2021/10/11nelson?lang=eng\n",
            "Successfully fetched https://www.churchofjesuschrist.org/study/general-conference/2021/10/38eyring?lang=eng\n"
          ]
        },
        {
          "output_type": "stream",
          "name": "stderr",
          "text": [
            "\rScraping talks in parallel:  43%|████▎     | 220/513 [00:24<00:26, 10.87it/s]"
          ]
        },
        {
          "output_type": "stream",
          "name": "stdout",
          "text": [
            "Successfully fetched https://www.churchofjesuschrist.org/study/general-conference/2021/10/28villanueva?lang=eng\n",
            "Successfully fetched https://www.churchofjesuschrist.org/study/general-conference/2021/10/54dunn?lang=eng\n",
            "Successfully fetched https://www.churchofjesuschrist.org/study/general-conference/2021/10/22bednar?lang=eng\n",
            "Successfully fetched https://www.churchofjesuschrist.org/study/general-conference/2021/10/41uchtdorf?lang=eng\n",
            "Successfully fetched https://www.churchofjesuschrist.org/study/general-conference/2021/10/13cordon?lang=eng\n",
            "Successfully fetched https://www.churchofjesuschrist.org/study/general-conference/2021/10/46cook?lang=eng\n"
          ]
        },
        {
          "output_type": "stream",
          "name": "stderr",
          "text": [
            "\rScraping talks in parallel:  43%|████▎     | 223/513 [00:25<00:32,  8.94it/s]"
          ]
        },
        {
          "output_type": "stream",
          "name": "stdout",
          "text": [
            "Successfully fetched https://www.churchofjesuschrist.org/study/general-conference/2021/10/37nash?lang=eng\n",
            "Successfully fetched https://www.churchofjesuschrist.org/study/general-conference/2021/10/53perkins?lang=eng\n",
            "Successfully fetched https://www.churchofjesuschrist.org/study/general-conference/2021/10/25kopischke?lang=eng\n",
            "Successfully fetched https://www.churchofjesuschrist.org/study/general-conference/2021/10/36kyungu?lang=eng\n",
            "Successfully fetched https://www.churchofjesuschrist.org/study/general-conference/2021/10/55douglas?lang=eng\n",
            "Successfully fetched https://www.churchofjesuschrist.org/study/general-conference/2021/10/52budge?lang=eng\n"
          ]
        },
        {
          "output_type": "stream",
          "name": "stderr",
          "text": [
            "\rScraping talks in parallel:  45%|████▌     | 231/513 [00:25<00:22, 12.73it/s]"
          ]
        },
        {
          "output_type": "stream",
          "name": "stdout",
          "text": [
            "Successfully fetched https://www.churchofjesuschrist.org/study/general-conference/2021/10/44sikahema?lang=eng\n",
            "Successfully fetched https://www.churchofjesuschrist.org/study/general-conference/2021/10/56revillo?lang=eng\n",
            "Successfully fetched https://www.churchofjesuschrist.org/study/general-conference/2021/10/35wilcox?lang=eng\n"
          ]
        },
        {
          "output_type": "stream",
          "name": "stderr",
          "text": [
            "\rScraping talks in parallel:  45%|████▌     | 233/513 [00:25<00:23, 12.04it/s]"
          ]
        },
        {
          "output_type": "stream",
          "name": "stdout",
          "text": [
            "Successfully fetched https://www.churchofjesuschrist.org/study/general-conference/2021/10/51gong?lang=eng\n",
            "Successfully fetched https://www.churchofjesuschrist.org/study/general-conference/2021/10/33nielson?lang=eng\n",
            "Successfully fetched https://www.churchofjesuschrist.org/study/general-conference/2021/10/saturday-morning-session?lang=engSuccessfully fetched https://www.churchofjesuschrist.org/study/general-conference/2021/10/24porter?lang=eng\n",
            "Successfully fetched https://www.churchofjesuschrist.org/study/general-conference/2021/10/43renlund?lang=eng\n",
            "\n"
          ]
        },
        {
          "output_type": "stream",
          "name": "stderr",
          "text": [
            "\rScraping talks in parallel:  46%|████▌     | 235/513 [00:26<00:36,  7.63it/s]"
          ]
        },
        {
          "output_type": "stream",
          "name": "stdout",
          "text": [
            "Successfully fetched https://www.churchofjesuschrist.org/study/general-conference/2021/10/15christofferson?lang=eng\n",
            "Successfully fetched https://www.churchofjesuschrist.org/study/general-conference/2021/10/16gilbert?lang=eng\n",
            "Successfully fetched https://www.churchofjesuschrist.org/study/general-conference/2021/10/59nelson?lang=eng\n",
            "Successfully fetched https://www.churchofjesuschrist.org/study/general-conference/2021/10/26rasband?lang=eng\n"
          ]
        },
        {
          "output_type": "stream",
          "name": "stderr",
          "text": [
            "Scraping talks in parallel:  48%|████▊     | 246/513 [00:26<00:20, 13.24it/s]"
          ]
        },
        {
          "output_type": "stream",
          "name": "stdout",
          "text": [
            "Successfully fetched https://www.churchofjesuschrist.org/study/general-conference/2021/10/14soares?lang=eng\n",
            "Successfully fetched https://www.churchofjesuschrist.org/study/general-conference/2021/10/17giuffra?lang=eng\n",
            "Successfully fetched https://www.churchofjesuschrist.org/study/general-conference/2021/10/42johnson?lang=eng\n",
            "Successfully fetched https://www.churchofjesuschrist.org/study/general-conference/2021/10/12holland?lang=eng\n",
            "Successfully fetched https://www.churchofjesuschrist.org/study/general-conference/2021/10/58andersen?lang=eng\n",
            "Successfully fetched https://www.churchofjesuschrist.org/study/general-conference/2021/10/57meredith?lang=eng\n",
            "Successfully fetched https://www.churchofjesuschrist.org/study/general-conference/2021/10/32eubank?lang=eng\n",
            "Successfully fetched https://www.churchofjesuschrist.org/study/general-conference/2021/10/21eyring?lang=eng\n",
            "Successfully fetched https://www.churchofjesuschrist.org/study/general-conference/2021/10/47nelson?lang=eng\n",
            "Successfully fetched https://www.churchofjesuschrist.org/study/general-conference/2021/10/27golden?lang=eng\n",
            "Successfully fetched https://www.churchofjesuschrist.org/study/general-conference/2021/04/57nelson?lang=eng\n"
          ]
        },
        {
          "output_type": "stream",
          "name": "stderr",
          "text": [
            "Scraping talks in parallel:  49%|████▉     | 253/513 [00:28<00:26,  9.65it/s]"
          ]
        },
        {
          "output_type": "stream",
          "name": "stdout",
          "text": [
            "Successfully fetched https://www.churchofjesuschrist.org/study/general-conference/2021/04/14newman?lang=eng\n",
            "Successfully fetched https://www.churchofjesuschrist.org/study/general-conference/2021/10/31ballard?lang=eng\n",
            "Successfully fetched https://www.churchofjesuschrist.org/study/general-conference/2021/04/23holland?lang=eng\n",
            "Successfully fetched https://www.churchofjesuschrist.org/study/general-conference/2021/10/18oaks?lang=eng\n",
            "Successfully fetched https://www.churchofjesuschrist.org/study/general-conference/2021/04/53dyches?lang=eng\n",
            "Successfully fetched https://www.churchofjesuschrist.org/study/general-conference/2021/04/16gong?lang=eng\n",
            "Successfully fetched https://www.churchofjesuschrist.org/study/general-conference/2021/10/29stevenson?lang=eng\n",
            "Successfully fetched https://www.churchofjesuschrist.org/study/general-conference/2021/04/12uchtdorf?lang=eng\n"
          ]
        },
        {
          "output_type": "stream",
          "name": "stderr",
          "text": [
            "\rScraping talks in parallel:  50%|█████     | 257/513 [00:28<00:30,  8.38it/s]"
          ]
        },
        {
          "output_type": "stream",
          "name": "stdout",
          "text": [
            "Successfully fetched https://www.churchofjesuschrist.org/study/general-conference/2021/04/44dube?lang=eng\n",
            "Successfully fetched https://www.churchofjesuschrist.org/study/general-conference/2021/04/21oaks?lang=eng\n",
            "Successfully fetched https://www.churchofjesuschrist.org/study/general-conference/2021/04/35oaks?lang=eng\n",
            "Successfully fetched https://www.churchofjesuschrist.org/study/general-conference/2021/04/36nelson?lang=eng\n",
            "Successfully fetched https://www.churchofjesuschrist.org/study/general-conference/2021/04/49nelson?lang=eng\n"
          ]
        },
        {
          "output_type": "stream",
          "name": "stderr",
          "text": [
            "Scraping talks in parallel:  52%|█████▏    | 266/513 [00:29<00:27,  8.83it/s]"
          ]
        },
        {
          "output_type": "stream",
          "name": "stdout",
          "text": [
            "Successfully fetched https://www.churchofjesuschrist.org/study/general-conference/2021/04/32corbitt?lang=eng\n",
            "Successfully fetched https://www.churchofjesuschrist.org/study/general-conference/2021/04/28ballard?lang=eng\n",
            "Successfully fetched https://www.churchofjesuschrist.org/study/general-conference/2021/04/11nelson?lang=eng\n",
            "Successfully fetched https://www.churchofjesuschrist.org/study/general-conference/2021/04/42aburto?lang=eng\n",
            "Successfully fetched https://www.churchofjesuschrist.org/study/general-conference/2021/04/26andersen?lang=eng\n"
          ]
        },
        {
          "output_type": "stream",
          "name": "stderr",
          "text": [
            "\rScraping talks in parallel:  52%|█████▏    | 268/513 [00:30<00:33,  7.29it/s]"
          ]
        },
        {
          "output_type": "stream",
          "name": "stdout",
          "text": [
            "Successfully fetched https://www.churchofjesuschrist.org/study/general-conference/2021/04/17eyring?lang=eng\n",
            "Successfully fetched https://www.churchofjesuschrist.org/study/general-conference/2021/04/27mutombo?lang=eng\n"
          ]
        },
        {
          "output_type": "stream",
          "name": "stderr",
          "text": [
            "\rScraping talks in parallel:  53%|█████▎    | 274/513 [00:30<00:24,  9.73it/s]"
          ]
        },
        {
          "output_type": "stream",
          "name": "stdout",
          "text": [
            "Successfully fetched https://www.churchofjesuschrist.org/study/general-conference/2021/04/15stevenson?lang=eng\n",
            "Successfully fetched https://www.churchofjesuschrist.org/study/general-conference/2021/04/33nielsen?lang=eng\n",
            "Successfully fetched https://www.churchofjesuschrist.org/study/general-conference/2021/04/13jones?lang=eng\n",
            "Successfully fetched https://www.churchofjesuschrist.org/study/general-conference/2021/04/34eyring?lang=eng\n",
            "Successfully fetched https://www.churchofjesuschrist.org/study/general-conference/2021/04/54christofferson?lang=eng\n",
            "Successfully fetched https://www.churchofjesuschrist.org/study/general-conference/2021/04/45teixeira?lang=eng\n",
            "Successfully fetched https://www.churchofjesuschrist.org/study/general-conference/2021/04/24becerra?lang=eng\n"
          ]
        },
        {
          "output_type": "stream",
          "name": "stderr",
          "text": [
            "\rScraping talks in parallel:  54%|█████▍    | 276/513 [00:31<00:39,  5.95it/s]"
          ]
        },
        {
          "output_type": "stream",
          "name": "stdout",
          "text": [
            "Successfully fetched https://www.churchofjesuschrist.org/study/general-conference/2021/04/22larson?lang=eng\n",
            "Successfully fetched https://www.churchofjesuschrist.org/study/general-conference/2021/04/51oaks?lang=eng\n",
            "Successfully fetched https://www.churchofjesuschrist.org/study/general-conference/2021/04/56bednar?lang=eng\n"
          ]
        },
        {
          "output_type": "stream",
          "name": "stderr",
          "text": [
            "\rScraping talks in parallel:  55%|█████▍    | 280/513 [00:32<00:34,  6.71it/s]"
          ]
        },
        {
          "output_type": "stream",
          "name": "stdout",
          "text": [
            "Successfully fetched https://www.churchofjesuschrist.org/study/general-conference/2021/04/saturday-morning-session?lang=eng\n",
            "Successfully fetched https://www.churchofjesuschrist.org/study/general-conference/2021/04/47wong?lang=eng\n",
            "Successfully fetched https://www.churchofjesuschrist.org/study/general-conference/2021/04/25renlund?lang=eng\n",
            "Successfully fetched https://www.churchofjesuschrist.org/study/general-conference/2021/04/43palmer?lang=eng\n",
            "Successfully fetched https://www.churchofjesuschrist.org/study/general-conference/2020/10/24gong?lang=eng\n",
            "Successfully fetched https://www.churchofjesuschrist.org/study/general-conference/2021/04/55walker?lang=eng\n",
            "Successfully fetched https://www.churchofjesuschrist.org/study/general-conference/2021/04/41soares?lang=eng\n",
            "Successfully fetched https://www.churchofjesuschrist.org/study/general-conference/2021/04/48teh?lang=eng\n",
            "Successfully fetched https://www.churchofjesuschrist.org/study/general-conference/2020/10/46nelson?lang=eng\n",
            "Successfully fetched https://www.churchofjesuschrist.org/study/general-conference/2020/10/43soares?lang=eng\n",
            "Successfully fetched https://www.churchofjesuschrist.org/study/general-conference/2021/04/31cook?lang=eng\n",
            "Successfully fetched https://www.churchofjesuschrist.org/study/general-conference/2020/10/22christofferson?lang=eng\n"
          ]
        },
        {
          "output_type": "stream",
          "name": "stderr",
          "text": [
            "Scraping talks in parallel:  57%|█████▋    | 293/513 [00:33<00:24,  9.12it/s]"
          ]
        },
        {
          "output_type": "stream",
          "name": "stdout",
          "text": [
            "Successfully fetched https://www.churchofjesuschrist.org/study/general-conference/2021/04/46wakolo?lang=eng\n",
            "Successfully fetched https://www.churchofjesuschrist.org/study/general-conference/2021/04/52rasband?lang=eng\n",
            "Successfully fetched https://www.churchofjesuschrist.org/study/general-conference/2020/10/36oaks?lang=eng\n"
          ]
        },
        {
          "output_type": "stream",
          "name": "stderr",
          "text": [
            "\rScraping talks in parallel:  59%|█████▊    | 301/513 [00:33<00:15, 13.38it/s]"
          ]
        },
        {
          "output_type": "stream",
          "name": "stdout",
          "text": [
            "Successfully fetched https://www.churchofjesuschrist.org/study/general-conference/2020/10/13whiting?lang=eng\n",
            "Successfully fetched https://www.churchofjesuschrist.org/study/general-conference/2020/10/58nelson?lang=eng\n",
            "Successfully fetched https://www.churchofjesuschrist.org/study/general-conference/2020/10/41ballard?lang=eng\n",
            "Successfully fetched https://www.churchofjesuschrist.org/study/general-conference/2020/10/16rasband?lang=eng\n",
            "Successfully fetched https://www.churchofjesuschrist.org/study/general-conference/2020/10/37nelson?lang=eng\n",
            "Successfully fetched https://www.churchofjesuschrist.org/study/general-conference/2020/10/31eubank?lang=eng\n",
            "Successfully fetched https://www.churchofjesuschrist.org/study/general-conference/2020/10/34franco?lang=eng\n",
            "Successfully fetched https://www.churchofjesuschrist.org/study/general-conference/2020/10/25waddell?lang=eng\n",
            "Successfully fetched https://www.churchofjesuschrist.org/study/general-conference/2020/10/55renlund?lang=eng\n",
            "Successfully fetched https://www.churchofjesuschrist.org/study/general-conference/2020/10/57holland?lang=eng\n",
            "Successfully fetched https://www.churchofjesuschrist.org/study/general-conference/2020/10/27jackson?lang=eng\n",
            "Successfully fetched https://www.churchofjesuschrist.org/study/general-conference/2020/10/21eyring?lang=eng\n"
          ]
        },
        {
          "output_type": "stream",
          "name": "stderr",
          "text": [
            "Scraping talks in parallel:  60%|█████▉    | 307/513 [00:34<00:21,  9.52it/s]"
          ]
        },
        {
          "output_type": "stream",
          "name": "stdout",
          "text": [
            "Successfully fetched https://www.churchofjesuschrist.org/study/general-conference/2020/10/35eyring?lang=eng\n",
            "Successfully fetched https://www.churchofjesuschrist.org/study/general-conference/2020/10/17oaks?lang=eng\n",
            "Successfully fetched https://www.churchofjesuschrist.org/study/general-conference/2020/10/42harkness?lang=engSuccessfully fetched https://www.churchofjesuschrist.org/study/general-conference/2020/10/44godoy?lang=eng\n",
            "\n"
          ]
        },
        {
          "output_type": "stream",
          "name": "stderr",
          "text": [
            "\rScraping talks in parallel:  61%|██████    | 314/513 [00:35<00:15, 13.18it/s]"
          ]
        },
        {
          "output_type": "stream",
          "name": "stdout",
          "text": [
            "Successfully fetched https://www.churchofjesuschrist.org/study/general-conference/2020/10/28uchtdorf?lang=eng\n"
          ]
        },
        {
          "output_type": "stream",
          "name": "stderr",
          "text": [
            "\rScraping talks in parallel:  62%|██████▏   | 317/513 [00:35<00:18, 10.77it/s]"
          ]
        },
        {
          "output_type": "stream",
          "name": "stdout",
          "text": [
            "Successfully fetched https://www.churchofjesuschrist.org/study/general-conference/2020/10/54camargo?lang=eng\n",
            "Successfully fetched https://www.churchofjesuschrist.org/study/general-conference/2020/10/45andersen?lang=eng\n",
            "Successfully fetched https://www.churchofjesuschrist.org/study/general-conference/2020/10/15cook?lang=eng\n",
            "Successfully fetched https://www.churchofjesuschrist.org/study/general-conference/2020/10/12bednar?lang=eng\n",
            "Successfully fetched https://www.churchofjesuschrist.org/study/general-conference/2020/10/23lund?lang=eng\n"
          ]
        },
        {
          "output_type": "stream",
          "name": "stderr",
          "text": [
            "\rScraping talks in parallel:  62%|██████▏   | 320/513 [00:35<00:19, 10.13it/s]"
          ]
        },
        {
          "output_type": "stream",
          "name": "stdout",
          "text": [
            "Successfully fetched https://www.churchofjesuschrist.org/study/general-conference/2020/10/52jaggi?lang=eng\n",
            "Successfully fetched https://www.churchofjesuschrist.org/study/general-conference/2020/10/11nelson?lang=eng\n",
            "Successfully fetched https://www.churchofjesuschrist.org/study/general-conference/2020/10/51eyring?lang=eng\n",
            "Successfully fetched https://www.churchofjesuschrist.org/study/general-conference/2020/10/14craig?lang=eng\n",
            "Successfully fetched https://www.churchofjesuschrist.org/study/general-conference/2020/10/26holland?lang=eng\n",
            "Successfully fetched https://www.churchofjesuschrist.org/study/general-conference/2020/10/33video?lang=eng\n",
            "Successfully fetched https://www.churchofjesuschrist.org/study/general-conference/2020/04/51oaks?lang=eng\n",
            "Successfully fetched https://www.churchofjesuschrist.org/study/general-conference/2020/04/41rasband?lang=eng\n",
            "Successfully fetched https://www.churchofjesuschrist.org/study/general-conference/2020/10/56johnson?lang=eng\n",
            "Successfully fetched https://www.churchofjesuschrist.org/study/general-conference/2020/04/44bednar?lang=eng\n",
            "Successfully fetched https://www.churchofjesuschrist.org/study/general-conference/2020/04/55clayton?lang=eng\n",
            "Successfully fetched https://www.churchofjesuschrist.org/study/general-conference/2020/04/27tai?lang=eng\n"
          ]
        },
        {
          "output_type": "stream",
          "name": "stderr",
          "text": [
            "\rScraping talks in parallel:  63%|██████▎   | 322/513 [00:37<00:44,  4.26it/s]"
          ]
        },
        {
          "output_type": "stream",
          "name": "stdout",
          "text": [
            "Successfully fetched https://www.churchofjesuschrist.org/study/general-conference/2020/04/34bingham?lang=eng\n",
            "Successfully fetched https://www.churchofjesuschrist.org/study/general-conference/2020/10/saturday-morning-session?lang=eng\n",
            "Successfully fetched https://www.churchofjesuschrist.org/study/general-conference/2020/10/53stevenson?lang=eng\n",
            "Successfully fetched https://www.churchofjesuschrist.org/study/general-conference/2020/04/45nelson?lang=eng\n"
          ]
        },
        {
          "output_type": "stream",
          "name": "stderr",
          "text": [
            "\rScraping talks in parallel:  65%|██████▍   | 331/513 [00:37<00:23,  7.70it/s]"
          ]
        },
        {
          "output_type": "stream",
          "name": "stdout",
          "text": [
            "Successfully fetched https://www.churchofjesuschrist.org/study/general-conference/2020/04/26renlund?lang=eng\n",
            "Successfully fetched https://www.churchofjesuschrist.org/study/general-conference/2020/10/32craven?lang=eng\n",
            "Successfully fetched https://www.churchofjesuschrist.org/study/general-conference/2020/04/22jergensen?lang=eng\n"
          ]
        },
        {
          "output_type": "stream",
          "name": "stderr",
          "text": [
            "\rScraping talks in parallel:  66%|██████▌   | 339/513 [00:38<00:17,  9.84it/s]"
          ]
        },
        {
          "output_type": "stream",
          "name": "stdout",
          "text": [
            "Successfully fetched https://www.churchofjesuschrist.org/study/general-conference/2020/04/11nelson?lang=eng\n",
            "Successfully fetched https://www.churchofjesuschrist.org/study/general-conference/2020/04/43holland?lang=eng\n",
            "Successfully fetched https://www.churchofjesuschrist.org/study/general-conference/2020/04/24mccune?lang=eng\n",
            "Successfully fetched https://www.churchofjesuschrist.org/study/general-conference/2020/04/23soares?lang=eng\n",
            "Successfully fetched https://www.churchofjesuschrist.org/study/general-conference/2020/04/12ballard?lang=eng\n",
            "Successfully fetched https://www.churchofjesuschrist.org/study/general-conference/2020/04/14jones?lang=eng\n",
            "Successfully fetched https://www.churchofjesuschrist.org/study/general-conference/2020/04/53gimenez?lang=eng\n",
            "Successfully fetched https://www.churchofjesuschrist.org/study/general-conference/2020/04/52cook?lang=eng\n"
          ]
        },
        {
          "output_type": "stream",
          "name": "stderr",
          "text": [
            "\rScraping talks in parallel:  67%|██████▋   | 343/513 [00:39<00:19,  8.59it/s]"
          ]
        },
        {
          "output_type": "stream",
          "name": "stdout",
          "text": [
            "Successfully fetched https://www.churchofjesuschrist.org/study/general-conference/2020/04/37nelson?lang=eng\n",
            "Successfully fetched https://www.churchofjesuschrist.org/study/general-conference/2020/04/56christofferson?lang=eng\n"
          ]
        },
        {
          "output_type": "stream",
          "name": "stderr",
          "text": [
            "\rScraping talks in parallel:  68%|██████▊   | 351/513 [00:39<00:12, 12.82it/s]"
          ]
        },
        {
          "output_type": "stream",
          "name": "stdout",
          "text": [
            "Successfully fetched https://www.churchofjesuschrist.org/study/general-conference/2020/04/32alvarez?lang=eng\n",
            "Successfully fetched https://www.churchofjesuschrist.org/study/general-conference/2020/04/54uchtdorf?lang=eng\n",
            "Successfully fetched https://www.churchofjesuschrist.org/study/general-conference/2020/04/35eyring?lang=eng\n",
            "Successfully fetched https://www.churchofjesuschrist.org/study/general-conference/2020/04/17eyring?lang=eng\n",
            "Successfully fetched https://www.churchofjesuschrist.org/study/general-conference/2020/04/25causse?lang=eng\n",
            "Successfully fetched https://www.churchofjesuschrist.org/study/general-conference/2020/04/15andersen?lang=eng\n"
          ]
        },
        {
          "output_type": "stream",
          "name": "stderr",
          "text": [
            "\rScraping talks in parallel:  69%|██████▉   | 354/513 [00:40<00:18,  8.78it/s]"
          ]
        },
        {
          "output_type": "stream",
          "name": "stdout",
          "text": [
            "Successfully fetched https://www.churchofjesuschrist.org/study/general-conference/2020/04/16holmes?lang=eng\n",
            "Successfully fetched https://www.churchofjesuschrist.org/study/general-conference/2020/04/21oaks?lang=eng\n",
            "Successfully fetched https://www.churchofjesuschrist.org/study/general-conference/2020/04/31gong?lang=eng\n"
          ]
        },
        {
          "output_type": "stream",
          "name": "stderr",
          "text": [
            "\rScraping talks in parallel:  69%|██████▉   | 356/513 [00:40<00:21,  7.40it/s]"
          ]
        },
        {
          "output_type": "stream",
          "name": "stdout",
          "text": [
            "Successfully fetched https://www.churchofjesuschrist.org/study/general-conference/2020/04/33petelo?lang=eng\n",
            "Successfully fetched https://www.churchofjesuschrist.org/study/general-conference/2020/04/saturday-morning-session?lang=eng\n",
            "Successfully fetched https://www.churchofjesuschrist.org/study/general-conference/2020/04/36oaks?lang=eng\n"
          ]
        },
        {
          "output_type": "stream",
          "name": "stderr",
          "text": [
            "Scraping talks in parallel:  71%|███████   | 362/513 [00:41<00:17,  8.88it/s]"
          ]
        },
        {
          "output_type": "stream",
          "name": "stdout",
          "text": [
            "Successfully fetched https://www.churchofjesuschrist.org/study/general-conference/2020/04/46nelson?lang=eng\n",
            "Successfully fetched https://www.churchofjesuschrist.org/study/general-conference/2020/04/28stevenson?lang=eng\n",
            "Successfully fetched https://www.churchofjesuschrist.org/study/general-conference/2020/04/13rasband?lang=eng\n"
          ]
        },
        {
          "output_type": "stream",
          "name": "stderr",
          "text": [
            "\rScraping talks in parallel:  71%|███████▏  | 366/513 [00:41<00:13, 10.55it/s]"
          ]
        },
        {
          "output_type": "stream",
          "name": "stdout",
          "text": [
            "Successfully fetched https://www.churchofjesuschrist.org/study/general-conference/2020/04/42cordon?lang=eng\n",
            "Successfully fetched https://www.churchofjesuschrist.org/study/general-conference/2020/04/57nelson?lang=eng\n",
            "Successfully fetched https://www.churchofjesuschrist.org/study/general-conference/2019/10/24nelson?lang=eng\n",
            "Successfully fetched https://www.churchofjesuschrist.org/study/general-conference/2019/10/36nelson?lang=eng\n",
            "Successfully fetched https://www.churchofjesuschrist.org/study/general-conference/2019/10/11holland?lang=eng\n",
            "Successfully fetched https://www.churchofjesuschrist.org/study/general-conference/2019/10/29rasband?lang=eng\n",
            "Successfully fetched https://www.churchofjesuschrist.org/study/general-conference/2019/10/14christofferson?lang=eng\n",
            "Successfully fetched https://www.churchofjesuschrist.org/study/general-conference/2019/10/35oaks?lang=eng\n",
            "Successfully fetched https://www.churchofjesuschrist.org/study/general-conference/2019/10/12vinson?lang=eng\n"
          ]
        },
        {
          "output_type": "stream",
          "name": "stderr",
          "text": [
            "\rScraping talks in parallel:  72%|███████▏  | 370/513 [00:42<00:21,  6.67it/s]"
          ]
        },
        {
          "output_type": "stream",
          "name": "stdout",
          "text": [
            "Successfully fetched https://www.churchofjesuschrist.org/study/general-conference/2019/10/43uchtdorf?lang=eng\n",
            "Successfully fetched https://www.churchofjesuschrist.org/study/general-conference/2019/10/54johnson?lang=eng\n",
            "Successfully fetched https://www.churchofjesuschrist.org/study/general-conference/2019/10/26pace?lang=eng\n",
            "Successfully fetched https://www.churchofjesuschrist.org/study/general-conference/2019/10/45stevenson?lang=eng\n",
            "Successfully fetched https://www.churchofjesuschrist.org/study/general-conference/2019/10/41gong?lang=eng\n",
            "Successfully fetched https://www.churchofjesuschrist.org/study/general-conference/2019/10/55soares?lang=eng\n",
            "Successfully fetched https://www.churchofjesuschrist.org/study/general-conference/2019/10/13owen?lang=eng\n",
            "Successfully fetched https://www.churchofjesuschrist.org/study/general-conference/2019/10/46nelson?lang=eng\n",
            "Successfully fetched https://www.churchofjesuschrist.org/study/general-conference/2019/10/25cook?lang=eng\n",
            "Successfully fetched https://www.churchofjesuschrist.org/study/general-conference/2019/10/28alvarado?lang=eng\n",
            "Successfully fetched https://www.churchofjesuschrist.org/study/general-conference/2019/10/33cordon?lang=eng\n",
            "Successfully fetched https://www.churchofjesuschrist.org/study/general-conference/2019/10/34eyring?lang=eng\n",
            "Successfully fetched https://www.churchofjesuschrist.org/study/general-conference/2019/10/15craig?lang=eng\n"
          ]
        },
        {
          "output_type": "stream",
          "name": "stderr",
          "text": [
            "\rScraping talks in parallel:  73%|███████▎  | 377/513 [00:44<00:28,  4.80it/s]"
          ]
        },
        {
          "output_type": "stream",
          "name": "stdout",
          "text": [
            "Successfully fetched https://www.churchofjesuschrist.org/study/general-conference/2019/10/23alliaud?lang=eng\n",
            "Successfully fetched https://www.churchofjesuschrist.org/study/general-conference/2019/10/32harkness?lang=eng\n",
            "Successfully fetched https://www.churchofjesuschrist.org/study/general-conference/2019/10/17oaks?lang=eng\n",
            "Successfully fetched https://www.churchofjesuschrist.org/study/general-conference/2019/10/53ballard?lang=eng\n",
            "Successfully fetched https://www.churchofjesuschrist.org/study/general-conference/2019/10/21eyring?lang=eng\n",
            "Successfully fetched https://www.churchofjesuschrist.org/study/general-conference/2019/10/31aburto?lang=eng\n"
          ]
        },
        {
          "output_type": "stream",
          "name": "stderr",
          "text": [
            "\rScraping talks in parallel:  76%|███████▌  | 389/513 [00:45<00:17,  7.10it/s]"
          ]
        },
        {
          "output_type": "stream",
          "name": "stdout",
          "text": [
            "Successfully fetched https://www.churchofjesuschrist.org/study/general-conference/2019/10/27budge?lang=eng\n",
            "Successfully fetched https://www.churchofjesuschrist.org/study/general-conference/2019/10/22bednar?lang=eng\n",
            "Successfully fetched https://www.churchofjesuschrist.org/study/general-conference/2019/10/52boom?lang=eng\n",
            "Successfully fetched https://www.churchofjesuschrist.org/study/general-conference/2019/10/51eyring?lang=eng\n"
          ]
        },
        {
          "output_type": "stream",
          "name": "stderr",
          "text": [
            "\rScraping talks in parallel:  77%|███████▋  | 393/513 [00:45<00:15,  7.73it/s]"
          ]
        },
        {
          "output_type": "stream",
          "name": "stdout",
          "text": [
            "Successfully fetched https://www.churchofjesuschrist.org/study/general-conference/2019/10/44gonzalez?lang=eng\n",
            "Successfully fetched https://www.churchofjesuschrist.org/study/general-conference/2019/10/57nelson?lang=eng\n",
            "Successfully fetched https://www.churchofjesuschrist.org/study/general-conference/2019/10/56andersen?lang=eng\n"
          ]
        },
        {
          "output_type": "stream",
          "name": "stderr",
          "text": [
            "\rScraping talks in parallel:  77%|███████▋  | 396/513 [00:46<00:15,  7.57it/s]"
          ]
        },
        {
          "output_type": "stream",
          "name": "stdout",
          "text": [
            "Successfully fetched https://www.churchofjesuschrist.org/study/general-conference/2019/10/16renlund?lang=eng\n",
            "Successfully fetched https://www.churchofjesuschrist.org/study/general-conference/2019/10/saturday-morning-session?lang=eng\n",
            "Successfully fetched https://www.churchofjesuschrist.org/study/general-conference/2019/04/24held?lang=eng\n",
            "Successfully fetched https://www.churchofjesuschrist.org/study/general-conference/2019/04/46nelson?lang=eng\n",
            "Successfully fetched https://www.churchofjesuschrist.org/study/general-conference/2019/10/42franco?lang=eng\n",
            "Successfully fetched https://www.churchofjesuschrist.org/study/general-conference/2019/04/25andersen?lang=eng\n",
            "Successfully fetched https://www.churchofjesuschrist.org/study/general-conference/2019/04/22jergensen?lang=eng\n",
            "Successfully fetched https://www.churchofjesuschrist.org/study/general-conference/2019/04/44christofferson?lang=eng\n",
            "Successfully fetched https://www.churchofjesuschrist.org/study/general-conference/2019/04/15waddell?lang=eng\n"
          ]
        },
        {
          "output_type": "stream",
          "name": "stderr",
          "text": [
            "\rScraping talks in parallel:  79%|███████▉  | 405/513 [00:46<00:12,  8.91it/s]"
          ]
        },
        {
          "output_type": "stream",
          "name": "stdout",
          "text": [
            "Successfully fetched https://www.churchofjesuschrist.org/study/general-conference/2019/04/33clark?lang=eng\n",
            "Successfully fetched https://www.churchofjesuschrist.org/study/general-conference/2019/04/52villar?lang=eng\n"
          ]
        },
        {
          "output_type": "stream",
          "name": "stderr",
          "text": [
            "\rScraping talks in parallel:  80%|███████▉  | 410/513 [00:47<00:09, 10.55it/s]"
          ]
        },
        {
          "output_type": "stream",
          "name": "stdout",
          "text": [
            "Successfully fetched https://www.churchofjesuschrist.org/study/general-conference/2019/04/12craven?lang=eng\n",
            "Successfully fetched https://www.churchofjesuschrist.org/study/general-conference/2019/04/54bednar?lang=eng\n"
          ]
        },
        {
          "output_type": "stream",
          "name": "stderr",
          "text": [
            "\rScraping talks in parallel:  80%|████████  | 412/513 [00:47<00:10,  9.45it/s]"
          ]
        },
        {
          "output_type": "stream",
          "name": "stdout",
          "text": [
            "Successfully fetched https://www.churchofjesuschrist.org/study/general-conference/2019/04/saturday-morning-session?lang=eng\n",
            "Successfully fetched https://www.churchofjesuschrist.org/study/general-conference/2019/04/53gong?lang=eng\n",
            "Successfully fetched https://www.churchofjesuschrist.org/study/general-conference/2019/04/26wada?lang=eng\n",
            "Successfully fetched https://www.churchofjesuschrist.org/study/general-conference/2019/04/57nelson?lang=eng\n",
            "Successfully fetched https://www.churchofjesuschrist.org/study/general-conference/2019/04/34eyring?lang=eng\n",
            "Successfully fetched https://www.churchofjesuschrist.org/study/general-conference/2019/04/21oaks?lang=eng\n"
          ]
        },
        {
          "output_type": "stream",
          "name": "stderr",
          "text": [
            "\rScraping talks in parallel:  81%|████████▏ | 417/513 [00:47<00:10,  9.58it/s]"
          ]
        },
        {
          "output_type": "stream",
          "name": "stdout",
          "text": [
            "Successfully fetched https://www.churchofjesuschrist.org/study/general-conference/2019/04/55mckay?lang=eng\n",
            "Successfully fetched https://www.churchofjesuschrist.org/study/general-conference/2019/04/42eubank?lang=eng\n",
            "Successfully fetched https://www.churchofjesuschrist.org/study/general-conference/2019/04/45callister?lang=eng\n"
          ]
        },
        {
          "output_type": "stream",
          "name": "stderr",
          "text": [
            "\rScraping talks in parallel:  82%|████████▏ | 419/513 [00:48<00:09,  9.72it/s]"
          ]
        },
        {
          "output_type": "stream",
          "name": "stdout",
          "text": [
            "Successfully fetched https://www.churchofjesuschrist.org/study/general-conference/2019/04/31stevenson?lang=eng\n",
            "Successfully fetched https://www.churchofjesuschrist.org/study/general-conference/2019/04/41renlund?lang=eng\n",
            "Successfully fetched https://www.churchofjesuschrist.org/study/general-conference/2019/04/56rasband?lang=eng\n"
          ]
        },
        {
          "output_type": "stream",
          "name": "stderr",
          "text": [
            "\rScraping talks in parallel:  82%|████████▏ | 423/513 [00:48<00:08, 10.07it/s]"
          ]
        },
        {
          "output_type": "stream",
          "name": "stdout",
          "text": [
            "Successfully fetched https://www.churchofjesuschrist.org/study/general-conference/2019/04/16eyring?lang=eng\n",
            "Successfully fetched https://www.churchofjesuschrist.org/study/general-conference/2019/04/35oaks?lang=engSuccessfully fetched https://www.churchofjesuschrist.org/study/general-conference/2019/04/28holland?lang=eng\n",
            "\n",
            "Successfully fetched https://www.churchofjesuschrist.org/study/general-conference/2019/04/13hales?lang=eng\n",
            "Successfully fetched https://www.churchofjesuschrist.org/study/general-conference/2019/04/11soares?lang=eng\n",
            "Successfully fetched https://www.churchofjesuschrist.org/study/general-conference/2019/04/36nelson?lang=eng\n",
            "Successfully fetched https://www.churchofjesuschrist.org/study/general-conference/2019/04/32cook?lang=eng\n",
            "Successfully fetched https://www.churchofjesuschrist.org/study/general-conference/2018/10/all-must-take-upon-them-the-name-given-of-the-father?lang=eng\n"
          ]
        },
        {
          "output_type": "stream",
          "name": "stderr",
          "text": [
            "\rScraping talks in parallel:  83%|████████▎ | 428/513 [00:49<00:09,  9.22it/s]"
          ]
        },
        {
          "output_type": "stream",
          "name": "stdout",
          "text": [
            "Successfully fetched https://www.churchofjesuschrist.org/study/general-conference/2019/04/27homer?lang=eng\n",
            "Successfully fetched https://www.churchofjesuschrist.org/study/general-conference/2018/10/becoming-exemplary-latter-day-saints?lang=eng\n",
            "Successfully fetched https://www.churchofjesuschrist.org/study/general-conference/2019/04/51oaks?lang=eng\n",
            "Successfully fetched https://www.churchofjesuschrist.org/study/general-conference/2018/10/wounded?lang=eng\n",
            "Successfully fetched https://www.churchofjesuschrist.org/study/general-conference/2018/10/the-joy-of-unselfish-service?lang=eng\n",
            "Successfully fetched https://www.churchofjesuschrist.org/study/general-conference/2019/04/23ballard?lang=eng\n"
          ]
        },
        {
          "output_type": "stream",
          "name": "stderr",
          "text": [
            "\rScraping talks in parallel:  84%|████████▍ | 432/513 [00:49<00:11,  7.23it/s]"
          ]
        },
        {
          "output_type": "stream",
          "name": "stdout",
          "text": [
            "Successfully fetched https://www.churchofjesuschrist.org/study/general-conference/2019/04/14uchtdorf?lang=eng\n",
            "Successfully fetched https://www.churchofjesuschrist.org/study/general-conference/2019/04/43cook?lang=eng\n"
          ]
        },
        {
          "output_type": "stream",
          "name": "stderr",
          "text": [
            "\rScraping talks in parallel:  87%|████████▋ | 444/513 [00:50<00:04, 14.56it/s]"
          ]
        },
        {
          "output_type": "stream",
          "name": "stdout",
          "text": [
            "Successfully fetched https://www.churchofjesuschrist.org/study/general-conference/2018/10/now-is-the-time?lang=eng\n",
            "Successfully fetched https://www.churchofjesuschrist.org/study/general-conference/2018/10/believe-love-do?lang=eng\n",
            "Successfully fetched https://www.churchofjesuschrist.org/study/general-conference/2018/10/the-correct-name-of-the-church?lang=eng\n",
            "Successfully fetched https://www.churchofjesuschrist.org/study/general-conference/2018/10/shepherding-souls?lang=eng\n",
            "Successfully fetched https://www.churchofjesuschrist.org/study/general-conference/2018/10/be-not-troubled?lang=eng\n",
            "Successfully fetched https://www.churchofjesuschrist.org/study/general-conference/2018/10/opening-remarks?lang=eng\n",
            "Successfully fetched https://www.churchofjesuschrist.org/study/general-conference/2018/10/taking-upon-ourselves-the-name-of-jesus-christ?lang=eng\n",
            "Successfully fetched https://www.churchofjesuschrist.org/study/general-conference/2018/10/choose-you-this-day?lang=eng\n",
            "Successfully fetched https://www.churchofjesuschrist.org/study/general-conference/2018/10/gather-together-in-one-all-things-in-christ?lang=eng\n",
            "Successfully fetched https://www.churchofjesuschrist.org/study/general-conference/2018/10/becoming-a-shepherd?lang=eng\n",
            "Successfully fetched https://www.churchofjesuschrist.org/study/general-conference/2018/10/laying-the-foundation-of-a-great-work?lang=eng\n"
          ]
        },
        {
          "output_type": "stream",
          "name": "stderr",
          "text": [
            "\rScraping talks in parallel:  87%|████████▋ | 448/513 [00:51<00:07,  8.70it/s]"
          ]
        },
        {
          "output_type": "stream",
          "name": "stdout",
          "text": [
            "Successfully fetched https://www.churchofjesuschrist.org/study/general-conference/2018/10/truth-and-the-plan?lang=eng\n",
            "Successfully fetched https://www.churchofjesuschrist.org/study/general-conference/2018/10/the-father?lang=eng\n"
          ]
        },
        {
          "output_type": "stream",
          "name": "stderr",
          "text": [
            "\rScraping talks in parallel:  88%|████████▊ | 453/513 [00:51<00:05, 10.00it/s]"
          ]
        },
        {
          "output_type": "stream",
          "name": "stdout",
          "text": [
            "Successfully fetched https://www.churchofjesuschrist.org/study/general-conference/2018/10/lift-up-your-head-and-rejoice?lang=eng\n",
            "Successfully fetched https://www.churchofjesuschrist.org/study/general-conference/2018/10/for-him?lang=eng\n",
            "Successfully fetched https://www.churchofjesuschrist.org/study/general-conference/2018/10/divine-discontent?lang=eng\n",
            "Successfully fetched https://www.churchofjesuschrist.org/study/general-conference/2018/10/parents-and-children?lang=eng\n",
            "Successfully fetched https://www.churchofjesuschrist.org/study/general-conference/2018/10/the-role-of-the-book-of-mormon-in-conversion?lang=eng\n",
            "Successfully fetched https://www.churchofjesuschrist.org/study/general-conference/2018/10/wilt-thou-be-made-whole?lang=eng\n"
          ]
        },
        {
          "output_type": "stream",
          "name": "stderr",
          "text": [
            "\rScraping talks in parallel:  89%|████████▉ | 456/513 [00:52<00:07,  7.88it/s]"
          ]
        },
        {
          "output_type": "stream",
          "name": "stdout",
          "text": [
            "Successfully fetched https://www.churchofjesuschrist.org/study/general-conference/2018/10/saturday-morning-session?lang=eng\n",
            "Successfully fetched https://www.churchofjesuschrist.org/study/general-conference/2018/10/deep-and-lasting-conversion-to-heavenly-father-and-the-lord-jesus-christ?lang=eng\n",
            "Successfully fetched https://www.churchofjesuschrist.org/study/general-conference/2018/10/try-try-try?lang=eng\n",
            "Successfully fetched https://www.churchofjesuschrist.org/study/general-conference/2018/10/one-in-christ?lang=eng\n",
            "Successfully fetched https://www.churchofjesuschrist.org/study/general-conference/2018/10/the-ministry-of-reconciliation?lang=eng\n"
          ]
        },
        {
          "output_type": "stream",
          "name": "stderr",
          "text": [
            "\rScraping talks in parallel:  90%|█████████ | 463/513 [00:52<00:05,  9.18it/s]"
          ]
        },
        {
          "output_type": "stream",
          "name": "stdout",
          "text": [
            "Successfully fetched https://www.churchofjesuschrist.org/study/general-conference/2018/10/firm-and-steadfast-in-the-faith-of-christ?lang=eng\n",
            "Successfully fetched https://www.churchofjesuschrist.org/study/general-conference/2018/04/inspired-ministering?lang=eng\n",
            "Successfully fetched https://www.churchofjesuschrist.org/study/general-conference/2018/10/the-vision-of-the-redemption-of-the-dead?lang=eng\n"
          ]
        },
        {
          "output_type": "stream",
          "name": "stderr",
          "text": [
            "\rScraping talks in parallel:  91%|█████████ | 468/513 [00:53<00:04, 10.71it/s]"
          ]
        },
        {
          "output_type": "stream",
          "name": "stdout",
          "text": [
            "Successfully fetched https://www.churchofjesuschrist.org/study/general-conference/2018/10/women-and-gospel-learning-in-the-home?lang=eng\n",
            "Successfully fetched https://www.churchofjesuschrist.org/study/general-conference/2018/10/come-listen-to-a-prophets-voice?lang=eng\n",
            "Successfully fetched https://www.churchofjesuschrist.org/study/general-conference/2018/10/our-campfire-of-faith?lang=eng\n",
            "Successfully fetched https://www.churchofjesuschrist.org/study/general-conference/2018/10/sisters-participation-in-the-gathering-of-israel?lang=eng\n"
          ]
        },
        {
          "output_type": "stream",
          "name": "stderr",
          "text": [
            "\rScraping talks in parallel:  92%|█████████▏| 471/513 [00:53<00:04, 10.29it/s]"
          ]
        },
        {
          "output_type": "stream",
          "name": "stdout",
          "text": [
            "Successfully fetched https://www.churchofjesuschrist.org/study/general-conference/2018/04/saving-ordinances-will-bring-us-marvelous-light?lang=eng\n",
            "Successfully fetched https://www.churchofjesuschrist.org/study/general-conference/2018/10/the-sustaining-of-church-officers?lang=eng\n",
            "Successfully fetched https://www.churchofjesuschrist.org/study/general-conference/2018/04/church-auditing-department-report-2017?lang=eng\n"
          ]
        },
        {
          "output_type": "stream",
          "name": "stderr",
          "text": [
            "\rScraping talks in parallel:  93%|█████████▎| 478/513 [00:53<00:02, 14.80it/s]"
          ]
        },
        {
          "output_type": "stream",
          "name": "stdout",
          "text": [
            "Successfully fetched https://www.churchofjesuschrist.org/study/general-conference/2018/04/pure-love-the-true-sign-of-every-true-disciple-of-jesus-christ?lang=eng\n",
            "Successfully fetched https://www.churchofjesuschrist.org/study/general-conference/2018/04/ministering?lang=eng\n",
            "Successfully fetched https://www.churchofjesuschrist.org/study/general-conference/2018/04/behold-a-royal-army?lang=eng\n",
            "Successfully fetched https://www.churchofjesuschrist.org/study/general-conference/2018/04/christ-the-lord-is-risen-today?lang=eng\n",
            "Successfully fetched https://www.churchofjesuschrist.org/study/general-conference/2018/04/the-prophet-of-god?lang=eng\n",
            "Successfully fetched https://www.churchofjesuschrist.org/study/general-conference/2018/04/the-powers-of-the-priesthood?lang=eng\n",
            "Successfully fetched https://www.churchofjesuschrist.org/study/general-conference/2018/04/it-is-all-about-people?lang=eng\n",
            "Successfully fetched https://www.churchofjesuschrist.org/study/general-conference/2018/04/let-us-all-press-on?lang=eng\n",
            "Successfully fetched https://www.churchofjesuschrist.org/study/general-conference/2018/04/take-the-holy-spirit-as-your-guide?lang=eng\n",
            "Successfully fetched https://www.churchofjesuschrist.org/study/general-conference/2018/04/the-elders-quorum?lang=eng\n",
            "Successfully fetched https://www.churchofjesuschrist.org/study/general-conference/2018/04/behold-the-man?lang=engSuccessfully fetched https://www.churchofjesuschrist.org/study/general-conference/2018/04/his-spirit-to-be-with-you?lang=eng\n",
            "\n",
            "Successfully fetched https://www.churchofjesuschrist.org/study/general-conference/2018/04/family-history-and-temple-work-sealing-and-healing?lang=eng\n"
          ]
        },
        {
          "output_type": "stream",
          "name": "stderr",
          "text": [
            "\rScraping talks in parallel:  94%|█████████▍| 481/513 [00:54<00:04,  7.60it/s]"
          ]
        },
        {
          "output_type": "stream",
          "name": "stdout",
          "text": [
            "Successfully fetched https://www.churchofjesuschrist.org/study/general-conference/2018/04/saturday-morning-session?lang=eng\n",
            "Successfully fetched https://www.churchofjesuschrist.org/study/general-conference/2018/04/be-with-and-strengthen-them?lang=eng\n"
          ]
        },
        {
          "output_type": "stream",
          "name": "stderr",
          "text": [
            "\rScraping talks in parallel:  95%|█████████▌| 488/513 [00:55<00:02, 10.66it/s]"
          ]
        },
        {
          "output_type": "stream",
          "name": "stdout",
          "text": [
            "Successfully fetched https://www.churchofjesuschrist.org/study/general-conference/2018/04/even-as-christ-forgives-you-so-also-do-ye?lang=eng\n",
            "Successfully fetched https://www.churchofjesuschrist.org/study/general-conference/2018/04/ministering-with-the-power-and-authority-of-god?lang=eng\n"
          ]
        },
        {
          "output_type": "stream",
          "name": "stderr",
          "text": [
            "\rScraping talks in parallel:  96%|█████████▌| 492/513 [00:55<00:01, 11.28it/s]"
          ]
        },
        {
          "output_type": "stream",
          "name": "stdout",
          "text": [
            "Successfully fetched https://www.churchofjesuschrist.org/study/general-conference/2018/04/revelation-for-the-church-revelation-for-our-lives?lang=eng\n",
            "Successfully fetched https://www.churchofjesuschrist.org/study/general-conference/2018/04/young-women-in-the-work?lang=eng\n",
            "Successfully fetched https://www.churchofjesuschrist.org/study/general-conference/2018/04/one-more-day?lang=eng\n",
            "Successfully fetched https://www.churchofjesuschrist.org/study/general-conference/2018/04/small-and-simple-things?lang=eng\n",
            "Successfully fetched https://www.churchofjesuschrist.org/study/general-conference/2018/04/prophets-speak-by-the-power-of-the-holy-spirit?lang=eng\n",
            "Successfully fetched https://www.churchofjesuschrist.org/study/general-conference/2018/04/ministering-as-the-savior-does?lang=eng\n",
            "Successfully fetched https://www.churchofjesuschrist.org/study/general-conference/2018/04/meek-and-lowly-of-heart?lang=eng\n",
            "Successfully fetched https://www.churchofjesuschrist.org/study/general-conference/2018/04/prepare-to-meet-god?lang=eng\n"
          ]
        },
        {
          "output_type": "stream",
          "name": "stderr",
          "text": [
            "Scraping talks in parallel:  97%|█████████▋| 496/513 [00:56<00:02,  7.43it/s]"
          ]
        },
        {
          "output_type": "stream",
          "name": "stdout",
          "text": [
            "Successfully fetched https://www.churchofjesuschrist.org/study/general-conference/2018/04/am-i-a-child-of-god?lang=eng\n",
            "Successfully fetched https://www.churchofjesuschrist.org/study/general-conference/2018/04/solemn-assembly?lang=eng\n"
          ]
        },
        {
          "output_type": "stream",
          "name": "stderr",
          "text": [
            "\rScraping talks in parallel:  97%|█████████▋| 500/513 [00:56<00:01,  7.40it/s]"
          ]
        },
        {
          "output_type": "stream",
          "name": "stdout",
          "text": [
            "Successfully fetched https://www.churchofjesuschrist.org/study/general-conference/2018/04/until-seventy-times-seven?lang=eng\n",
            "Successfully fetched https://www.churchofjesuschrist.org/study/general-conference/2018/04/introductory-remarks?lang=eng\n",
            "Successfully fetched https://www.churchofjesuschrist.org/study/general-conference/2018/04/the-heart-of-a-prophet?lang=eng\n",
            "Successfully fetched https://www.churchofjesuschrist.org/study/general-conference/2018/04/with-one-accord?lang=eng\n"
          ]
        },
        {
          "output_type": "stream",
          "name": "stderr",
          "text": [
            "\rScraping talks in parallel:  98%|█████████▊| 505/513 [00:57<00:00, 10.65it/s]"
          ]
        },
        {
          "output_type": "stream",
          "name": "stdout",
          "text": [
            "Successfully fetched https://www.churchofjesuschrist.org/study/general-conference/2018/04/he-that-shall-endure-unto-the-end-the-same-shall-be-saved?lang=eng\n",
            "Successfully fetched https://www.churchofjesuschrist.org/study/general-conference/2018/04/teaching-in-the-home-a-joyful-and-sacred-responsibility?lang=eng\n"
          ]
        },
        {
          "output_type": "stream",
          "name": "stderr",
          "text": [
            "Scraping talks in parallel:  99%|█████████▉| 509/513 [00:57<00:00,  9.45it/s]"
          ]
        },
        {
          "output_type": "stream",
          "name": "stdout",
          "text": [
            "Successfully fetched https://www.churchofjesuschrist.org/study/general-conference/2018/04/precious-gifts-from-god?lang=eng\n"
          ]
        },
        {
          "output_type": "stream",
          "name": "stderr",
          "text": [
            "Scraping talks in parallel: 100%|██████████| 513/513 [00:58<00:00,  8.81it/s]"
          ]
        },
        {
          "output_type": "stream",
          "name": "stdout",
          "text": [
            "Successfully fetched https://www.churchofjesuschrist.org/study/general-conference/2018/04/what-every-aaronic-priesthood-holder-needs-to-understand?lang=eng\n",
            "Successfully fetched https://www.churchofjesuschrist.org/study/general-conference/2018/04/the-sustaining-of-church-officers?lang=eng\n"
          ]
        },
        {
          "output_type": "stream",
          "name": "stderr",
          "text": [
            "\n"
          ]
        },
        {
          "output_type": "stream",
          "name": "stdout",
          "text": [
            "Scraping complete. Data saved to 'conference_talks.csv'.\n",
            "Data also saved to 'conference_talks.json'.\n",
            "Total time taken: 67.6446487903595 seconds\n"
          ]
        }
      ]
    },
    {
      "cell_type": "code",
      "source": [
        "from google.colab import files\n",
        "files.download('conference_talks.csv')\n"
      ],
      "metadata": {
        "colab": {
          "base_uri": "https://localhost:8080/",
          "height": 17
        },
        "id": "xUHjf5EE9Oz-",
        "outputId": "6eaaffdd-1fdb-4f79-97a1-a32082bff4ea"
      },
      "execution_count": null,
      "outputs": [
        {
          "output_type": "display_data",
          "data": {
            "text/plain": [
              "<IPython.core.display.Javascript object>"
            ],
            "application/javascript": [
              "\n",
              "    async function download(id, filename, size) {\n",
              "      if (!google.colab.kernel.accessAllowed) {\n",
              "        return;\n",
              "      }\n",
              "      const div = document.createElement('div');\n",
              "      const label = document.createElement('label');\n",
              "      label.textContent = `Downloading \"${filename}\": `;\n",
              "      div.appendChild(label);\n",
              "      const progress = document.createElement('progress');\n",
              "      progress.max = size;\n",
              "      div.appendChild(progress);\n",
              "      document.body.appendChild(div);\n",
              "\n",
              "      const buffers = [];\n",
              "      let downloaded = 0;\n",
              "\n",
              "      const channel = await google.colab.kernel.comms.open(id);\n",
              "      // Send a message to notify the kernel that we're ready.\n",
              "      channel.send({})\n",
              "\n",
              "      for await (const message of channel.messages) {\n",
              "        // Send a message to notify the kernel that we're ready.\n",
              "        channel.send({})\n",
              "        if (message.buffers) {\n",
              "          for (const buffer of message.buffers) {\n",
              "            buffers.push(buffer);\n",
              "            downloaded += buffer.byteLength;\n",
              "            progress.value = downloaded;\n",
              "          }\n",
              "        }\n",
              "      }\n",
              "      const blob = new Blob(buffers, {type: 'application/binary'});\n",
              "      const a = document.createElement('a');\n",
              "      a.href = window.URL.createObjectURL(blob);\n",
              "      a.download = filename;\n",
              "      div.appendChild(a);\n",
              "      a.click();\n",
              "      div.remove();\n",
              "    }\n",
              "  "
            ]
          },
          "metadata": {}
        },
        {
          "output_type": "display_data",
          "data": {
            "text/plain": [
              "<IPython.core.display.Javascript object>"
            ],
            "application/javascript": [
              "download(\"download_2bf64bb5-a6ca-49cf-b426-dcd7f7c95318\", \"conference_talks.csv\", 42773420)"
            ]
          },
          "metadata": {}
        }
      ]
    },
    {
      "cell_type": "markdown",
      "source": [
        "### Clean Conference Talks Data\n",
        "\n",
        "This code block performs several cleaning operations on the scraped data:\n",
        "- Removes rows with \"Church Auditing Department\" in the calling.\n",
        "- Removes unnecessary columns, like \"conference\" and \"footnotes.\"\n",
        "- Standardizes titles for speakers and callings (e.g., \"Quorum of the 12\" and \"Seventy\").\n",
        "- Ensures uniformity across callings and speaker titles.\n",
        "- Saves the cleaned data to a CSV file for easier analysis and sharing.\n",
        "\n",
        "You can run this after scraping the data to ensure consistency and uniformity across the dataset.\n"
      ],
      "metadata": {
        "id": "KwxzUhLCYp3d"
      }
    },
    {
      "cell_type": "code",
      "source": [
        "import pandas as pd\n",
        "import re\n",
        "\n",
        "def clean_conference_data(file_path):\n",
        "    # Load the CSV file\n",
        "    df = pd.read_csv(file_path)\n",
        "\n",
        "    # Step 1: Remove rows with \"Church Auditing Department\" in the \"calling\" column\n",
        "    df = df[~df['calling'].str.contains(\"Church Auditing Department\", na=False)]\n",
        "\n",
        "    # Step 2: Remove the \"conference\" column\n",
        "    df = df.drop(columns=['conference'])\n",
        "\n",
        "    # Step 3: Modify callings to standardize common names\n",
        "    # Replace \"Quorum of the Twelve Apostles\", \"twelve\", or \"12\" with \"Quorum of the 12\"\n",
        "    df['calling'] = df['calling'].str.replace(r'Q_of_12|twelve|12|Council of the 12', 'Quorum of the 12', regex=True)\n",
        "\n",
        "    # Replace all variations of \"Seventy\" (including Quorum, Assistant, Former, Released) with \"Seventy\"\n",
        "    df['calling'] = df['calling'].str.replace(r'Q_of_70|70|Assistant to the Q_of_12|First Council of the Seventy|Presidency of the First Q_of_70|Emeritus member of the Seventy|Released Member of the Seventy', 'Seventy', regex=True)\n",
        "\n",
        "    # Standardize \"President of the Church\" across all variations\n",
        "    df['calling'] = df['calling'].str.replace(r'President of The Church of Jesus Christ of Latter-day Saints|President of the Church', 'President of the Church', regex=True)\n",
        "\n",
        "    # Step 4: Remove rows with \"Presented by\" in the speaker column\n",
        "    df = df[~df['speaker'].str.contains(\"Presented by\", na=False)]\n",
        "\n",
        "    # Step 5: Remove \"morning\", \"afternoon\", \"evening\" session titles (non-talk rows)\n",
        "    df = df[~df['title'].str.contains(r'morning|afternoon|evening', case=False, na=False)]\n",
        "\n",
        "    # Step 6: Standardize \"Former\" or variations in calling titles\n",
        "    df['calling'] = df['calling'].str.replace(r'Former member of the Seventy', 'Seventy', regex=True)\n",
        "\n",
        "    # Step 7: Remove \"Elder\", \"President\", \"Sister\", \"Brother\" from speaker names\n",
        "    df['speaker'] = df['speaker'].str.replace(r'Elder|President|Sister|Brother', '', regex=True).str.strip()\n",
        "\n",
        "    # Step 8: Remove the \"footnotes\" column as it was not needed\n",
        "    if 'footnotes' in df.columns:\n",
        "        df = df.drop(columns=['footnotes'])\n",
        "\n",
        "    # Save the cleaned data to CSV\n",
        "    df.to_csv(\"cleaned_conference_talks.csv\", index=False)\n",
        "    print(\"Data cleaned and saved to 'cleaned_conference_talks.csv'.\")\n",
        "\n",
        "# Example usage\n",
        "clean_conference_data('conference_talks.csv')\n"
      ],
      "metadata": {
        "id": "Lo1nq2mfX1S5"
      },
      "execution_count": null,
      "outputs": []
    },
    {
      "cell_type": "code",
      "source": [
        "# prompt: I need to get embeddings for all the conference talks\n",
        "\n",
        "!pip install sentence-transformers\n",
        "\n",
        "import pandas as pd\n",
        "from sentence_transformers import SentenceTransformer\n",
        "\n",
        "def generate_embeddings(csv_file):\n",
        "    \"\"\"Generates and adds sentence embeddings to a CSV file of conference talks.\"\"\"\n",
        "    try:\n",
        "        # Load the CSV file into a pandas DataFrame\n",
        "        df = pd.read_csv(csv_file)\n",
        "\n",
        "        # Initialize the sentence transformer model\n",
        "        model = SentenceTransformer('all-mpnet-base-v2')\n",
        "\n",
        "        # Generate embeddings for the 'talk' column\n",
        "        df['embeddings'] = df['talk'].apply(lambda x: model.encode(x).tolist())\n",
        "\n",
        "        # Save the updated DataFrame to a new CSV file\n",
        "        df.to_csv(\"conference_talks_with_embeddings.csv\", index=False)\n",
        "        print(\"Embeddings generated and saved to 'conference_talks_with_embeddings.csv'\")\n",
        "    except Exception as e:\n",
        "        print(f\"An error occurred: {e}\")\n",
        "\n",
        "# Example usage\n",
        "generate_embeddings(\"conference_talks.csv\")\n"
      ],
      "metadata": {
        "id": "tZuMHRqGH-bt",
        "outputId": "f7f3becc-1332-4b6d-fb09-717cb5e04099",
        "colab": {
          "base_uri": "https://localhost:8080/",
          "height": 1000,
          "referenced_widgets": [
            "90d46f473f564ae384a2e6d9421b34f4",
            "2573900377c5429286ad0c88ce913c7e",
            "7027683437754b41aabc19c31356cb32",
            "7c93f579a3934b7199f4743fc59950d2",
            "263b88f0225a44fd97878b6891dc860c",
            "24256927e7954a71a27f7194c1eb5984",
            "3ec26369e6ed425b92459da055de57ae",
            "c6f09e275d894448819d068d0ca8e4b9",
            "701514c7f776497e91dc9fba0aaa766c",
            "191eb94b2d4942dbaefd8760fd20303e",
            "d390eca257d64c4da1506b07c6d2ce9e",
            "c13c6f9b5ec14a449b5e5135a0509e80",
            "6c01686f685449febcf543c1c6439695",
            "8165488b2b3e44c9b58dea7f67c0778d",
            "74f3771467a949a78fa7c88b744d4aa2",
            "8b41db1006c047fabe3e0cf5589b20bf",
            "8787604b573443c8b23493af629749c3",
            "6602637ae38e4bed89fe05690769b44d",
            "b11af9add457477ca4b3fafa3dc608fe",
            "0463f0d40e2945bfbaf65fbf6b3bddc2",
            "f057a2cb6cc24a2ca2e17a9f356cd326",
            "a97b0dd9d4b046ecb3ebaafd956bd5c5",
            "b7f1383fce1344a39438079f8f37f6b7",
            "a2115dc4cb8f46b69014a37a195ad857",
            "f7497d259fe74a1a9eaec6f67ff0563f",
            "dec2563c581942df8aa68b078516b096",
            "7705a3c865d94715b743bedb2f0e7206",
            "bb26cbeb249b443fb740c538341dac6f",
            "72a04a21da024f7e9deda186802258b5",
            "00b67f0815e04b48966ba403cf4197ab",
            "aa0c6a56a8d848fe841c41c7413c7282",
            "f283d22083ba4e73a88c296759597d07",
            "b5e86419f98d4a3b9fd0e4b2897d56d2",
            "490eabd079d64fdfa810cc60b193f12a",
            "1ee89adfef9441dbb4deb054266119cd",
            "30a7507b672341e4816c7ae8dea37495",
            "9f8d4d5761a24c23ba969ddd831d265d",
            "f92248590c6b4413a6992745bc577ae8",
            "3c8193067f164a7f8811c7cd40a20b7c",
            "a79319eb020045d2bfec101f62d681db",
            "f2587b4453c34b8dad9d46b46e7b0186",
            "ef2b1ce393d14353837f272ffac3be5b",
            "ec58923c1ecc4a5e89cbd2ec543b9cf6",
            "5e911412caa640538d9cf5f8846dd8c4",
            "c0924a75a38d4f3086366cea1d2e0f8a",
            "8a1c2f229ee14a9bb3ef76e0c95a7a65",
            "02cc29434e6b45328810868782186e07",
            "a5c857f114df49e5ab980da1faaccacd",
            "84144922ef544e77ae216e65a066ed0b",
            "cd46c31eaa134bd6b2d631560351c501",
            "c1a24b876b514d96985df6c830d91c29",
            "50966080b07f4d458f7247738474e4de",
            "cb931023e4e84f42879ee3dbb6183719",
            "aa8edc3b8f5c4187b0df7c65c702e137",
            "a12a566c082a4fadb78ba8a6a60834f6",
            "96cb3e152d0c4e00af51b072bc5c1cbb",
            "86d275ec8969419c89d8078f7ce2f218",
            "dca62d2f4326432fb88620b201a76dbc",
            "17c9f361f00d4cac9e9d0fa553b37d04",
            "a26d6fe6b81249209af35d9aaca14d6f",
            "4b05b3b34d3b43c1af6bc45569e135a2",
            "449e8cd5bb634aefbb905e997afa21eb",
            "e42c858f20d54b75be66322592af1815",
            "4e43cd5c0a324bf1bb321fa5f18a1a3e",
            "5e59bc485d5548408e64c411d310dcb6",
            "f94373a6be6444d6a271751912aea30f",
            "0d127381687b46f8aee66de829317545",
            "f01f8196626e4d08ad6c242b9352643f",
            "3caa7b1941bf4017b4d460c1b926ad31",
            "f7f89c6248154e5b8047e78a1c566248",
            "eaa52d6e7dd740e093fe8fb12d0e1e0c",
            "867ebc044d0e4fb7a4518a1c7eaebe8c",
            "16fbf3b5abce4f4cb7cca42ebe58f39d",
            "515be5a405ff49ebb21333e57458e350",
            "4492c5a4ab104f40a6948a7a805bd242",
            "b75f257d3f584db2b1075a0189ec2a60",
            "b46eb578a8ec4f3baa2c8d001a872b93",
            "9a3e7ecf6a6d4b51b0ee92a93ee5f480",
            "969a8411dce54ba690a33badb019c3e7",
            "99cacd8bdf5c4af8966e29428a7a342a",
            "355a1c5c7f57402cb86b6bc31730698f",
            "022b293090a14013ab8fce18004606ab",
            "524dbe79cd124e8481ce1519c0488950",
            "98b1081c9f784f5da203ca48c3d3ee5e",
            "342bd72a42a0408593979e0580c7475d",
            "2c376dadfdae473c96388c475e428f4e",
            "88f52e42d90343208fdf03a595982b0c",
            "0d86c3cac96f4f88b1d6c0a5006bf20c",
            "04f72d7d72a04110ab036cb9125ce881",
            "7a192dbfb916484aa79da79d24ead4b3",
            "50257e7b3c5a46bd89c36a17db8d7802",
            "454ece1932d548058651cd6770708cd5",
            "1b5b2a6ad7e14f029d8dde41c1bf3ce0",
            "b5e772e51beb42f5821a17f7f9731626",
            "34ee79ae15454bbabf34676674d446ef",
            "bef3825ad5b54e9f9f9a5ba4387256bc",
            "7c96d76d4dc949b29fa6b31d8ac5a049",
            "62f0accf4625453bb8ccb087684b6dbf",
            "4672de05a4d1433392dfe8771a851fce",
            "4005469728e6459abfb19a83c3e8e8e6",
            "f66c55994ba948c8a0ef46ffa832e918",
            "243613a48ca643cba92e711873952d73",
            "5ae9a52a6973475fba029abce161aa15",
            "c6ffbcca982e40d38264fd2b3073b64e",
            "7dab767ed6c54ebeba5cbcc7d65cdc11",
            "85df4d3019e44cf1aa0d00653b21e73e",
            "e029e0f317e04a14b30e60858bf8cbe6",
            "5392ead4c16944ffb3a4770f85043a8c",
            "de12048e8c85498385922255e92624ef",
            "f30cbde294a740c1891aaa21cab646d9",
            "cf7e6e1652ea478d83b27453e000a2f4",
            "fc1c0b7c9f5a476199131219ac4d90f0",
            "36609ac6a4634588a910434b29e3c010",
            "a3095a436cf34800b705447ee262a2de",
            "5acb1b97798e40fd82a01908246f161c",
            "289f890f366a4eed93d46bba4a35e4dc",
            "93af4c0f965141caac07f7e9525089be",
            "559a1f6b200d4a328dcfb61926461a74",
            "765ac513414141f5a2cd7c3f27d206f4",
            "fbd10ade9a9042fda0e0acd7cf1e55c3",
            "440e2ef084884161831a13793dc30aef"
          ]
        }
      },
      "execution_count": 11,
      "outputs": [
        {
          "output_type": "stream",
          "name": "stdout",
          "text": [
            "Requirement already satisfied: sentence-transformers in /usr/local/lib/python3.11/dist-packages (3.3.1)\n",
            "Requirement already satisfied: transformers<5.0.0,>=4.41.0 in /usr/local/lib/python3.11/dist-packages (from sentence-transformers) (4.47.1)\n",
            "Requirement already satisfied: tqdm in /usr/local/lib/python3.11/dist-packages (from sentence-transformers) (4.67.1)\n",
            "Requirement already satisfied: torch>=1.11.0 in /usr/local/lib/python3.11/dist-packages (from sentence-transformers) (2.5.1+cu124)\n",
            "Requirement already satisfied: scikit-learn in /usr/local/lib/python3.11/dist-packages (from sentence-transformers) (1.6.1)\n",
            "Requirement already satisfied: scipy in /usr/local/lib/python3.11/dist-packages (from sentence-transformers) (1.13.1)\n",
            "Requirement already satisfied: huggingface-hub>=0.20.0 in /usr/local/lib/python3.11/dist-packages (from sentence-transformers) (0.27.1)\n",
            "Requirement already satisfied: Pillow in /usr/local/lib/python3.11/dist-packages (from sentence-transformers) (11.1.0)\n",
            "Requirement already satisfied: filelock in /usr/local/lib/python3.11/dist-packages (from huggingface-hub>=0.20.0->sentence-transformers) (3.17.0)\n",
            "Requirement already satisfied: fsspec>=2023.5.0 in /usr/local/lib/python3.11/dist-packages (from huggingface-hub>=0.20.0->sentence-transformers) (2024.10.0)\n",
            "Requirement already satisfied: packaging>=20.9 in /usr/local/lib/python3.11/dist-packages (from huggingface-hub>=0.20.0->sentence-transformers) (24.2)\n",
            "Requirement already satisfied: pyyaml>=5.1 in /usr/local/lib/python3.11/dist-packages (from huggingface-hub>=0.20.0->sentence-transformers) (6.0.2)\n",
            "Requirement already satisfied: requests in /usr/local/lib/python3.11/dist-packages (from huggingface-hub>=0.20.0->sentence-transformers) (2.32.3)\n",
            "Requirement already satisfied: typing-extensions>=3.7.4.3 in /usr/local/lib/python3.11/dist-packages (from huggingface-hub>=0.20.0->sentence-transformers) (4.12.2)\n",
            "Requirement already satisfied: networkx in /usr/local/lib/python3.11/dist-packages (from torch>=1.11.0->sentence-transformers) (3.4.2)\n",
            "Requirement already satisfied: jinja2 in /usr/local/lib/python3.11/dist-packages (from torch>=1.11.0->sentence-transformers) (3.1.5)\n",
            "Requirement already satisfied: nvidia-cuda-nvrtc-cu12==12.4.127 in /usr/local/lib/python3.11/dist-packages (from torch>=1.11.0->sentence-transformers) (12.4.127)\n",
            "Requirement already satisfied: nvidia-cuda-runtime-cu12==12.4.127 in /usr/local/lib/python3.11/dist-packages (from torch>=1.11.0->sentence-transformers) (12.4.127)\n",
            "Requirement already satisfied: nvidia-cuda-cupti-cu12==12.4.127 in /usr/local/lib/python3.11/dist-packages (from torch>=1.11.0->sentence-transformers) (12.4.127)\n",
            "Requirement already satisfied: nvidia-cudnn-cu12==9.1.0.70 in /usr/local/lib/python3.11/dist-packages (from torch>=1.11.0->sentence-transformers) (9.1.0.70)\n",
            "Requirement already satisfied: nvidia-cublas-cu12==12.4.5.8 in /usr/local/lib/python3.11/dist-packages (from torch>=1.11.0->sentence-transformers) (12.4.5.8)\n",
            "Requirement already satisfied: nvidia-cufft-cu12==11.2.1.3 in /usr/local/lib/python3.11/dist-packages (from torch>=1.11.0->sentence-transformers) (11.2.1.3)\n",
            "Requirement already satisfied: nvidia-curand-cu12==10.3.5.147 in /usr/local/lib/python3.11/dist-packages (from torch>=1.11.0->sentence-transformers) (10.3.5.147)\n",
            "Requirement already satisfied: nvidia-cusolver-cu12==11.6.1.9 in /usr/local/lib/python3.11/dist-packages (from torch>=1.11.0->sentence-transformers) (11.6.1.9)\n",
            "Requirement already satisfied: nvidia-cusparse-cu12==12.3.1.170 in /usr/local/lib/python3.11/dist-packages (from torch>=1.11.0->sentence-transformers) (12.3.1.170)\n",
            "Requirement already satisfied: nvidia-nccl-cu12==2.21.5 in /usr/local/lib/python3.11/dist-packages (from torch>=1.11.0->sentence-transformers) (2.21.5)\n",
            "Requirement already satisfied: nvidia-nvtx-cu12==12.4.127 in /usr/local/lib/python3.11/dist-packages (from torch>=1.11.0->sentence-transformers) (12.4.127)\n",
            "Requirement already satisfied: nvidia-nvjitlink-cu12==12.4.127 in /usr/local/lib/python3.11/dist-packages (from torch>=1.11.0->sentence-transformers) (12.4.127)\n",
            "Requirement already satisfied: triton==3.1.0 in /usr/local/lib/python3.11/dist-packages (from torch>=1.11.0->sentence-transformers) (3.1.0)\n",
            "Requirement already satisfied: sympy==1.13.1 in /usr/local/lib/python3.11/dist-packages (from torch>=1.11.0->sentence-transformers) (1.13.1)\n",
            "Requirement already satisfied: mpmath<1.4,>=1.1.0 in /usr/local/lib/python3.11/dist-packages (from sympy==1.13.1->torch>=1.11.0->sentence-transformers) (1.3.0)\n",
            "Requirement already satisfied: numpy>=1.17 in /usr/local/lib/python3.11/dist-packages (from transformers<5.0.0,>=4.41.0->sentence-transformers) (1.26.4)\n",
            "Requirement already satisfied: regex!=2019.12.17 in /usr/local/lib/python3.11/dist-packages (from transformers<5.0.0,>=4.41.0->sentence-transformers) (2024.11.6)\n",
            "Requirement already satisfied: tokenizers<0.22,>=0.21 in /usr/local/lib/python3.11/dist-packages (from transformers<5.0.0,>=4.41.0->sentence-transformers) (0.21.0)\n",
            "Requirement already satisfied: safetensors>=0.4.1 in /usr/local/lib/python3.11/dist-packages (from transformers<5.0.0,>=4.41.0->sentence-transformers) (0.5.2)\n",
            "Requirement already satisfied: joblib>=1.2.0 in /usr/local/lib/python3.11/dist-packages (from scikit-learn->sentence-transformers) (1.4.2)\n",
            "Requirement already satisfied: threadpoolctl>=3.1.0 in /usr/local/lib/python3.11/dist-packages (from scikit-learn->sentence-transformers) (3.5.0)\n",
            "Requirement already satisfied: MarkupSafe>=2.0 in /usr/local/lib/python3.11/dist-packages (from jinja2->torch>=1.11.0->sentence-transformers) (3.0.2)\n",
            "Requirement already satisfied: charset-normalizer<4,>=2 in /usr/local/lib/python3.11/dist-packages (from requests->huggingface-hub>=0.20.0->sentence-transformers) (3.4.1)\n",
            "Requirement already satisfied: idna<4,>=2.5 in /usr/local/lib/python3.11/dist-packages (from requests->huggingface-hub>=0.20.0->sentence-transformers) (3.10)\n",
            "Requirement already satisfied: urllib3<3,>=1.21.1 in /usr/local/lib/python3.11/dist-packages (from requests->huggingface-hub>=0.20.0->sentence-transformers) (2.3.0)\n",
            "Requirement already satisfied: certifi>=2017.4.17 in /usr/local/lib/python3.11/dist-packages (from requests->huggingface-hub>=0.20.0->sentence-transformers) (2024.12.14)\n"
          ]
        },
        {
          "output_type": "stream",
          "name": "stderr",
          "text": [
            "/usr/local/lib/python3.11/dist-packages/huggingface_hub/utils/_auth.py:94: UserWarning: \n",
            "The secret `HF_TOKEN` does not exist in your Colab secrets.\n",
            "To authenticate with the Hugging Face Hub, create a token in your settings tab (https://huggingface.co/settings/tokens), set it as secret in your Google Colab and restart your session.\n",
            "You will be able to reuse this secret in all of your notebooks.\n",
            "Please note that authentication is recommended but still optional to access public models or datasets.\n",
            "  warnings.warn(\n"
          ]
        },
        {
          "output_type": "display_data",
          "data": {
            "text/plain": [
              "modules.json:   0%|          | 0.00/349 [00:00<?, ?B/s]"
            ],
            "application/vnd.jupyter.widget-view+json": {
              "version_major": 2,
              "version_minor": 0,
              "model_id": "90d46f473f564ae384a2e6d9421b34f4"
            }
          },
          "metadata": {}
        },
        {
          "output_type": "display_data",
          "data": {
            "text/plain": [
              "config_sentence_transformers.json:   0%|          | 0.00/116 [00:00<?, ?B/s]"
            ],
            "application/vnd.jupyter.widget-view+json": {
              "version_major": 2,
              "version_minor": 0,
              "model_id": "c13c6f9b5ec14a449b5e5135a0509e80"
            }
          },
          "metadata": {}
        },
        {
          "output_type": "display_data",
          "data": {
            "text/plain": [
              "README.md:   0%|          | 0.00/10.6k [00:00<?, ?B/s]"
            ],
            "application/vnd.jupyter.widget-view+json": {
              "version_major": 2,
              "version_minor": 0,
              "model_id": "b7f1383fce1344a39438079f8f37f6b7"
            }
          },
          "metadata": {}
        },
        {
          "output_type": "display_data",
          "data": {
            "text/plain": [
              "sentence_bert_config.json:   0%|          | 0.00/53.0 [00:00<?, ?B/s]"
            ],
            "application/vnd.jupyter.widget-view+json": {
              "version_major": 2,
              "version_minor": 0,
              "model_id": "490eabd079d64fdfa810cc60b193f12a"
            }
          },
          "metadata": {}
        },
        {
          "output_type": "display_data",
          "data": {
            "text/plain": [
              "config.json:   0%|          | 0.00/571 [00:00<?, ?B/s]"
            ],
            "application/vnd.jupyter.widget-view+json": {
              "version_major": 2,
              "version_minor": 0,
              "model_id": "c0924a75a38d4f3086366cea1d2e0f8a"
            }
          },
          "metadata": {}
        },
        {
          "output_type": "display_data",
          "data": {
            "text/plain": [
              "model.safetensors:   0%|          | 0.00/438M [00:00<?, ?B/s]"
            ],
            "application/vnd.jupyter.widget-view+json": {
              "version_major": 2,
              "version_minor": 0,
              "model_id": "96cb3e152d0c4e00af51b072bc5c1cbb"
            }
          },
          "metadata": {}
        },
        {
          "output_type": "display_data",
          "data": {
            "text/plain": [
              "tokenizer_config.json:   0%|          | 0.00/363 [00:00<?, ?B/s]"
            ],
            "application/vnd.jupyter.widget-view+json": {
              "version_major": 2,
              "version_minor": 0,
              "model_id": "0d127381687b46f8aee66de829317545"
            }
          },
          "metadata": {}
        },
        {
          "output_type": "display_data",
          "data": {
            "text/plain": [
              "vocab.txt:   0%|          | 0.00/232k [00:00<?, ?B/s]"
            ],
            "application/vnd.jupyter.widget-view+json": {
              "version_major": 2,
              "version_minor": 0,
              "model_id": "9a3e7ecf6a6d4b51b0ee92a93ee5f480"
            }
          },
          "metadata": {}
        },
        {
          "output_type": "display_data",
          "data": {
            "text/plain": [
              "tokenizer.json:   0%|          | 0.00/466k [00:00<?, ?B/s]"
            ],
            "application/vnd.jupyter.widget-view+json": {
              "version_major": 2,
              "version_minor": 0,
              "model_id": "04f72d7d72a04110ab036cb9125ce881"
            }
          },
          "metadata": {}
        },
        {
          "output_type": "display_data",
          "data": {
            "text/plain": [
              "special_tokens_map.json:   0%|          | 0.00/239 [00:00<?, ?B/s]"
            ],
            "application/vnd.jupyter.widget-view+json": {
              "version_major": 2,
              "version_minor": 0,
              "model_id": "4005469728e6459abfb19a83c3e8e8e6"
            }
          },
          "metadata": {}
        },
        {
          "output_type": "display_data",
          "data": {
            "text/plain": [
              "1_Pooling/config.json:   0%|          | 0.00/190 [00:00<?, ?B/s]"
            ],
            "application/vnd.jupyter.widget-view+json": {
              "version_major": 2,
              "version_minor": 0,
              "model_id": "cf7e6e1652ea478d83b27453e000a2f4"
            }
          },
          "metadata": {}
        },
        {
          "output_type": "stream",
          "name": "stdout",
          "text": [
            "Embeddings generated and saved to 'conference_talks_with_embeddings.csv'\n"
          ]
        }
      ]
    },
    {
      "cell_type": "code",
      "source": [],
      "metadata": {
        "id": "hs0Rvd7FOU4n"
      },
      "execution_count": null,
      "outputs": []
    },
    {
      "cell_type": "code",
      "source": [
        "# prompt: given a search term find the the top 3 most similar conference talks from the embeddings\n",
        "\n",
        "import pandas as pd\n",
        "from sentence_transformers import SentenceTransformer, util\n",
        "\n",
        "def find_similar_talks(search_term, top_k=3):\n",
        "    \"\"\"\n",
        "    Finds the top_k most similar conference talks to a given search term based on embeddings.\n",
        "    \"\"\"\n",
        "    try:\n",
        "        df = pd.read_csv(\"conference_talks_with_embeddings.csv\")\n",
        "\n",
        "        # Initialize the sentence transformer model (ensure it's the same as used for embedding generation)\n",
        "        model = SentenceTransformer('all-mpnet-base-v2')\n",
        "\n",
        "        # Generate embedding for the search term\n",
        "        search_embedding = model.encode(search_term)\n",
        "\n",
        "        # Calculate cosine similarity between the search term embedding and talk embeddings\n",
        "        similarities = []\n",
        "        for index, row in df.iterrows():\n",
        "            talk_embedding = row['embeddings']  # Assuming 'embeddings' column contains the embeddings\n",
        "            if isinstance(talk_embedding, str): # Handle the case where embeddings are a string\n",
        "              talk_embedding = eval(talk_embedding) # Convert back to a list of floats\n",
        "            similarity = util.cos_sim(search_embedding, talk_embedding)\n",
        "            similarities.append((index, similarity.item())) # Store index and the similarity score\n",
        "\n",
        "        # Sort talks by similarity score in descending order\n",
        "        similarities.sort(key=lambda x: x[1], reverse=True)\n",
        "\n",
        "        # Get the top_k most similar talks\n",
        "        top_talks = []\n",
        "        for index, similarity in similarities[:top_k]:\n",
        "            top_talks.append({\n",
        "                \"title\": df.iloc[index]['title'],\n",
        "                \"speaker\": df.iloc[index]['speaker'],\n",
        "                \"year\": df.iloc[index]['year'],\n",
        "                \"similarity\": similarity,\n",
        "                \"text\": df.iloc[index]['talk']\n",
        "            })\n",
        "\n",
        "        return top_talks\n",
        "\n",
        "    except FileNotFoundError:\n",
        "        print(\"Error: 'conference_talks_with_embeddings.csv' not found.\")\n",
        "        return []\n",
        "    except Exception as e:\n",
        "        print(f\"An error occurred: {e}\")\n",
        "        return []\n",
        "\n",
        "\n",
        "# Example usage\n",
        "#search_term = \"building temples\"  # Replace with your search term\n",
        "search_term = \"serious depression\"  # Replace with your search term\n",
        "similar_talks = find_similar_talks(search_term)\n",
        "\n",
        "if similar_talks:\n",
        "    print(f\"Top 3 most similar talks to '{search_term}':\")\n",
        "    for talk in similar_talks:\n",
        "        print(f\"- Title: {talk['title']}, Speaker: {talk['speaker']}, Year: {talk['year']}, Similarity: {talk['similarity']:.4f}, {talk['text']}\")\n",
        "else:\n",
        "    print(\"No similar talks found.\")\n"
      ],
      "metadata": {
        "id": "DhsrXWsKOBXa",
        "outputId": "5b1890fb-52ac-4f13-c3af-44cb51f27356",
        "colab": {
          "base_uri": "https://localhost:8080/"
        }
      },
      "execution_count": 17,
      "outputs": [
        {
          "output_type": "stream",
          "name": "stdout",
          "text": [
            "Top 3 most similar talks to 'serious depression':\n",
            "- Title: Thru Cloud and Sunshine, Lord, Abide with Me!, Speaker: By Reyna I. Aburto, Year: 2019, Similarity: 0.3296, One of our beloved hymns expresses the plea “Thru cloud and sunshine, Lord, abide with me!” I was once on a plane as it approached a large storm. Looking out the window, I could see a dense blanket of clouds below us. The rays of the setting sun reflected off the clouds, causing them to shine with intense brightness. Soon, the plane descended through the heavy clouds, and we were suddenly enveloped in a thick darkness that completely blinded us to the intense light we had witnessed just moments earlier.\n",
            "\n",
            "Black clouds may also form in our lives, which can blind us to God’s light and even cause us to question if that light exists for us anymore. Some of those clouds are of depression, anxiety, and other forms of mental and emotional affliction. They can distort the way we perceive ourselves, others, and even God. They affect women and men of all ages in all corners of the world.\n",
            "\n",
            "Likewise damaging is the desensitizing cloud of skepticism that can affect others who have not experienced these challenges. Like any part of the body, the brain is subject to illnesses, trauma, and chemical imbalances. When our minds are suffering, it is appropriate to seek help from God, from those around us, and from medical and mental health professionals.\n",
            "\n",
            "“All human beings—male and female—are created in the image of God. Each is a beloved spirit son or daughter of heavenly parents, and … each has a divine nature and destiny.” Like our Heavenly Parents and our Savior, we have a physical body and experience emotions.\n",
            "\n",
            "My dear sisters, it is normal to feel sad or worried once in a while. Sadness and anxiety are natural human emotions. However, if we are constantly sad and if our pain blocks our ability to feel the love of our Heavenly Father and His Son and the influence of the Holy Ghost, then we may be suffering from depression, anxiety, or another emotional condition.\n",
            "\n",
            "My daughter once wrote: “There was a time … [when] I was extremely sad all of the time. I always thought that sadness was something to be ashamed of, and that it was a sign of weakness. So I kept my sadness to myself. … I felt completely worthless.”\n",
            "\n",
            "A friend described it this way: “Since my early childhood, I have faced a constant battle with feelings of hopelessness, darkness, loneliness, and fear and the sense that I am broken or defective. I did everything to hide my pain and to never give the impression that I was anything but thriving and strong.”\n",
            "\n",
            "My dear friends, it can happen to any of us—especially when, as believers in the plan of happiness, we place unnecessary burdens on ourselves by thinking we need to be perfect now. Such thoughts can be overwhelming. Achieving perfection is a process that will take place throughout our mortal life and beyond—and only through the grace of Jesus Christ.\n",
            "\n",
            "In contrast, when we open up about our emotional challenges, admitting we are not perfect, we give others permission to share their struggles. Together we realize there is hope and we do not have to suffer alone.\n",
            "\n",
            "As disciples of Jesus Christ, we have made a covenant with God that we “are willing to bear one another’s burdens” and “to mourn with those that mourn.” This may include becoming informed about emotional illnesses, finding resources that can help address these struggles, and ultimately bringing ourselves and others to Christ, who is the Master Healer. Even if we do not know how to relate to what others are going through, validating that their pain is real can be an important first step in finding understanding and healing.\n",
            "\n",
            "In some cases, the cause of depression or anxiety can be identified, while other times it may be harder to discern. Our brains may suffer because of stress or staggering fatigue, which can sometimes be improved through adjustments in diet, sleep, and exercise. Other times, therapy or medication under the direction of trained professionals may also be needed.\n",
            "\n",
            "Untreated mental or emotional illness can lead to increased isolation, misunderstandings, broken relationships, self-harm, and even suicide. I know this firsthand, as my own father died by suicide many years ago. His death was shocking and heartbreaking for my family and me. It has taken me years to work through my grief, and it was only recently that I learned talking about suicide in appropriate ways actually helps to prevent it rather than encourage it. I have now openly discussed my father’s death with my children and witnessed the healing that the Savior can give on both sides of the veil.\n",
            "\n",
            "Sadly, many who suffer from severe depression distance themselves from their fellow Saints because they feel they do not fit some imaginary mold. We can help them know and feel that they do indeed belong with us. It is important to recognize that depression is not the result of weakness, nor is it usually the result of sin. It “thrives in secrecy but shrinks in empathy.” Together, we can break through the clouds of isolation and stigma so the burden of shame is lifted and miracles of healing can occur.\n",
            "\n",
            "During His mortal ministry, Jesus Christ healed the sick and the afflicted, but each person had to exercise faith in Him and act to receive His healing. Some walked for long distances, others extended their hand to touch His garment, and others had to be carried to Him in order to be healed. When it comes to healing, don’t we all need Him desperately? “Are we not all beggars?”\n",
            "\n",
            "Let us follow the Savior’s path and increase our compassion, diminish our tendency to judge, and stop being the inspectors of the spirituality of others. Listening with love is one of the greatest gifts we can offer, and we may be able to help carry or lift the heavy clouds that suffocate our loved ones and friends so that, through our love, they can once again feel the Holy Ghost and perceive the light that emanates from Jesus Christ.\n",
            "\n",
            "If you are constantly surrounded by a “mist of darkness,” turn to Heavenly Father. Nothing that you have experienced can change the eternal truth that you are His child and that He loves you. Remember that Christ is your Savior and Redeemer, and God is your Father. They understand. Picture Them close by you, listening and offering support. “[They] will console you in your afflictions.” Do all you can, and trust in the Lord’s atoning grace.\n",
            "\n",
            "Your struggles do not define you, but they can refine you. Because of a “thorn in the flesh,” you may have the ability to feel more compassion toward others. As guided by the Holy Ghost, share your story in order to “succor the weak, lift up the hands which hang down, and strengthen the feeble knees.”\n",
            "\n",
            "For those of us currently struggling or supporting someone who is struggling, let us be willing to follow God’s commandments so we may always have His Spirit with us. Let us do the “small and simple things” that will give us spiritual strength. As President Russell M. Nelson said, “Nothing opens the heavens quite like the combination of increased purity, exact obedience, earnest seeking, daily feasting on the words of Christ in the Book of Mormon, and regular time committed to temple and family history work.”\n",
            "\n",
            "Let us all remember that our Savior, Jesus Christ, “[has taken] upon him [our] infirmities, that his bowels may be filled with mercy, according to the flesh, that he may know … how to succor [us] according to [our] infirmities.” He came “to bind up the brokenhearted, … to comfort all that mourn; … to give unto them beauty for ashes, the oil of joy for mourning, the garment of praise for the spirit of heaviness.”\n",
            "\n",
            "I testify to you that “thru cloud and sunshine” the Lord will abide with us, our “afflictions [can be] swallowed up in the joy of Christ,” and “it is by grace that we are saved, after all we can do.” I testify that Jesus Christ will return to the earth “with healing in his wings.” Ultimately, He “shall wipe away all tears from [our] eyes; and there shall be no more … sorrow.” For all who will “come unto Christ, and be perfected in him,” the “sun shall no more go down; … for the Lord shall be [our] everlasting light, and the days of [our] mourning shall be ended.” In the name of Jesus Christ, amen.\n",
            "- Title: Addressing Mental Health, Speaker: By Elder Erich W. Kopischke, Year: 2021, Similarity: 0.3276, Even though our family has enjoyed rich blessings while joyfully walking the covenant path, we have also faced exceedingly high mountains. I wish to share some very personal experiences regarding mental illness. These include clinical depression, severe anxiety, bipolar disorder, ADHD—and sometimes a combination of them all. I share these tender experiences with the approval of those involved.\n",
            "\n",
            "During my ministry, I have encountered hundreds of individuals and families with similar experiences. Sometimes I wonder if the “desolating sickness” covering the land, as mentioned in the scriptures, might include mental illness.1 It is worldwide, covering every continent and culture, and affecting all—young, old, rich, and poor. Members of the Church have not been excluded.\n",
            "\n",
            "At the same time, our doctrine teaches us to strive to become like Jesus Christ and be perfected in Him. Our children sing, “I’m trying to be like Jesus.”2 We long to be perfect even as our Heavenly Father and Jesus Christ are perfect.3 Because mental illness can interfere with our perception of perfection, it remains all too often a taboo. As a result, there is too much ignorance, too much silent suffering, and too much despair. Many, feeling overwhelmed because they do not meet perceived standards, mistakenly believe they have no place in the Church.\n",
            "\n",
            "To combat such deception, it is important to remember that “the Savior loves each of His Father’s children. He fully comprehends the pain and struggle that many experience as they live with a broad range of mental health challenges. He suffered ‘pains and afflictions and temptations of every kind; … [taking] upon him the pains and the sicknesses of his people’ (Alma 7:11; emphasis added; see also Hebrews 4:15–16; 2 Nephi 9:21). Because He understands all afflictions, He knows how ‘to heal the brokenhearted’ (Luke 4:18; see also Isaiah 49:13–16).”4 Challenges often indicate a need for additional tools and support and are not a character defect.\n",
            "\n",
            "Allow me to share several observations I made as our family has passed through trials.\n",
            "\n",
            "First, many people will mourn with us; they won’t judge us. Due to severe panic attacks, anxiety, and depression, our son returned home from his mission after just four weeks. As his parents, we found it difficult to deal with disappointment and sadness because we had prayed so much for his success. Like all parents, we want our children to prosper and be happy. A mission was to be an important milestone for our son. We also wondered what other people might think.\n",
            "\n",
            "Unbeknownst to us, our son’s return was infinitely more devastating for him. Note that he loved the Lord and wanted to serve, and yet he could not for reasons he struggled to understand. He soon found himself at a point of total hopelessness, battling deep guilt. He no longer felt accepted but spiritually numb. He became consumed by recurring thoughts of death.\n",
            "\n",
            "While in this irrational state, our son believed that the only action left was to take his own life. It took the Holy Ghost and a legion of angels on both sides of the veil to save him.\n",
            "\n",
            "While he was fighting for his life and during this immensely difficult time, our family, ward leaders, members, and friends went out of their way to support and minister to us.\n",
            "\n",
            "I have never felt such an outpouring of love. I have never sensed more powerfully and in such a personal way what it means to comfort those in need of comfort. Our family will be ever grateful for that outpouring.\n",
            "\n",
            "I cannot describe the countless miracles that accompanied these events. Gratefully, our son survived, but it has taken a long time and much medical, therapeutic, and spiritual care for him to heal and to accept that he is loved, valued, and needed.\n",
            "\n",
            "I recognize that not all such incidents end like ours. I sorrow with those who have lost loved ones far too early and are now left with feelings of grief as well as unanswered questions.\n",
            "\n",
            "My next observation is that it can be difficult for parents to identify their children’s struggles, but we must educate ourselves. How can we know the difference between the difficulties associated with normal development and signs of illness? As parents, we have the sacred charge to help our children navigate life’s challenges; however, few of us are mental health specialists. We nevertheless need to care for our children by helping them learn to be content with their sincere efforts as they strive to meet appropriate expectations. Each of us knows from our own personal shortcomings that spiritual growth is an ongoing process.\n",
            "\n",
            "We now understand that “there is not a simple cure-all for emotional and mental wellness. We will experience stress and turmoil because we live in a fallen world with a fallen body. Additionally, many contributing factors may lead to a diagnosis of mental illness. Regardless of our mental and emotional well-being, focusing on growth is healthier than obsessing about our shortcomings.”5\n",
            "\n",
            "For my wife and me, the one thing that has always helped us was staying as close to the Lord as possible. In hindsight, we now see how the Lord patiently tutored us through times of great uncertainty. His light guided us step by step through the darkest hours. The Lord helped us to see that the worth of an individual soul is far more important in the eternal scheme than any earthly task or achievement.\n",
            "\n",
            "Again, educating ourselves about mental illness prepares us to help ourselves and others who might be struggling. Open and honest discussion with one another will help this important topic to receive the attention it deserves. After all, information precedes inspiration and revelation. These all-too-often invisible challenges can affect anyone, and when we are facing them, they appear insurmountable.\n",
            "\n",
            "One of the first things we need to learn is that we are certainly not alone. I invite you to study the topic of mental health in the Life Help section of the Gospel Library app. Learning will lead to more understanding, more acceptance, more compassion, more love. It can lessen tragedy while helping us develop and manage healthy expectations and healthy interactions.\n",
            "\n",
            "My final observation: we need to constantly watch over each other. We must love one another and be less judgmental—especially when our expectations are not immediately met. We should help our children and youth feel the love of Jesus Christ in their lives, even when they struggle to personally feel love for themselves. Elder Orson F. Whitney, who served as a member of the Quorum of the Twelve Apostles, counseled parents how to help struggling offspring: “Pray for your … children; hold on to them with your faith.”6\n",
            "\n",
            "I have often pondered what it means to hold on to them with faith. I believe it includes simple acts of love, meekness, kindness, and respect. It means allowing them to develop at their own pace and bearing testimony to help them feel our Savior’s love. It requires us to think more about them and less about ourselves or others. That usually means speaking less and listening much, much more. We must love them, empower them, and praise them often in their efforts to succeed and be faithful to God. And finally, we should do everything in our power to stay close to them—just as we stay close to God.\n",
            "\n",
            "For all who are personally affected by mental illness, hold fast to your covenants, even if you might not feel God’s love at this time. Do whatever lies in your power and then “stand still … to see the salvation of God, and for his arm to be revealed.”7\n",
            "\n",
            "I testify that Jesus Christ is our Savior. He knows us. He loves us, and He will wait on us. During our family’s trials, I have come to know just how close He is. His promises are true:\n",
            "\n",
            "Fear not, I am with thee; oh, be not dismayed,\n",
            "\n",
            "For I am thy God and will still give thee aid.\n",
            "\n",
            "I’ll strengthen thee, help thee, and cause thee to stand, …\n",
            "\n",
            "Upheld by my righteous, omnipotent hand.\n",
            "\n",
            "Knowing how firm our foundation is, may we ever joyfully declare:\n",
            "\n",
            "The soul that on Jesus hath leaned for repose\n",
            "\n",
            "I will not, I cannot, desert to his foes;\n",
            "\n",
            "That soul, though all hell should endeavor to shake, …\n",
            "\n",
            "I’ll never, no never, no never forsake!8\n",
            "\n",
            "In the name of Jesus Christ, amen.\n",
            "- Title: Waiting on the Lord, Speaker: By Elder Jeffrey R. Holland, Year: 2020, Similarity: 0.2659, My beloved brothers and sisters, we are all eager—no one more than I—to hear concluding remarks from our beloved prophet, President Russell M. Nelson. This has been a marvelous conference, but it is the second time that COVID-19 has altered our traditional proceedings. We are so tired of this contagion, we feel like tearing our hair out. And apparently, some of my Brethren have already taken that course of action. Please know that we do pray constantly for those who have been affected in any way, especially for any who have lost loved ones. Everyone agrees that this has gone on much, much too long.\n",
            "\n",
            "How long do we wait for relief from hardships that come upon us? What about enduring personal trials while we wait and wait, and help seems so slow in coming? Why the delay when burdens seem more than we can bear?\n",
            "\n",
            "While asking such questions, we can, if we try, hear another’s cry echoing from a dank, dark prison cell during one of the coldest winters then on record in that locale.\n",
            "\n",
            "“O God, where art thou?” we hear from the depths of Liberty Jail. “And where is the pavilion that covereth thy hiding place? How long shall thy hand be stayed?”1 How long, O Lord, how long?\n",
            "\n",
            "So, we are not the first nor will we be the last to ask such questions when sorrows bear down on us or an ache in our heart goes on and on. I am not now speaking of pandemics or prisons but of you, your family, and your neighbors who face any number of such challenges. I speak of the yearning of many who would like to be married and aren’t or who are married and wish the relationship were a little more celestial. I speak of those who have to deal with the unwanted appearance of a serious medical condition—perhaps an incurable one—or who face a lifelong battle with a genetic defect that has no remedy. I speak of the continuing struggle with emotional and mental health challenges that weigh heavily on the souls of so many who suffer with them, and on the hearts of those who love and suffer with them. I speak of the poor, whom the Savior told us never to forget, and I speak of you waiting for the return of a child, no matter what the age, who has chosen a path different from the one you prayed he or she would take.\n",
            "\n",
            "Furthermore, I acknowledge that even this long list of things for which we might wait personally does not attempt to address the large economic, political, and social concerns that confront us collectively. Our Father in Heaven clearly expects us to address these wrenching public issues as well as the personal ones, but there will be times in our lives when even our best spiritual effort and earnest, pleading prayers do not yield the victories for which we have yearned, whether that be regarding the large global matters or the small personal ones. So while we work and wait together for the answers to some of our prayers, I offer you my apostolic promise that they are heard and they are answered, though perhaps not at the time or in the way we wanted. But they are always answered at the time and in the way an omniscient and eternally compassionate parent should answer them. My beloved brothers and sisters, please understand that He who never sleeps nor slumbers2 cares for the happiness and ultimate exaltation of His children above all else that a divine being has to do. He is pure love, gloriously personified, and Merciful Father is His name.\n",
            "\n",
            "“Well, if this is the case,” you might say, “shouldn’t His love and mercy simply part our personal Red Seas and allow us to walk through our troubles on dry ground? Shouldn’t He send 21st-century seagulls winging in from somewhere to gobble up all of our pesky 21st-century crickets?”\n",
            "\n",
            "The answer to such questions is “Yes, God can provide miracles instantaneously, but sooner or later we learn that the times and seasons of our mortal journey are His and His alone to direct.” He administers that calendar to every one of us individually. For every infirm man healed instantly as he waits to enter the Pool of Bethesda,3 someone else will spend 40 years in the desert waiting to enter the promised land.4 For every Nephi and Lehi divinely protected by an encircling flame of fire for their faith,5 we have an Abinadi burned at a stake of flaming fire for his.6 And we remember that the same Elijah who in an instant called down fire from heaven to bear witness against the priests of Baal7 is the same Elijah who endured a period when there was no rain for years and who, for a time, was fed only by the skimpy sustenance that could be carried in a raven’s claw.8 By my estimation, that can’t have been anything we would call a “happy meal.”\n",
            "\n",
            "The point? The point is that faith means trusting God in good times and bad, even if that includes some suffering until we see His arm revealed in our behalf.9 That can be difficult in our modern world when many have come to believe that the highest good in life is to avoid all suffering, that no one should ever anguish over anything.10 But that belief will never lead us to “the measure of the stature of the fulness of Christ.”11\n",
            "\n",
            "With apologies to Elder Neal A. Maxwell for daring to modify and enlarge something he once said, I too suggest that “one’s life … cannot be both faith-filled and stress-free.” It simply will not work “to glide naively through life,” saying as we sip another glass of lemonade, “Lord, give me all thy choicest virtues, but be certain not to give me grief, nor sorrow, nor pain, nor opposition. Please do not let anyone dislike me or betray me, and above all, do not ever let me feel forsaken by Thee or those I love. In fact, Lord, be careful to keep me from all the experiences that made Thee divine. And then, when the rough sledding by everyone else is over, please let me come and dwell with Thee, where I can boast about how similar our strengths and our characters are as I float along on my cloud of comfortable Christianity.”12\n",
            "\n",
            "My beloved brothers and sisters, Christianity is comforting, but it is often not comfortable. The path to holiness and happiness here and hereafter is a long and sometimes rocky one. It takes time and tenacity to walk it. But, of course, the reward for doing so is monumental. This truth is taught clearly and persuasively in the 32nd chapter of Alma in the Book of Mormon. There this great high priest teaches that if the word of God is planted in our hearts as a mere seed, and if we care enough to water, weed, nourish, and encourage it, it will in the future bear fruit “which is most precious, … sweet above all that is sweet,” the consuming of which leads to a condition of no more thirst and no more hunger.13\n",
            "\n",
            "Many lessons are taught in this remarkable chapter, but central to them all is the axiom that the seed has to be nourished and we must wait for it to mature; we “[look] forward with an eye of faith to the fruit thereof.”14 Our harvest, Alma says, comes “by and by.”15 Little wonder that he concludes his remarkable instruction by repeating three times a call for diligence and patience in nurturing the word of God in our hearts, “waiting,” as he says, with “long-suffering … for the tree to bring forth fruit unto you.”16\n",
            "\n",
            "COVID and cancer, doubt and dismay, financial trouble and family trials. When will these burdens be lifted? The answer is “by and by.”17 And whether that be a short period or a long one is not always ours to say, but by the grace of God, the blessings will come to those who hold fast to the gospel of Jesus Christ. That issue was settled in a very private garden and on a very public hill in Jerusalem long ago.\n",
            "\n",
            "As we now hear our beloved prophet close this conference, may we remember, as Russell Nelson has demonstrated all of his life, that those who “wait upon the Lord shall renew their strength [and] shall mount up with wings as eagles; they shall run, and not be weary; … they shall walk, and not faint.”18 I pray that “by and by”—soon or late—those blessings will come to every one of you who seeks relief from your sorrow and freedom from your grief. I bear witness of God’s love and of the Restoration of His glorious gospel, which is, in one way or another, the answer to every issue we face in life. In the redeeming name of the Lord Jesus Christ, amen.\n"
          ]
        }
      ]
    }
  ]
}