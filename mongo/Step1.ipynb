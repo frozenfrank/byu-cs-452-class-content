{
  "cells": [
    {
      "cell_type": "markdown",
      "metadata": {
        "id": "Eu8B8XOK1Brr"
      },
      "source": [
        "## Let's learn about Mongo!\n",
        "*Learning Goal*: Using a sandbox environment create, update, and delete documents. Query documents that other students are creating at the same time. Intention is to go through this together as a class and explain syntax step by step."
      ]
    },
    {
      "cell_type": "code",
      "execution_count": null,
      "metadata": {
        "id": "2eiYtmS_1Brr"
      },
      "outputs": [],
      "source": [
        "# Install the pymongo library\n",
        "%pip install pymongo"
      ]
    },
    {
      "cell_type": "code",
      "execution_count": null,
      "metadata": {
        "id": "iZuNqYeB1Brs"
      },
      "outputs": [],
      "source": [
        "# Connect to a provided sandbox environment\n",
        "\n",
        "import pymongo\n",
        "\n",
        "user = \"class\"\n",
        "password = \"184vLpDKvOhvv528\"\n",
        "cluster = \"cluster0\"\n",
        "dnsprefix = \"wvdjn\"\n",
        "connectionUrl = f\"mongodb+srv://{user}:{password}@{cluster}.{dnsprefix}.mongodb.net/\"\n",
        "client = pymongo.MongoClient(connectionUrl)\n",
        "print(f\"Ping result: {client.admin.command('ping')}\")\n",
        "\n",
        "db = client.get_database(\"sandbox\")\n",
        "\n",
        "# accessing db.students creates or accesses the collection \"students\" within\n",
        "# the \"sandbox\" db\n",
        "students = db.students\n",
        "\n"
      ]
    },
    {
      "cell_type": "code",
      "execution_count": null,
      "metadata": {
        "id": "mzjIIWIF1Brs"
      },
      "outputs": [],
      "source": [
        "# Put your information in these variables and insert yourself into students!\n",
        "\n",
        "netId = input(\"Enter netId (this just needs to be unique): \")\n",
        "name = input(\"Your name: \")\n",
        "favorite_color = input(\"Favorite color: \")\n",
        "number = int(input(\"Number between 0 and 9 inclusive: \"))\n",
        "\n",
        "\n",
        "# Creates a dictionary object in python with your data\n",
        "number = number % 10\n",
        "me = {\n",
        "    \"_id\": netId,\n",
        "    \"name\": name,\n",
        "    \"color\": favorite_color,\n",
        "    \"num\": number\n",
        "}\n",
        "\n",
        "students.insert_one(me)"
      ]
    },
    {
      "cell_type": "code",
      "execution_count": null,
      "metadata": {
        "id": "kHpPR1_11Brs"
      },
      "outputs": [],
      "source": [
        "# Query to see yourself in the collection!\n",
        "result = students.find({\"_id\": netId})\n",
        "list(result)"
      ]
    },
    {
      "cell_type": "code",
      "execution_count": null,
      "metadata": {
        "id": "ljZ-ailR1Brs"
      },
      "outputs": [],
      "source": [
        "# Are there students who like your same color (limit to 10)\n",
        "result = students.find({\"color\": favorite_color}).limit(10)\n",
        "list(result)"
      ]
    },
    {
      "cell_type": "code",
      "execution_count": null,
      "metadata": {
        "id": "5WI_uX981Brt"
      },
      "outputs": [],
      "source": [
        "# Are there students who picked your same number? (limit to 10)\n",
        "result = students.find({\"num\": number}).limit(10)\n",
        "list(result)"
      ]
    },
    {
      "cell_type": "code",
      "execution_count": null,
      "metadata": {
        "id": "96CMayqh1Brt"
      },
      "outputs": [],
      "source": [
        "# How about we make that a little more easy to read!\n",
        "\n",
        "# use the second parameter of find which is \"project\" to limit the fields\n",
        "result = students.find(\n",
        "        {\"num\": number},  # match or find clause\n",
        "        {\"_id\":0, \"name\":1}  # project statement for changing the output\n",
        "    ).limit(10)\n",
        "list(result)"
      ]
    },
    {
      "cell_type": "code",
      "execution_count": null,
      "metadata": {
        "id": "LFWpOKTe1Brt"
      },
      "outputs": [],
      "source": [
        "# Let's update your record with more information!\n",
        "achievement = \"I can run an update!\"\n",
        "students.update_one({\"_id\": netId}, {\"$set\": {\"achievement\": achievement}})\n"
      ]
    },
    {
      "cell_type": "code",
      "execution_count": null,
      "metadata": {
        "id": "kQ14RDU21Brt"
      },
      "outputs": [],
      "source": [
        "# Let's see if the update worked!\n",
        "\n",
        "result = students.find({\"_id\": netId})\n",
        "list(result)"
      ]
    },
    {
      "cell_type": "code",
      "execution_count": null,
      "metadata": {
        "id": "xSa-T0-s1Brt"
      },
      "outputs": [],
      "source": [
        "# Let's see if anyone with similar color preference or number\n",
        "# has also been able to update their record.\n",
        "\n",
        "result = students.find({\"$or\": [{\"color\": favorite_color}, {\"num\": number}]})\n",
        "list(result)\n"
      ]
    },
    {
      "cell_type": "code",
      "execution_count": null,
      "metadata": {
        "id": "vm6u6vvc1Brt"
      },
      "outputs": [],
      "source": [
        "# Let's see who prefers bigger numbers\n",
        "\n",
        "result = students.find({\"num\": {\"$gt\": 5}}, {\"_id\":0, \"name\": 1, \"number\": 1})\n",
        "list(result)"
      ]
    },
    {
      "cell_type": "code",
      "execution_count": null,
      "metadata": {
        "id": "0BMT6Yi31Brt"
      },
      "outputs": [],
      "source": [
        "# Let's see who prefers smaller numbers\n",
        "\n",
        "result = students.find({\"num\": {\"$lt\": 5}}, {\"_id\":0, \"name\": 1, \"number\": 1})\n",
        "list(result)"
      ]
    },
    {
      "cell_type": "code",
      "execution_count": null,
      "metadata": {
        "id": "N2jY1its1Brt"
      },
      "outputs": [],
      "source": [
        "# Let's see who prefers numbers between 3 and 7 (inclusive)\n",
        "result = students.find(\n",
        "        {\n",
        "            \"$and\": [  # all conditions in this list need to be true\n",
        "                {\"num\": {\"$gte\": 3}}, # greater than or equal to 3\n",
        "                {\"num\": {\"$lte\": 7}}  # less than or equal to 7\n",
        "            ]\n",
        "        },\n",
        "        {\"_id\":0, \"name\": 1, \"number\": 1} # project out just name and number\n",
        "    )\n",
        "list(result)"
      ]
    },
    {
      "cell_type": "code",
      "execution_count": null,
      "metadata": {
        "id": "mvM8fqNo1Brt"
      },
      "outputs": [],
      "source": [
        "# What are all the distinct numbers and colors that people picked?\n",
        "print(f\"Numbers: {students.distinct('num')}\")\n",
        "print(f\"Colors: {students.distinct('color')}\")"
      ]
    },
    {
      "cell_type": "code",
      "execution_count": null,
      "metadata": {
        "id": "R95sAljO1Brt"
      },
      "outputs": [],
      "source": [
        "# Let's get serious! What goals do you have for the rest of the day?\n",
        "# Update your record with those goals! <----<<\n",
        "\n",
        "my_goals = [\n",
        "    {\"order\": 1, \"name\": \"Eat dinner\"},\n",
        "    {\"order\": 2, \"name\": \"Say my prayers\"},\n",
        "    {\"order\": 3, \"name\": \"Sleep\"},\n",
        "    # update these goals maybe add order #4? (keep the schema) <---<<\n",
        "]\n",
        "\n",
        "students.update_one(\n",
        "    {\"_id\": netId},\n",
        "    {\n",
        "        \"$set\": {\n",
        "            \"goals\": my_goals\n",
        "        }\n",
        "    }\n",
        ")\n"
      ]
    },
    {
      "cell_type": "code",
      "execution_count": null,
      "metadata": {
        "id": "nKu9LkA01Brt"
      },
      "outputs": [],
      "source": [
        "# Who's next goal \"order 1\" is something other than eating dinner?\n",
        "\n",
        "result = students.find({\n",
        "        \"goals.order\": 1,\n",
        "        \"goals.name\": {\"$ne\": \"Eat dinner\"}\n",
        "    }).limit(10)\n",
        "\n",
        "list(result)"
      ]
    },
    {
      "cell_type": "code",
      "execution_count": null,
      "metadata": {
        "id": "nHNUPkdb1Brt"
      },
      "outputs": [],
      "source": [
        "# Who's next goal \"order 1\" is eating dinner?\n",
        "\n",
        "result = students.find({\n",
        "        \"goals.order\": 1,\n",
        "        \"goals.name\": \"Eat dinner\"\n",
        "    }).limit(10)\n",
        "\n",
        "list(result)"
      ]
    },
    {
      "cell_type": "code",
      "execution_count": null,
      "metadata": {
        "id": "w3VGy3fW1Brt"
      },
      "outputs": [],
      "source": [
        "# Who has an order 4 goal and what is it? Make it look nice by just showing the requested information.\n",
        "\n",
        "result = students.find(\n",
        "    {\"goals\": {\"$elemMatch\": {\"order\": 4}}},\n",
        "    {\"name\": 1, \"goals.$\": 1, \"_id\": 0}\n",
        ")\n",
        "list(result)"
      ]
    },
    {
      "cell_type": "markdown",
      "metadata": {
        "id": "0C2mBxEN1Bru"
      },
      "source": [
        "### Explanation on the last code courtesy of ChatGPT (and formatted in markdown by GPT)\n",
        "\n",
        "**Explanation:**\n",
        "\n",
        "- `{\"goals\": {\"$elemMatch\": {\"order\": 4}}}` specifies the condition where there is at least one element in the `goals` array with order equal to 4.\n",
        "- `{\"name\": 1, \"goals.$\": 1, \"_id\": 0}` specifies the projection to include only the `name` field and the matching goal with order 4 (`goals.$` represents the matched element from the `goals` array), while excluding the `_id` field.\n",
        "\n"
      ]
    },
    {
      "cell_type": "code",
      "execution_count": null,
      "metadata": {
        "id": "07MfVtwM1Bru"
      },
      "outputs": [],
      "source": [
        "# If you'd like to preserve your record for students who were sick and\n",
        "# couldn't attend class then you are done!\n",
        "\n",
        "# If you'd like to remove your record from this dataset then uncomment the\n",
        "# following and remove it!\n",
        "\n",
        "#students.delete_one({\"_id\": netId})"
      ]
    },
    {
      "cell_type": "markdown",
      "metadata": {
        "id": "2QidPk4e1Bru"
      },
      "source": [
        "That's all we have today! Maybe you could visit the docs: https://www.mongodb.com/docs/manual/\n",
        "\n",
        "Or maybe go give chatgpt your schema and some sample code and ask it to help you write some interesting queries!"
      ]
    },
    {
      "cell_type": "code",
      "execution_count": null,
      "metadata": {
        "id": "-p_o0npG1Bru"
      },
      "outputs": [],
      "source": [
        "# Aggregation - the average number that people picked\n",
        "\n",
        "result = students.aggregate(\n",
        "    [\n",
        "        {\n",
        "            \"$group\":{\n",
        "                \"_id\": None,\n",
        "                \"nums\": {\"$avg\": \"$num\"}\n",
        "            }\n",
        "        }\n",
        "    ]\n",
        ")\n",
        "\n",
        "list(result)"
      ]
    }
  ],
  "metadata": {
    "kernelspec": {
      "display_name": "Python 3",
      "language": "python",
      "name": "python3"
    },
    "language_info": {
      "codemirror_mode": {
        "name": "ipython",
        "version": 3
      },
      "file_extension": ".py",
      "mimetype": "text/x-python",
      "name": "python",
      "nbconvert_exporter": "python",
      "pygments_lexer": "ipython3",
      "version": "3.11.3"
    },
    "colab": {
      "provenance": []
    }
  },
  "nbformat": 4,
  "nbformat_minor": 0
}