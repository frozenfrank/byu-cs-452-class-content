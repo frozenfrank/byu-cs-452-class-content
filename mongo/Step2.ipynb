{
  "cells": [
    {
      "cell_type": "markdown",
      "metadata": {
        "id": "0wBvd3pc3VuP"
      },
      "source": [
        "## Let's practice querying Mongo!\n",
        "*Learning Goal*: Use what you've learned to do mongo queries."
      ]
    },
    {
      "cell_type": "code",
      "execution_count": null,
      "metadata": {
        "id": "9PqgD3_f3VuQ"
      },
      "outputs": [],
      "source": [
        "# Install the pymongo library\n",
        "%pip install pymongo"
      ]
    },
    {
      "cell_type": "code",
      "execution_count": null,
      "metadata": {
        "id": "R99avI6v3VuQ"
      },
      "outputs": [],
      "source": [
        "# Connect to a provided sandbox environment\n",
        "\n",
        "import pymongo\n",
        "\n",
        "user = \"class\"\n",
        "password = \"184vLpDKvOhvv528\"\n",
        "cluster = \"cluster0\"\n",
        "dnsprefix = \"wvdjn\"\n",
        "connectionUrl = f\"mongodb+srv://{user}:{password}@{cluster}.{dnsprefix}.mongodb.net/\"\n",
        "client = pymongo.MongoClient(connectionUrl)\n",
        "print(f\"Ping result: {client.admin.command('ping')}\")\n",
        "\n",
        "db = client.get_database(\"movies\")\n",
        "movies = db.movies # get the movies \"collection\" from the movies \"database\"\n"
      ]
    },
    {
      "cell_type": "code",
      "execution_count": null,
      "metadata": {
        "id": "IBh92w4L3VuR"
      },
      "outputs": [],
      "source": [
        "# Look at what a sample movie doc looks like to get a sense of the schema\n",
        "\n",
        "list(movies.find({}).limit(1))"
      ]
    },
    {
      "cell_type": "markdown",
      "metadata": {
        "id": "Kp7ckBf63VuR"
      },
      "source": [
        "*In all cases please use project to limit the output to relevant and readable information!*"
      ]
    },
    {
      "cell_type": "code",
      "execution_count": null,
      "metadata": {
        "id": "AhGuHqKZ3VuR"
      },
      "outputs": [],
      "source": [
        "# 1 Find the movies titled \"Gladiator\".\n",
        "\n",
        "\n"
      ]
    },
    {
      "cell_type": "code",
      "execution_count": null,
      "metadata": {
        "id": "euOHeMcH3VuR"
      },
      "outputs": [],
      "source": [
        "# 2 List the distinct genre values of movies.\n",
        "\n",
        "\n"
      ]
    },
    {
      "cell_type": "code",
      "execution_count": null,
      "metadata": {
        "id": "6RahsY863VuR"
      },
      "outputs": [],
      "source": [
        "# 3 List just the titles of movies of \"crime\" or \"drama\" genre.\n"
      ]
    },
    {
      "cell_type": "code",
      "execution_count": null,
      "metadata": {
        "id": "d67-dKQg3VuS"
      },
      "outputs": [],
      "source": [
        "# 4 Find the list of movies directed by \"Hitchcock\", display only title and year and sort them by year (asc).\n"
      ]
    },
    {
      "cell_type": "code",
      "execution_count": null,
      "metadata": {
        "id": "4kULr6R53VuS"
      },
      "outputs": [],
      "source": [
        "# 5 List the movie titles where \"Cotillard\" played.\n"
      ]
    },
    {
      "cell_type": "code",
      "execution_count": null,
      "metadata": {
        "id": "AvX4qnXR3VuS"
      },
      "outputs": [],
      "source": [
        "# 6 List the movie titles released between 1967 and 1995 (inclusive).\n"
      ]
    },
    {
      "cell_type": "code",
      "execution_count": null,
      "metadata": {
        "id": "OIPrfdPi3VuS"
      },
      "outputs": [],
      "source": [
        "# 7 List the the movies released between 1967 and 1995 (inclusive), by displaying only title, year, director’s last name sorted by year\n"
      ]
    },
    {
      "cell_type": "code",
      "execution_count": null,
      "metadata": {
        "id": "MrbD6dF73VuS"
      },
      "outputs": [],
      "source": [
        "# 8 (Extra Credit) Find the number of movies by country sorted by count (desc), country (asc). (Hint: use aggregation)\n",
        "\n"
      ]
    },
    {
      "cell_type": "code",
      "execution_count": null,
      "metadata": {
        "id": "WP8wLkfn3VuS"
      },
      "outputs": [],
      "source": [
        "# 9 (Extra Credit) Find the number of movies by country and actor.\n",
        "#   Limit the output to actors that have appeared in more than 2 movies.\n",
        "#   Sort by count (desc), actor \"first_name last_name\" (asc)\n",
        "#   (Hint: use aggregation and unwind in the aggregation pipe)\n"
      ]
    },
    {
      "cell_type": "code",
      "execution_count": null,
      "metadata": {
        "id": "z7j6XWoa3VuS"
      },
      "outputs": [],
      "source": []
    }
  ],
  "metadata": {
    "kernelspec": {
      "display_name": "Python 3",
      "language": "python",
      "name": "python3"
    },
    "language_info": {
      "codemirror_mode": {
        "name": "ipython",
        "version": 3
      },
      "file_extension": ".py",
      "mimetype": "text/x-python",
      "name": "python",
      "nbconvert_exporter": "python",
      "pygments_lexer": "ipython3",
      "version": "3.11.3"
    },
    "colab": {
      "provenance": []
    }
  },
  "nbformat": 4,
  "nbformat_minor": 0
}